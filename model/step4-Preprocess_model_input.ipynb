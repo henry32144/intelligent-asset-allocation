{
 "cells": [
  {
   "cell_type": "markdown",
   "metadata": {},
   "source": [
    "## Import Libraries"
   ]
  },
  {
   "cell_type": "code",
   "execution_count": 141,
   "metadata": {},
   "outputs": [],
   "source": [
    "import re\n",
    "import os\n",
    "import random\n",
    "import pickle\n",
    "from collections import deque\n",
    "\n",
    "import itertools\n",
    "from itertools import chain\n",
    "from tqdm import tqdm_notebook\n",
    "from IPython.display import clear_output\n",
    "\n",
    "import numpy as np\n",
    "import pandas as pd\n",
    "import matplotlib.pyplot as plt\n",
    "import seaborn as sns"
   ]
  },
  {
   "cell_type": "markdown",
   "metadata": {},
   "source": [
    "## Read data files"
   ]
  },
  {
   "cell_type": "code",
   "execution_count": 48,
   "metadata": {},
   "outputs": [],
   "source": [
    "def read_file(ticker):\n",
    "    with open('/Users/samhsia/NCCU/碩論/Code/Paper/Data/Combine_pkl/{}_combine.pickle'.format(ticker), 'rb') as file:\n",
    "        combine_data = pickle.load(file) # combine_data -> in defaultdict(list) type\n",
    "\n",
    "    return combine_data"
   ]
  },
  {
   "cell_type": "markdown",
   "metadata": {},
   "source": [
    "## Reconstrct the training data"
   ]
  },
  {
   "cell_type": "markdown",
   "metadata": {},
   "source": [
    "```\n",
    "Step1. 以過去 k 個交易日為 input sequence。\n",
    "Step2. 將 input sequence 的 title concatenate，並結合 target 建構 DataFrame object。\n",
    "```"
   ]
  },
  {
   "cell_type": "code",
   "execution_count": 123,
   "metadata": {},
   "outputs": [],
   "source": [
    "def reconstruct(combine_dict, train_days):\n",
    "    news_to_train = []\n",
    "    target_y = []\n",
    "    date = []\n",
    "    del_index = []\n",
    "    \n",
    "    for key, value in combine_dict.items():\n",
    "        try:\n",
    "            target = value[1]\n",
    "            news = value[2:]\n",
    "            \n",
    "            if isinstance(target, int):\n",
    "                date.append(key)\n",
    "                news_to_train.append(news)\n",
    "                target_y.append(target)\n",
    "        \n",
    "        except:\n",
    "            del_index.append(key)\n",
    "\n",
    "    # 移除有新聞但沒有交易的日期\n",
    "    for key in del_index:\n",
    "        combine_dict.pop(key, None)     \n",
    "    \n",
    "    # 以 n 個交易日為 input sequence -> 使用 deque (可限制長度的 list)\n",
    "    SEQ_LEN = train_days\n",
    "    prev_news = deque(maxlen=SEQ_LEN)\n",
    "    \n",
    "    news_seperate_ndays = []\n",
    "    for idx, news in enumerate(news_to_train):\n",
    "        prev_news.append(news)\n",
    "        if len(prev_news) == SEQ_LEN:\n",
    "            n_days_news = list(prev_news)\n",
    "            n_days_news_1d = list(itertools.chain.from_iterable(n_days_news))\n",
    "            news_seperate_ndays.append(n_days_news_1d)\n",
    "    \n",
    "    x = news_seperate_ndays\n",
    "    y = target_y[train_days-1:]\n",
    "    date = date[train_days-1:]\n",
    "    \n",
    "    assert len(x) == len(y)\n",
    "    assert len(x) == len(date)\n",
    "\n",
    "    return date, x, y"
   ]
  },
  {
   "cell_type": "markdown",
   "metadata": {},
   "source": [
    "---------------------------------------------------------"
   ]
  },
  {
   "cell_type": "markdown",
   "metadata": {},
   "source": [
    "## Form the dataframe for training BERT"
   ]
  },
  {
   "cell_type": "code",
   "execution_count": 124,
   "metadata": {},
   "outputs": [],
   "source": [
    "def to_train_test_df(x, y, date, ticker):\n",
    "    news_df = pd.DataFrame({\n",
    "        'date': date,\n",
    "        'news': x,\n",
    "        'target': y,\n",
    "        'ticker': ticker\n",
    "    })\n",
    "    \n",
    "    news_df = news_df.sort_values(by='date')\n",
    "    news_df = news_df.set_index('date')\n",
    "    news_df = news_df[:'2019-11-20']\n",
    "    \n",
    "    len_df = len(news_df)\n",
    "    train_len = int(0.8*len_df)\n",
    "    \n",
    "    # 0.8 for training, 0.2 for testing\n",
    "    train_df = news_df.iloc[:train_len, :]\n",
    "    test_df = news_df.iloc[train_len:, :]\n",
    "    \n",
    "    return train_df, test_df"
   ]
  },
  {
   "cell_type": "code",
   "execution_count": 125,
   "metadata": {},
   "outputs": [],
   "source": [
    "# the element in news columns is stored in list type -> change to str and concatenate\n",
    "def from_list_to_str(x):\n",
    "    try:\n",
    "        return \" \".join(x)\n",
    "    \n",
    "    except:\n",
    "        return x"
   ]
  },
  {
   "cell_type": "code",
   "execution_count": 135,
   "metadata": {},
   "outputs": [
    {
     "data": {
      "application/vnd.jupyter.widget-view+json": {
       "model_id": "262943da5e9b4175bb1b459c8937f44e",
       "version_major": 2,
       "version_minor": 0
      },
      "text/plain": [
       "HBox(children=(IntProgress(value=0, max=7), HTML(value='')))"
      ]
     },
     "metadata": {},
     "output_type": "display_data"
    },
    {
     "name": "stdout",
     "output_type": "stream",
     "text": [
      "\n"
     ]
    }
   ],
   "source": [
    "if __name__ == '__main__':\n",
    "    tickers = ['Amazon', 'Apple', 'Google', 'J&J', 'JPMorgan', 'Microsoft', 'Visa']\n",
    "\n",
    "    train_df = pd.DataFrame({})\n",
    "    test_df = pd.DataFrame({})\n",
    "\n",
    "    for tick in tqdm_notebook(tickers):\n",
    "        combine_data = read_file(tick)   # read files\n",
    "        date, x, y = reconstruct(combine_data, train_days=5)  # reconstruct input, target\n",
    "\n",
    "        tick_train_df, tick_test_df = to_train_test_df(x, y, date, tick) # to dataframe\n",
    "        \n",
    "        # concatenate all dataframes\n",
    "        train_df = pd.concat([train_df, tick_train_df], axis=0)\n",
    "        test_df = pd.concat([test_df, tick_test_df], axis=0)\n",
    "        \n",
    "    # change list to str and concatenate\n",
    "    train_df.news = train_df.news.apply(from_list_to_str)\n",
    "    test_df.news = test_df.news.apply(from_list_to_str)\n",
    "    \n",
    "    # sort the dataframe by date\n",
    "    train_df = train_df.sort_values(by='date')\n",
    "    test_df = test_df.sort_values(by='date')\n",
    "\n",
    "    \n",
    "    # change directory\n",
    "    \n",
    "    # save it to pickle files\n",
    "    with open(r'/Users/samhsia/NCCU/碩論/Code/Paper/Data/BERT/Bert_train_5days.pickle', 'wb') as train_file:\n",
    "        pickle.dump(train_df, train_file)\n",
    "    \n",
    "    with open(r'/Users/samhsia/NCCU/碩論/Code/Paper/Data/BERT/Bert_test_5days.pickle', 'wb') as test_file:\n",
    "        pickle.dump(test_df, test_file)"
   ]
  },
  {
   "cell_type": "code",
   "execution_count": 147,
   "metadata": {},
   "outputs": [
    {
     "data": {
      "text/plain": [
       "Text(0.5, 1.0, 'Movement of the stock return')"
      ]
     },
     "execution_count": 147,
     "metadata": {},
     "output_type": "execute_result"
    },
    {
     "data": {
      "image/png": "[encoded data removed]",
      "text/plain": [
       "<Figure size 432x288 with 1 Axes>"
      ]
     },
     "metadata": {
      "needs_background": "light"
     },
     "output_type": "display_data"
    }
   ],
   "source": [
    "sns.countplot(train_df['target'])\n",
    "plt.title('Movement of the stock return')"
   ]
  },
  {
   "cell_type": "code",
   "execution_count": 148,
   "metadata": {},
   "outputs": [
    {
     "data": {
      "text/plain": [
       "Text(0.5, 1.0, 'Movement of the stock return')"
      ]
     },
     "execution_count": 148,
     "metadata": {},
     "output_type": "execute_result"
    },
    {
     "data": {
      "image/png": "[encoded data removed]",
      "text/plain": [
       "<Figure size 432x288 with 1 Axes>"
      ]
     },
     "metadata": {
      "needs_background": "light"
     },
     "output_type": "display_data"
    }
   ],
   "source": [
    "sns.countplot(test_df['target'])\n",
    "plt.title('Movement of the stock return')"
   ]
  },
  {
   "cell_type": "code",
   "execution_count": 140,
   "metadata": {},
   "outputs": [
    {
     "data": {
      "text/plain": [
       "1    3653\n",
       "0    3221\n",
       "Name: target, dtype: int64"
      ]
     },
     "execution_count": 140,
     "metadata": {},
     "output_type": "execute_result"
    }
   ],
   "source": [
    "pd.value_counts(train_df['target'])"
   ]
  },
  {
   "cell_type": "code",
   "execution_count": 138,
   "metadata": {},
   "outputs": [
    {
     "data": {
      "text/plain": [
       "1    944\n",
       "0    778\n",
       "Name: target, dtype: int64"
      ]
     },
     "execution_count": 138,
     "metadata": {},
     "output_type": "execute_result"
    }
   ],
   "source": [
    "pd.value_counts(test_df['target'])"
   ]
  }
 ],
 "metadata": {
  "kernelspec": {
   "display_name": "Python 3",
   "language": "python",
   "name": "python3"
  },
  "language_info": {
   "codemirror_mode": {
    "name": "ipython",
    "version": 3
   },
   "file_extension": ".py",
   "mimetype": "text/x-python",
   "name": "python",
   "nbconvert_exporter": "python",
   "pygments_lexer": "ipython3",
   "version": "3.7.3"
  }
 },
 "nbformat": 4,
 "nbformat_minor": 2
}
