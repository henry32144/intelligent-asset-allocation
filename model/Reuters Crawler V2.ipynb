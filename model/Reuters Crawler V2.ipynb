{
 "cells": [
  {
   "cell_type": "code",
   "execution_count": 1,
   "metadata": {},
   "outputs": [],
   "source": [
    "import joblib\n",
    "import nltk\n",
    "import time\n",
    "import random\n",
    "import datetime\n",
    "import requests\n",
    "import pandas as pd\n",
    "import numpy as np\n",
    "import matplotlib.pyplot as plt\n",
    "import seaborn as sns\n",
    "from tqdm.notebook import tqdm\n",
    "from os import path\n",
    "from dateutil import parser\n",
    "from bs4 import BeautifulSoup\n",
    "from selenium.common.exceptions import NoSuchElementException\n",
    "from selenium import webdriver"
   ]
  },
  {
   "cell_type": "code",
   "execution_count": 4,
   "metadata": {},
   "outputs": [],
   "source": [
    "class ReutersCrawlerV2:\n",
    "    \n",
    "    def __init__(self):\n",
    "        self.SP500_list = open(\"../data/SP500.txt\", 'r').read().split('\\n')\n",
    "        self.driver_path = r\"./chromedriver.exe\"\n",
    "        \n",
    "    def scroll_to_bottom(self):\n",
    "        old_position = 0\n",
    "        new_position = None\n",
    "\n",
    "        while new_position != old_position:\n",
    "            # Get old scroll position\n",
    "            old_position = self.driver.execute_script(\n",
    "                    (\"return (window.pageYOffset !== undefined) ?\"\n",
    "                     \" window.pageYOffset : (document.documentElement ||\"\n",
    "                     \" document.body.parentNode || document.body);\"))\n",
    "            # Scroll down page\n",
    "            time.sleep(1)\n",
    "            self.driver.execute_script((\n",
    "                    \"var scrollingElement = (document.scrollingElement ||\"\n",
    "                    \" document.body);scrollingElement.scrollTop =\"\n",
    "                    \" scrollingElement.scrollHeight;\"))\n",
    "            time.sleep(random.randint(2, 4))\n",
    "            # Get new position\n",
    "            new_position = self.driver.execute_script(\n",
    "                    (\"return (window.pageYOffset !== undefined) ?\"\n",
    "                     \" window.pageYOffset : (document.documentElement ||\"\n",
    "                     \" document.body.parentNode || document.body);\"))\n",
    "            \n",
    "    def get_article_and_time(self, url):\n",
    "        article, name, date = None, None, None\n",
    "        res = requests.get(url)\n",
    "        soup = BeautifulSoup(res.text, \"html.parser\")\n",
    "        article_body = soup.find(name=\"div\", attrs={\"class\": \"StandardArticleBody_body\"})\n",
    "        article = \"\".join([p.text for p in article_body.find_all(\"p\", text=True) if article_body is not None])\n",
    "        if soup.find(name=\"div\", attrs={\"class\": \"ArticleHeader_date\"}) is not None: \n",
    "            date = soup.find(name=\"div\", attrs={\"class\": \"ArticleHeader_date\"}).text\n",
    "            date = date.split(\"/\")[0] + date.split(\"/\")[1]\n",
    "            date = pd.to_datetime(date)\n",
    "        \n",
    "        return article, date\n",
    "            \n",
    "    def parse(self):\n",
    "        df = pd.DataFrame()\n",
    "        for url in tqdm(self.SP500_list):\n",
    "            try: \n",
    "                self.driver = webdriver.Chrome(self.driver_path)\n",
    "                self.driver.get(url)\n",
    "                time.sleep(random.randint(1, 2))\n",
    "                self.scroll_to_bottom()\n",
    "                soup = BeautifulSoup(self.driver.page_source, \"html.parser\")\n",
    "                self.driver.quit()\n",
    "                table = soup.find(name=\"div\", attrs={\"class\": \"FeedScroll-feed-container-106s7\"})\n",
    "\n",
    "                url_list = []\n",
    "                for block in table.find_all(name=\"div\", attrs={\"class\": \"item\"}):\n",
    "                    news_title = block.find(name=\"a\").text\n",
    "                    news_summary = block.find(name=\"p\").text\n",
    "                    news_url = block.find(name=\"a\").get(\"href\")\n",
    "                    query = str(url.split(\"/\")[-1])\n",
    "                    article, date = self.get_article_and_name_and_time(news_url)\n",
    "                    url_list.append([date, news_title, news_summary, article, news_url, query])\n",
    "\n",
    "                df_temp = pd.DataFrame(url_list)\n",
    "                df = pd.concat([df, df_temp], axis=0)\n",
    "            except: \n",
    "                pass\n",
    "            \n",
    "        df.columns = [\"date\", \"title\", \"summary\", \"article\", \"url\", \"query\"]\n",
    "        joblib.dump(df, \"../data/sp500_temp.bin\", compress=3)\n",
    "        return df"
   ]
  },
  {
   "cell_type": "code",
   "execution_count": 5,
   "metadata": {},
   "outputs": [
    {
     "data": {
      "application/vnd.jupyter.widget-view+json": {
       "model_id": "bf1a92053a3a4bf0a596cb3c29bb7234",
       "version_major": 2,
       "version_minor": 0
      },
      "text/plain": [
       "HBox(children=(FloatProgress(value=0.0), HTML(value='')))"
      ]
     },
     "metadata": {},
     "output_type": "display_data"
    },
    {
     "name": "stdout",
     "output_type": "stream",
     "text": [
      "\n"
     ]
    }
   ],
   "source": [
    "crawler = ReutersCrawlerV2()\n",
    "df = crawler.parse()"
   ]
  },
  {
   "cell_type": "code",
   "execution_count": 12,
   "metadata": {},
   "outputs": [],
   "source": [
    "df = df.drop(labels=\"company\", axis=1)"
   ]
  },
  {
   "cell_type": "code",
   "execution_count": 13,
   "metadata": {},
   "outputs": [
    {
     "data": {
      "text/html": [
       "<div>\n",
       "<style scoped>\n",
       "    .dataframe tbody tr th:only-of-type {\n",
       "        vertical-align: middle;\n",
       "    }\n",
       "\n",
       "    .dataframe tbody tr th {\n",
       "        vertical-align: top;\n",
       "    }\n",
       "\n",
       "    .dataframe thead th {\n",
       "        text-align: right;\n",
       "    }\n",
       "</style>\n",
       "<table border=\"1\" class=\"dataframe\">\n",
       "  <thead>\n",
       "    <tr style=\"text-align: right;\">\n",
       "      <th></th>\n",
       "      <th>date</th>\n",
       "      <th>title</th>\n",
       "      <th>summary</th>\n",
       "      <th>article</th>\n",
       "      <th>url</th>\n",
       "      <th>query</th>\n",
       "    </tr>\n",
       "  </thead>\n",
       "  <tbody>\n",
       "    <tr>\n",
       "      <th>0</th>\n",
       "      <td>2020-07-15 23:46:00</td>\n",
       "      <td>Apple settles East Texas patent case, drops la...</td>\n",
       "      <td>Apple Inc has agreed to settle a lawsuit accus...</td>\n",
       "      <td>Apple Inc has agreed to settle a lawsuit accus...</td>\n",
       "      <td>https://www.reuters.com/article/ip-patent-appl...</td>\n",
       "      <td>AAPL.OQ</td>\n",
       "    </tr>\n",
       "    <tr>\n",
       "      <th>1</th>\n",
       "      <td>2020-07-15 17:16:00</td>\n",
       "      <td>Apple expands news offerings with audio, local...</td>\n",
       "      <td>Apple Inc &lt;AAPL.O&gt; on Wednesday expanded its n...</td>\n",
       "      <td>Apple says it has 125 million monthly active u...</td>\n",
       "      <td>https://www.reuters.com/article/us-apple-news/...</td>\n",
       "      <td>AAPL.OQ</td>\n",
       "    </tr>\n",
       "    <tr>\n",
       "      <th>2</th>\n",
       "      <td>2020-07-15 09:17:00</td>\n",
       "      <td>Blow for EU as Apple wins fight against $15 bi...</td>\n",
       "      <td>Apple scored a major win on Wednesday as Europ...</td>\n",
       "      <td>LUXEMBOURG/DUBLIN (Reuters) - Apple scored a m...</td>\n",
       "      <td>https://www.reuters.com/article/us-eu-apple-ta...</td>\n",
       "      <td>AAPL.OQ</td>\n",
       "    </tr>\n",
       "    <tr>\n",
       "      <th>3</th>\n",
       "      <td>2020-07-15 15:03:00</td>\n",
       "      <td>Breakingviews - Apple tax win flags EU problem...</td>\n",
       "      <td>The victor of a battle can still end up losing...</td>\n",
       "      <td>LONDON (Reuters Breakingviews) - The victor of...</td>\n",
       "      <td>https://www.reuters.com/article/us-eu-apple-ta...</td>\n",
       "      <td>AAPL.OQ</td>\n",
       "    </tr>\n",
       "    <tr>\n",
       "      <th>4</th>\n",
       "      <td>2020-07-15 09:37:00</td>\n",
       "      <td>Ireland welcomes annulling of EU Apple tax order</td>\n",
       "      <td>Ireland welcomed the judgment by Europe's seco...</td>\n",
       "      <td>DUBLIN (Reuters) - Ireland welcomed the judgme...</td>\n",
       "      <td>https://www.reuters.com/article/us-eu-apple-ta...</td>\n",
       "      <td>AAPL.OQ</td>\n",
       "    </tr>\n",
       "  </tbody>\n",
       "</table>\n",
       "</div>"
      ],
      "text/plain": [
       "                 date                                              title  \\\n",
       "0 2020-07-15 23:46:00  Apple settles East Texas patent case, drops la...   \n",
       "1 2020-07-15 17:16:00  Apple expands news offerings with audio, local...   \n",
       "2 2020-07-15 09:17:00  Blow for EU as Apple wins fight against $15 bi...   \n",
       "3 2020-07-15 15:03:00  Breakingviews - Apple tax win flags EU problem...   \n",
       "4 2020-07-15 09:37:00   Ireland welcomes annulling of EU Apple tax order   \n",
       "\n",
       "                                             summary  \\\n",
       "0  Apple Inc has agreed to settle a lawsuit accus...   \n",
       "1  Apple Inc <AAPL.O> on Wednesday expanded its n...   \n",
       "2  Apple scored a major win on Wednesday as Europ...   \n",
       "3  The victor of a battle can still end up losing...   \n",
       "4  Ireland welcomed the judgment by Europe's seco...   \n",
       "\n",
       "                                             article  \\\n",
       "0  Apple Inc has agreed to settle a lawsuit accus...   \n",
       "1  Apple says it has 125 million monthly active u...   \n",
       "2  LUXEMBOURG/DUBLIN (Reuters) - Apple scored a m...   \n",
       "3  LONDON (Reuters Breakingviews) - The victor of...   \n",
       "4  DUBLIN (Reuters) - Ireland welcomed the judgme...   \n",
       "\n",
       "                                                 url    query  \n",
       "0  https://www.reuters.com/article/ip-patent-appl...  AAPL.OQ  \n",
       "1  https://www.reuters.com/article/us-apple-news/...  AAPL.OQ  \n",
       "2  https://www.reuters.com/article/us-eu-apple-ta...  AAPL.OQ  \n",
       "3  https://www.reuters.com/article/us-eu-apple-ta...  AAPL.OQ  \n",
       "4  https://www.reuters.com/article/us-eu-apple-ta...  AAPL.OQ  "
      ]
     },
     "execution_count": 13,
     "metadata": {},
     "output_type": "execute_result"
    }
   ],
   "source": [
    "df.head()"
   ]
  },
  {
   "cell_type": "code",
   "execution_count": 14,
   "metadata": {},
   "outputs": [
    {
     "data": {
      "text/plain": [
       "['sp500_temp.bin']"
      ]
     },
     "execution_count": 14,
     "metadata": {},
     "output_type": "execute_result"
    }
   ],
   "source": [
    "joblib.dump(df, \"sp500_temp.bin\", compress=3)"
   ]
  },
  {
   "cell_type": "code",
   "execution_count": 24,
   "metadata": {},
   "outputs": [
    {
     "data": {
      "image/png": "[encoded data removed]",
      "text/plain": [
       "<Figure size 1080x432 with 1 Axes>"
      ]
     },
     "metadata": {
      "needs_background": "light"
     },
     "output_type": "display_data"
    }
   ],
   "source": [
    "import matplotlib.pyplot as plt\n",
    "import seaborn as sns\n",
    "\n",
    "plt.figure(figsize=(15, 6))\n",
    "sns.distplot(df.title.apply(len), label=\"Title Length\")\n",
    "sns.distplot(df.summary.apply(len), label=\"Summary Length\")\n",
    "sns.distplot(df.article.apply(len), label=\"Article Length\")\n",
    "plt.legend()\n",
    "plt.xlabel(\"Length\")\n",
    "plt.xlim((0, 2500))\n",
    "plt.grid()\n",
    "plt.show()"
   ]
  },
  {
   "cell_type": "code",
   "execution_count": 20,
   "metadata": {},
   "outputs": [
    {
     "data": {
      "text/plain": [
       "Timestamp('2016-01-28 21:06:00')"
      ]
     },
     "execution_count": 20,
     "metadata": {},
     "output_type": "execute_result"
    }
   ],
   "source": [
    "df.date.min()"
   ]
  },
  {
   "cell_type": "code",
   "execution_count": 21,
   "metadata": {},
   "outputs": [
    {
     "data": {
      "text/plain": [
       "Timestamp('2020-07-18 21:03:00')"
      ]
     },
     "execution_count": 21,
     "metadata": {},
     "output_type": "execute_result"
    }
   ],
   "source": [
    "df.date.max()"
   ]
  },
  {
   "cell_type": "code",
   "execution_count": 22,
   "metadata": {},
   "outputs": [
    {
     "data": {
      "image/png": "[encoded data removed]",
      "text/plain": [
       "<Figure size 1080x288 with 1 Axes>"
      ]
     },
     "metadata": {
      "needs_background": "light"
     },
     "output_type": "display_data"
    }
   ],
   "source": [
    "df['date_only'] = df['date'].dt.date\n",
    "plt.figure(figsize=(15, 4))\n",
    "sns.countplot(df.date_only)\n",
    "frame = plt.gca()\n",
    "frame.axes.get_xaxis().set_visible(False)\n",
    "frame.axes.xaxis.set_ticklabels([])\n",
    "plt.title(\"News count over time\")\n",
    "plt.grid()\n",
    "plt.show()"
   ]
  },
  {
   "cell_type": "code",
   "execution_count": null,
   "metadata": {},
   "outputs": [],
   "source": []
  }
 ],
 "metadata": {
  "kernelspec": {
   "display_name": "wj",
   "language": "python",
   "name": "wj"
  },
  "language_info": {
   "codemirror_mode": {
    "name": "ipython",
    "version": 3
   },
   "file_extension": ".py",
   "mimetype": "text/x-python",
   "name": "python",
   "nbconvert_exporter": "python",
   "pygments_lexer": "ipython3",
   "version": "3.7.3"
  }
 },
 "nbformat": 4,
 "nbformat_minor": 4
}
