{
 "cells": [
  {
   "cell_type": "code",
   "execution_count": 1,
   "metadata": {},
   "outputs": [],
   "source": [
    "import joblib\n",
    "import nltk\n",
    "import time\n",
    "import random\n",
    "import datetime\n",
    "import requests\n",
    "import pandas as pd\n",
    "import numpy as np\n",
    "import matplotlib.pyplot as plt\n",
    "import seaborn as sns\n",
    "from tqdm.notebook import tqdm\n",
    "from os import path\n",
    "from dateutil import parser\n",
    "from bs4 import BeautifulSoup\n",
    "from selenium.common.exceptions import NoSuchElementException\n",
    "from selenium import webdriver"
   ]
  },
  {
   "cell_type": "code",
   "execution_count": 2,
   "metadata": {},
   "outputs": [],
   "source": [
    "SP500_list = open(\"../data/SP500.txt\", 'r').read().split('\\n')\n",
    "driver_path = r\"./chromedriver.exe\""
   ]
  },
  {
   "cell_type": "code",
   "execution_count": 3,
   "metadata": {},
   "outputs": [],
   "source": [
    "def scroll_to_bottom():\n",
    "    old_position = 0\n",
    "    new_position = None\n",
    "\n",
    "    while new_position != old_position:\n",
    "        # Get old scroll position\n",
    "        old_position = driver.execute_script(\n",
    "                (\"return (window.pageYOffset !== undefined) ?\"\n",
    "                 \" window.pageYOffset : (document.documentElement ||\"\n",
    "                 \" document.body.parentNode || document.body);\"))\n",
    "        # Sleep and Scroll\n",
    "        time.sleep(1)\n",
    "        driver.execute_script((\n",
    "                \"var scrollingElement = (document.scrollingElement ||\"\n",
    "                \" document.body);scrollingElement.scrollTop =\"\n",
    "                \" scrollingElement.scrollHeight;\"))\n",
    "        time.sleep(2 + random.random())\n",
    "        # Get new position\n",
    "        new_position = driver.execute_script(\n",
    "                (\"return (window.pageYOffset !== undefined) ?\"\n",
    "                 \" window.pageYOffset : (document.documentElement ||\"\n",
    "                 \" document.body.parentNode || document.body);\"))"
   ]
  },
  {
   "cell_type": "code",
   "execution_count": 11,
   "metadata": {},
   "outputs": [],
   "source": [
    "class ReutersCrawlerV1:\n",
    "    \"\"\"\n",
    "    Parameters:\n",
    "        query: str\n",
    "        \n",
    "    Example:\n",
    "        RC = Reuters_Crawler()\n",
    "        df = RC.parse_to_dataframe(query=\"Google\")\n",
    "    \"\"\"\n",
    "    def __init__(self):\n",
    "        self.driver_path = r\"./chromedriver.exe\"\n",
    "        self.next_button = '//*[@id=\"content\"]/section[2]/div/div[1]/div[4]/div/div[4]/div[1]'\n",
    "    \n",
    "    def parse_to_dataframe(self, query):\n",
    "        \"\"\"\n",
    "        Parameters:\n",
    "            query: str\n",
    "        \"\"\"\n",
    "        # Open driver\n",
    "        self.query = query\n",
    "        self.url = \"https://www.reuters.com/search/news?blob={}&dateRange=all\".format(query)\n",
    "        self.driver = webdriver.Chrome(self.driver_path)\n",
    "        self.driver.get(self.url)\n",
    "        time.sleep(2)\n",
    "        # Scroll down page\n",
    "        self.scroll_to_bottom()\n",
    "        # Parsing\n",
    "        soup = BeautifulSoup(self.driver.page_source, \"html.parser\")\n",
    "        self.driver.quit()\n",
    "        news_list = soup.find_all(name=\"div\", attrs={\"class\": \"search-result-content\"})\n",
    "        news_list_generator = self.get_news_list(news_list)\n",
    "        df = pd.DataFrame(list(news_list_generator), columns=[\"title\", \"date\", \"query\", \"url\"])\n",
    "        df = df.drop_duplicates(subset=\"title\")\n",
    "        df[\"date\"] = pd.to_datetime(df[\"date\"], utc=True)\n",
    "        return df\n",
    "                \n",
    "    def check_exists_by_xpath(self, xpath):\n",
    "        try:\n",
    "            self.driver.find_element_by_xpath(xpath)\n",
    "        except NoSuchElementException:\n",
    "            return False\n",
    "        return True\n",
    "\n",
    "    def scroll_to_bottom(self):\n",
    "        old_position = 0\n",
    "        new_position = None\n",
    "\n",
    "        while new_position != old_position:\n",
    "            # Get old scroll position\n",
    "            old_position = self.driver.execute_script(\n",
    "                    (\"return (window.pageYOffset !== undefined) ?\"\n",
    "                     \" window.pageYOffset : (document.documentElement ||\"\n",
    "                     \" document.body.parentNode || document.body);\"))\n",
    "            # Sleep and Scroll\n",
    "            time.sleep(1)\n",
    "            self.driver.execute_script((\n",
    "                    \"var scrollingElement = (document.scrollingElement ||\"\n",
    "                    \" document.body);scrollingElement.scrollTop =\"\n",
    "                    \" scrollingElement.scrollHeight;\"))\n",
    "            time.sleep(2 + random.random())\n",
    "            self.driver.find_element_by_xpath(self.next_button).click()\n",
    "            time.sleep(2 + random.random())\n",
    "            # Get new position\n",
    "            new_position = self.driver.execute_script(\n",
    "                    (\"return (window.pageYOffset !== undefined) ?\"\n",
    "                     \" window.pageYOffset : (document.documentElement ||\"\n",
    "                     \" document.body.parentNode || document.body);\"))\n",
    "    \n",
    "    def get_news_list(self, news_list):\n",
    "        for i in range(len(news_list)):\n",
    "            title = news_list[i].find(name=\"a\").text\n",
    "            date = news_list[i].find(name=\"h5\", attrs={\"class\": \"search-result-timestamp\"}).text\n",
    "            date = parser.parse(date, tzinfos={\"EDT\": \"UTC-8\", \"EST\": \"UTC-8\"})\n",
    "            url = news_list[i].find(name=\"a\").get(\"href\")\n",
    "            url = \"https://www.reuters.com\" + url\n",
    "            yield [title, date, self.query, url]"
   ]
  },
  {
   "cell_type": "code",
   "execution_count": 6,
   "metadata": {},
   "outputs": [
    {
     "data": {
      "application/vnd.jupyter.widget-view+json": {
       "model_id": "e9c68680e7af4fe9a8dbd281efbbb0c1",
       "version_major": 2,
       "version_minor": 0
      },
      "text/plain": [
       "HBox(children=(FloatProgress(value=0.0), HTML(value='')))"
      ]
     },
     "metadata": {},
     "output_type": "display_data"
    },
    {
     "name": "stdout",
     "output_type": "stream",
     "text": [
      "\n"
     ]
    }
   ],
   "source": [
    "for url in tqdm(SP500_list):\n",
    "    driver = webdriver.Chrome(driver_path)\n",
    "    driver.get(url)\n",
    "    time.sleep(1 + random.random())\n",
    "    # scroll_to_bottom()\n",
    "    soup = BeautifulSoup(driver.page_source, \"html.parser\")\n",
    "    driver.quit()\n",
    "    table = soup.find(name=\"div\", attrs={\"class\": \"FeedScroll-feed-container-106s7\"})\n",
    "    if table is None:\n",
    "        print(url)\n",
    "    driver.quit()"
   ]
  },
  {
   "cell_type": "code",
   "execution_count": 8,
   "metadata": {},
   "outputs": [
    {
     "data": {
      "application/vnd.jupyter.widget-view+json": {
       "model_id": "0e367c52ba5540b0839228a0af809499",
       "version_major": 2,
       "version_minor": 0
      },
      "text/plain": [
       "HBox(children=(FloatProgress(value=0.0), HTML(value='')))"
      ]
     },
     "metadata": {},
     "output_type": "display_data"
    },
    {
     "name": "stdout",
     "output_type": "stream",
     "text": [
      "\n"
     ]
    }
   ],
   "source": [
    "company_list = []\n",
    "for url in tqdm(SP500_list):\n",
    "    res = requests.get(url, timeout=5)\n",
    "    soup = BeautifulSoup(res.text, \"html.parser\")\n",
    "    company = soup.find(\"div\", attrs={\"class\": \"QuoteRibbon-name-ric-epp2J\"}).find(\"h1\").text\n",
    "    company_list.append(company)"
   ]
  },
  {
   "cell_type": "code",
   "execution_count": 15,
   "metadata": {},
   "outputs": [
    {
     "data": {
      "application/vnd.jupyter.widget-view+json": {
       "model_id": "0578a9c8d5b14f92a2b76b17417261b1",
       "version_major": 2,
       "version_minor": 0
      },
      "text/plain": [
       "HBox(children=(FloatProgress(value=0.0), HTML(value='')))"
      ]
     },
     "metadata": {},
     "output_type": "display_data"
    },
    {
     "name": "stderr",
     "output_type": "stream",
     "text": [
      "C:\\Users\\YangWang\\Anaconda3\\envs\\nlp\\lib\\site-packages\\dateutil\\parser\\_parser.py:1218: UnknownTimezoneWarning: tzname EST identified but not understood.  Pass `tzinfos` argument in order to correctly return a timezone-aware datetime.  In a future version, this will raise an exception.\n",
      "  category=UnknownTimezoneWarning)\n"
     ]
    },
    {
     "name": "stdout",
     "output_type": "stream",
     "text": [
      "AT&T Inc.\n",
      "3M Co\n",
      "Fidelity National Information Servcs Inc\n",
      "ServiceNow Inc\n",
      "\n"
     ]
    }
   ],
   "source": [
    "df = pd.DataFrame()\n",
    "for query in tqdm(company_list):\n",
    "    try: \n",
    "        RC = ReutersCrawlerV1()\n",
    "        df_temp = RC.parse_to_dataframe(query=query)\n",
    "        df = pd.concat([df, df_temp], axis=0)\n",
    "    except: \n",
    "        print(query)"
   ]
  },
  {
   "cell_type": "code",
   "execution_count": 16,
   "metadata": {},
   "outputs": [
    {
     "data": {
      "text/html": [
       "<div>\n",
       "<style scoped>\n",
       "    .dataframe tbody tr th:only-of-type {\n",
       "        vertical-align: middle;\n",
       "    }\n",
       "\n",
       "    .dataframe tbody tr th {\n",
       "        vertical-align: top;\n",
       "    }\n",
       "\n",
       "    .dataframe thead th {\n",
       "        text-align: right;\n",
       "    }\n",
       "</style>\n",
       "<table border=\"1\" class=\"dataframe\">\n",
       "  <thead>\n",
       "    <tr style=\"text-align: right;\">\n",
       "      <th></th>\n",
       "      <th>title</th>\n",
       "      <th>date</th>\n",
       "      <th>query</th>\n",
       "      <th>url</th>\n",
       "    </tr>\n",
       "  </thead>\n",
       "  <tbody>\n",
       "    <tr>\n",
       "      <th>0</th>\n",
       "      <td>BRIEF-Apple Inc Says Not Allowing Entertainmen...</td>\n",
       "      <td>2020-03-15 02:16:00+00:00</td>\n",
       "      <td>Apple Inc.</td>\n",
       "      <td>https://www.reuters.com/article/idUSFWN2B61K2</td>\n",
       "    </tr>\n",
       "    <tr>\n",
       "      <th>1</th>\n",
       "      <td>Apple signs multi-year deals with major music ...</td>\n",
       "      <td>2020-03-12 21:46:00+00:00</td>\n",
       "      <td>Apple Inc.</td>\n",
       "      <td>https://www.reuters.com/article/idUSKBN20Z33J</td>\n",
       "    </tr>\n",
       "    <tr>\n",
       "      <th>2</th>\n",
       "      <td>Apple signs multi-year deals with major music ...</td>\n",
       "      <td>2020-03-12 21:39:00+00:00</td>\n",
       "      <td>Apple Inc.</td>\n",
       "      <td>https://www.reuters.com/article/idUSL4N2B54T2</td>\n",
       "    </tr>\n",
       "    <tr>\n",
       "      <th>3</th>\n",
       "      <td>Chinese regulators remove 'Plague Inc' game fr...</td>\n",
       "      <td>2020-02-28 05:16:00+00:00</td>\n",
       "      <td>Apple Inc.</td>\n",
       "      <td>https://www.reuters.com/article/idUSKCN20M043</td>\n",
       "    </tr>\n",
       "    <tr>\n",
       "      <th>4</th>\n",
       "      <td>UPDATE 1-Chinese regulators remove 'Plague Inc...</td>\n",
       "      <td>2020-02-28 01:31:00+00:00</td>\n",
       "      <td>Apple Inc.</td>\n",
       "      <td>https://www.reuters.com/article/idUSL3N2AS0OO</td>\n",
       "    </tr>\n",
       "    <tr>\n",
       "      <th>...</th>\n",
       "      <td>...</td>\n",
       "      <td>...</td>\n",
       "      <td>...</td>\n",
       "      <td>...</td>\n",
       "    </tr>\n",
       "    <tr>\n",
       "      <th>389</th>\n",
       "      <td>Britain mulls replacing corporate CO2 scheme</td>\n",
       "      <td>2012-03-21 23:04:00+00:00</td>\n",
       "      <td>Target Corporation</td>\n",
       "      <td>https://www.reuters.com/article/idUSBRE82K0VK2...</td>\n",
       "    </tr>\n",
       "    <tr>\n",
       "      <th>391</th>\n",
       "      <td>Switzerland proposes scrapping some corporate ...</td>\n",
       "      <td>2014-09-22 18:52:00+00:00</td>\n",
       "      <td>Target Corporation</td>\n",
       "      <td>https://www.reuters.com/article/idUSKCN0HH21F2...</td>\n",
       "    </tr>\n",
       "    <tr>\n",
       "      <th>392</th>\n",
       "      <td>China tightens oversight of corporate bills-so...</td>\n",
       "      <td>2012-06-07 17:42:00+00:00</td>\n",
       "      <td>Target Corporation</td>\n",
       "      <td>https://www.reuters.com/article/idUSL3E8H774U2...</td>\n",
       "    </tr>\n",
       "    <tr>\n",
       "      <th>398</th>\n",
       "      <td>RESEARCH ALERT-Danaher: Bernstein raises price...</td>\n",
       "      <td>2013-11-20 06:15:00+00:00</td>\n",
       "      <td>Target Corporation</td>\n",
       "      <td>https://www.reuters.com/article/idUSWNBB035N62...</td>\n",
       "    </tr>\n",
       "    <tr>\n",
       "      <th>399</th>\n",
       "      <td>Shine comes off European corporate market</td>\n",
       "      <td>2016-03-15 19:05:00+00:00</td>\n",
       "      <td>Target Corporation</td>\n",
       "      <td>https://www.reuters.com/article/idUSL5N16N2S4</td>\n",
       "    </tr>\n",
       "  </tbody>\n",
       "</table>\n",
       "<p>126510 rows × 4 columns</p>\n",
       "</div>"
      ],
      "text/plain": [
       "                                                 title  \\\n",
       "0    BRIEF-Apple Inc Says Not Allowing Entertainmen...   \n",
       "1    Apple signs multi-year deals with major music ...   \n",
       "2    Apple signs multi-year deals with major music ...   \n",
       "3    Chinese regulators remove 'Plague Inc' game fr...   \n",
       "4    UPDATE 1-Chinese regulators remove 'Plague Inc...   \n",
       "..                                                 ...   \n",
       "389       Britain mulls replacing corporate CO2 scheme   \n",
       "391  Switzerland proposes scrapping some corporate ...   \n",
       "392  China tightens oversight of corporate bills-so...   \n",
       "398  RESEARCH ALERT-Danaher: Bernstein raises price...   \n",
       "399          Shine comes off European corporate market   \n",
       "\n",
       "                         date               query  \\\n",
       "0   2020-03-15 02:16:00+00:00          Apple Inc.   \n",
       "1   2020-03-12 21:46:00+00:00          Apple Inc.   \n",
       "2   2020-03-12 21:39:00+00:00          Apple Inc.   \n",
       "3   2020-02-28 05:16:00+00:00          Apple Inc.   \n",
       "4   2020-02-28 01:31:00+00:00          Apple Inc.   \n",
       "..                        ...                 ...   \n",
       "389 2012-03-21 23:04:00+00:00  Target Corporation   \n",
       "391 2014-09-22 18:52:00+00:00  Target Corporation   \n",
       "392 2012-06-07 17:42:00+00:00  Target Corporation   \n",
       "398 2013-11-20 06:15:00+00:00  Target Corporation   \n",
       "399 2016-03-15 19:05:00+00:00  Target Corporation   \n",
       "\n",
       "                                                   url  \n",
       "0        https://www.reuters.com/article/idUSFWN2B61K2  \n",
       "1        https://www.reuters.com/article/idUSKBN20Z33J  \n",
       "2        https://www.reuters.com/article/idUSL4N2B54T2  \n",
       "3        https://www.reuters.com/article/idUSKCN20M043  \n",
       "4        https://www.reuters.com/article/idUSL3N2AS0OO  \n",
       "..                                                 ...  \n",
       "389  https://www.reuters.com/article/idUSBRE82K0VK2...  \n",
       "391  https://www.reuters.com/article/idUSKCN0HH21F2...  \n",
       "392  https://www.reuters.com/article/idUSL3E8H774U2...  \n",
       "398  https://www.reuters.com/article/idUSWNBB035N62...  \n",
       "399      https://www.reuters.com/article/idUSL5N16N2S4  \n",
       "\n",
       "[126510 rows x 4 columns]"
      ]
     },
     "execution_count": 16,
     "metadata": {},
     "output_type": "execute_result"
    }
   ],
   "source": [
    "df"
   ]
  },
  {
   "cell_type": "code",
   "execution_count": 17,
   "metadata": {},
   "outputs": [
    {
     "data": {
      "text/plain": [
       "['../data/sp500_top100_v1.bin']"
      ]
     },
     "execution_count": 17,
     "metadata": {},
     "output_type": "execute_result"
    }
   ],
   "source": [
    "joblib.dump(df, \"../data/sp500_top100_v1.bin\", compress=5)"
   ]
  },
  {
   "cell_type": "code",
   "execution_count": null,
   "metadata": {},
   "outputs": [
    {
     "data": {
      "application/vnd.jupyter.widget-view+json": {
       "model_id": "0a530be23de04ee28af76c9ed2033dfe",
       "version_major": 2,
       "version_minor": 0
      },
      "text/plain": [
       "HBox(children=(FloatProgress(value=0.0, max=4.0), HTML(value='')))"
      ]
     },
     "metadata": {},
     "output_type": "display_data"
    }
   ],
   "source": [
    "ce_list = [\"AT%26T+Inc.\", \"3M\", \"Fidelity National Information\", \"ServiceNow\"]\n",
    "\n",
    "for query in tqdm(ce_list):\n",
    "    try: \n",
    "        RC = ReutersCrawlerV1()\n",
    "        df_temp = RC.parse_to_dataframe(query=query)\n",
    "        df = pd.concat([df, df_temp], axis=0)\n",
    "    except: \n",
    "        print(query)"
   ]
  },
  {
   "cell_type": "code",
   "execution_count": null,
   "metadata": {},
   "outputs": [],
   "source": []
  }
 ],
 "metadata": {
  "kernelspec": {
   "display_name": "nlp",
   "language": "python",
   "name": "nlp"
  },
  "language_info": {
   "codemirror_mode": {
    "name": "ipython",
    "version": 3
   },
   "file_extension": ".py",
   "mimetype": "text/x-python",
   "name": "python",
   "nbconvert_exporter": "python",
   "pygments_lexer": "ipython3",
   "version": "3.7.3"
  }
 },
 "nbformat": 4,
 "nbformat_minor": 4
}
