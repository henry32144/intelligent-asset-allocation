{
 "cells": [
  {
   "cell_type": "code",
   "execution_count": 9,
   "metadata": {},
   "outputs": [],
   "source": [
    "import sys\n",
    "import joblib\n",
    "import logging\n",
    "import time\n",
    "import warnings\n",
    "import requests\n",
    "import multiprocessing\n",
    "import pandas as pd\n",
    "import numpy as np\n",
    "import yfinance as yf\n",
    "import pysentiment as ps\n",
    "\n",
    "from tqdm.notebook import tqdm\n",
    "from bs4 import BeautifulSoup\n",
    "from zero_shot_learner import extend_df_with_cos_sim\n",
    "from preprocessor import NewsPreprocessor\n",
    "from preprocessor import transform_df\n",
    "from contractions import contractions_dict\n",
    "from summarizer import Summarizer\n",
    "warnings.filterwarnings(\"ignore\")\n",
    "logging.basicConfig(level=logging.ERROR)\n",
    "logger = logging.getLogger()\n",
    "logger.disabled = True"
   ]
  },
  {
   "cell_type": "code",
   "execution_count": 10,
   "metadata": {},
   "outputs": [],
   "source": [
    "def add_content(url, ratio=0.8):\n",
    "    \"\"\"\n",
    "    Return:\n",
    "        res_origin: complete paragraph string\n",
    "        res_ps: important sentence string\n",
    "        res_bertsum: filtered string by BertSum\n",
    "    \"\"\"\n",
    "    headers = {\n",
    "        'user-agent': 'Mozilla/5.0 (Windows NT 6.1) AppleWebKit/537.36 \\\n",
    "        (KHTML, like Gecko) Chrome/52.0.2743.116 Safari/537.36'}\n",
    "    resp = requests.get(url, timeout=10, headers=headers)\n",
    "    soup = BeautifulSoup(resp.text, 'html.parser')\n",
    "    paragraph = soup.find_all('p')\n",
    "    paragraph = [p.text for p in paragraph]\n",
    "    paragraph = paragraph[1:-1]\n",
    "    res_origin = \"\".join(paragraph)\n",
    "    return res_origin\n",
    "\n",
    "\n",
    "class NewsPreprocessor:\n",
    "    \"\"\"\n",
    "    Data preprocessing class.\n",
    "    \"\"\"\n",
    "    def __init__(self, contractions_dict, lower=True, rm_stopwords=False):\n",
    "        \"\"\"\n",
    "        :param contractions_dict: dict\n",
    "        :param lower: bool\n",
    "        :param rm_stopwords: bool\n",
    "        \"\"\"\n",
    "        self.contractions_dict = contractions_dict\n",
    "        self.lower = lower\n",
    "        self.rm_stopwords = rm_stopwords\n",
    "\n",
    "    def remove_unicode(self, text):\n",
    "        \"\"\"\n",
    "        Removes unicode strings like \"\\u002c\" and \"x96\"\n",
    "        \"\"\"\n",
    "        text = re.sub(r'(\\\\u[0-9A-Fa-f]+)', r'', text)\n",
    "        text = re.sub(r'[^\\x00-\\x7f]', r'', text)\n",
    "        return text\n",
    "\n",
    "    # Function for expanding contractions\n",
    "    def expand_contractions(self, text, contractions_dict):\n",
    "        \"\"\"\n",
    "        Finding contractions. (e.g. you've -> you have)\n",
    "        \"\"\"\n",
    "        # Regular expression for finding contractions\n",
    "        contractions_re = re.compile('(%s)' % '|'.join(self.contractions_dict.keys()))\n",
    "\n",
    "        def replace(match):\n",
    "            return contractions_dict[match.group(0)]\n",
    "\n",
    "        return contractions_re.sub(replace, text)\n",
    "\n",
    "    def remove_stopwords(self, text):\n",
    "        pattern = re.compile(r'\\b(' + r'|'.join(stopwords.words('english')) + r')\\b\\s*')\n",
    "        text = pattern.sub('', text)\n",
    "        return text\n",
    "\n",
    "    def remove_digits(self, text):\n",
    "        nums = set(map(int, range(10)))\n",
    "        text = ''.join(i for i in text if i not in nums)\n",
    "        return text\n",
    "\n",
    "    def ultimate_clean(self, text):\n",
    "        if self.lower:\n",
    "            text = text.lower()\n",
    "        if self.rm_stopwords:\n",
    "            text = self.remove_stopwords(text)\n",
    "        text = self.remove_unicode(text)\n",
    "        text = self.expand_contractions(text, self.contractions_dict)\n",
    "        text = self.remove_digits(text)\n",
    "        return text"
   ]
  },
  {
   "cell_type": "code",
   "execution_count": 18,
   "metadata": {},
   "outputs": [
    {
     "name": "stdout",
     "output_type": "stream",
     "text": [
      "Get content...\n",
      "Start AAPL\n"
     ]
    },
    {
     "data": {
      "application/vnd.jupyter.widget-view+json": {
       "model_id": "125f594800614e45afe8c4600b96a96a",
       "version_major": 2,
       "version_minor": 0
      },
      "text/plain": [
       "HBox(children=(FloatProgress(value=0.0, description='Dask Apply', max=32.0, style=ProgressStyle(description_wi…"
      ]
     },
     "metadata": {},
     "output_type": "display_data"
    },
    {
     "name": "stdout",
     "output_type": "stream",
     "text": [
      "\n",
      "                                               title        date       query  \\\n",
      "0  BRIEF-Apple Inc Says Not Allowing Entertainmen...  2020-03-15  Apple Inc.   \n",
      "1  Apple signs multi-year deals with major music ...  2020-03-12  Apple Inc.   \n",
      "2  Apple signs multi-year deals with major music ...  2020-03-12  Apple Inc.   \n",
      "3  Chinese regulators remove 'Plague Inc' game fr...  2020-02-28  Apple Inc.   \n",
      "4  UPDATE 1-Chinese regulators remove 'Plague Inc...  2020-02-28  Apple Inc.   \n",
      "\n",
      "                                             url ticker  \\\n",
      "0  https://www.reuters.com/article/idUSFWN2B61K2   AAPL   \n",
      "1  https://www.reuters.com/article/idUSKBN20Z33J   AAPL   \n",
      "2  https://www.reuters.com/article/idUSL4N2B54T2   AAPL   \n",
      "3  https://www.reuters.com/article/idUSKCN20M043   AAPL   \n",
      "4  https://www.reuters.com/article/idUSL3N2AS0OO   AAPL   \n",
      "\n",
      "                                             content  \n",
      "0  March 14 (Reuters) - Apple Inc: * APPLE INC SA...  \n",
      "1  (Reuters) - Apple Inc has sealed multi-year li...  \n",
      "2  (Reuters) - Apple Inc has sealed multi-year li...  \n",
      "3  BEIJING/SHANGHAI (Reuters) - The video game “P...  \n",
      "4  BEIJING/SHANGHAI (Reuters) - The video game “P...  \n",
      "Start MSFT\n"
     ]
    },
    {
     "data": {
      "application/vnd.jupyter.widget-view+json": {
       "model_id": "143db209356445769f8498518ebfbb34",
       "version_major": 2,
       "version_minor": 0
      },
      "text/plain": [
       "HBox(children=(FloatProgress(value=0.0, description='Dask Apply', max=32.0, style=ProgressStyle(description_wi…"
      ]
     },
     "metadata": {},
     "output_type": "display_data"
    },
    {
     "name": "stdout",
     "output_type": "stream",
     "text": [
      "\n",
      "                                               title        date       query  \\\n",
      "0  BRIEF-Apple Inc Says Not Allowing Entertainmen...  2020-03-15  Apple Inc.   \n",
      "1  Apple signs multi-year deals with major music ...  2020-03-12  Apple Inc.   \n",
      "2  Apple signs multi-year deals with major music ...  2020-03-12  Apple Inc.   \n",
      "3  Chinese regulators remove 'Plague Inc' game fr...  2020-02-28  Apple Inc.   \n",
      "4  UPDATE 1-Chinese regulators remove 'Plague Inc...  2020-02-28  Apple Inc.   \n",
      "\n",
      "                                             url ticker  \\\n",
      "0  https://www.reuters.com/article/idUSFWN2B61K2   AAPL   \n",
      "1  https://www.reuters.com/article/idUSKBN20Z33J   AAPL   \n",
      "2  https://www.reuters.com/article/idUSL4N2B54T2   AAPL   \n",
      "3  https://www.reuters.com/article/idUSKCN20M043   AAPL   \n",
      "4  https://www.reuters.com/article/idUSL3N2AS0OO   AAPL   \n",
      "\n",
      "                                             content  \n",
      "0  March 14 (Reuters) - Apple Inc: * APPLE INC SA...  \n",
      "1  (Reuters) - Apple Inc has sealed multi-year li...  \n",
      "2  (Reuters) - Apple Inc has sealed multi-year li...  \n",
      "3  BEIJING/SHANGHAI (Reuters) - The video game “P...  \n",
      "4  BEIJING/SHANGHAI (Reuters) - The video game “P...  \n",
      "Start AMZN\n"
     ]
    },
    {
     "data": {
      "application/vnd.jupyter.widget-view+json": {
       "model_id": "1f080066988e4a44a3b264c72347f247",
       "version_major": 2,
       "version_minor": 0
      },
      "text/plain": [
       "HBox(children=(FloatProgress(value=0.0, description='Dask Apply', max=32.0, style=ProgressStyle(description_wi…"
      ]
     },
     "metadata": {},
     "output_type": "display_data"
    },
    {
     "name": "stdout",
     "output_type": "stream",
     "text": [
      "\n",
      "                                               title        date       query  \\\n",
      "0  BRIEF-Apple Inc Says Not Allowing Entertainmen...  2020-03-15  Apple Inc.   \n",
      "1  Apple signs multi-year deals with major music ...  2020-03-12  Apple Inc.   \n",
      "2  Apple signs multi-year deals with major music ...  2020-03-12  Apple Inc.   \n",
      "3  Chinese regulators remove 'Plague Inc' game fr...  2020-02-28  Apple Inc.   \n",
      "4  UPDATE 1-Chinese regulators remove 'Plague Inc...  2020-02-28  Apple Inc.   \n",
      "\n",
      "                                             url ticker  \\\n",
      "0  https://www.reuters.com/article/idUSFWN2B61K2   AAPL   \n",
      "1  https://www.reuters.com/article/idUSKBN20Z33J   AAPL   \n",
      "2  https://www.reuters.com/article/idUSL4N2B54T2   AAPL   \n",
      "3  https://www.reuters.com/article/idUSKCN20M043   AAPL   \n",
      "4  https://www.reuters.com/article/idUSL3N2AS0OO   AAPL   \n",
      "\n",
      "                                             content  \n",
      "0  March 14 (Reuters) - Apple Inc: * APPLE INC SA...  \n",
      "1  (Reuters) - Apple Inc has sealed multi-year li...  \n",
      "2  (Reuters) - Apple Inc has sealed multi-year li...  \n",
      "3  BEIJING/SHANGHAI (Reuters) - The video game “P...  \n",
      "4  BEIJING/SHANGHAI (Reuters) - The video game “P...  \n",
      "Start FB\n"
     ]
    },
    {
     "data": {
      "application/vnd.jupyter.widget-view+json": {
       "model_id": "ffa5706e4c2a40458c111bcd90bb6860",
       "version_major": 2,
       "version_minor": 0
      },
      "text/plain": [
       "HBox(children=(FloatProgress(value=0.0, description='Dask Apply', max=32.0, style=ProgressStyle(description_wi…"
      ]
     },
     "metadata": {},
     "output_type": "display_data"
    },
    {
     "name": "stdout",
     "output_type": "stream",
     "text": [
      "\n",
      "                                               title        date       query  \\\n",
      "0  BRIEF-Apple Inc Says Not Allowing Entertainmen...  2020-03-15  Apple Inc.   \n",
      "1  Apple signs multi-year deals with major music ...  2020-03-12  Apple Inc.   \n",
      "2  Apple signs multi-year deals with major music ...  2020-03-12  Apple Inc.   \n",
      "3  Chinese regulators remove 'Plague Inc' game fr...  2020-02-28  Apple Inc.   \n",
      "4  UPDATE 1-Chinese regulators remove 'Plague Inc...  2020-02-28  Apple Inc.   \n",
      "\n",
      "                                             url ticker  \\\n",
      "0  https://www.reuters.com/article/idUSFWN2B61K2   AAPL   \n",
      "1  https://www.reuters.com/article/idUSKBN20Z33J   AAPL   \n",
      "2  https://www.reuters.com/article/idUSL4N2B54T2   AAPL   \n",
      "3  https://www.reuters.com/article/idUSKCN20M043   AAPL   \n",
      "4  https://www.reuters.com/article/idUSL3N2AS0OO   AAPL   \n",
      "\n",
      "                                             content  \n",
      "0  March 14 (Reuters) - Apple Inc: * APPLE INC SA...  \n",
      "1  (Reuters) - Apple Inc has sealed multi-year li...  \n",
      "2  (Reuters) - Apple Inc has sealed multi-year li...  \n",
      "3  BEIJING/SHANGHAI (Reuters) - The video game “P...  \n",
      "4  BEIJING/SHANGHAI (Reuters) - The video game “P...  \n",
      "Start GOOG\n"
     ]
    },
    {
     "data": {
      "application/vnd.jupyter.widget-view+json": {
       "model_id": "5e0d6803155c477fb4f957ec26b13572",
       "version_major": 2,
       "version_minor": 0
      },
      "text/plain": [
       "HBox(children=(FloatProgress(value=0.0, description='Dask Apply', max=32.0, style=ProgressStyle(description_wi…"
      ]
     },
     "metadata": {},
     "output_type": "display_data"
    },
    {
     "name": "stdout",
     "output_type": "stream",
     "text": [
      "\n",
      "                                               title        date       query  \\\n",
      "0  BRIEF-Apple Inc Says Not Allowing Entertainmen...  2020-03-15  Apple Inc.   \n",
      "1  Apple signs multi-year deals with major music ...  2020-03-12  Apple Inc.   \n",
      "2  Apple signs multi-year deals with major music ...  2020-03-12  Apple Inc.   \n",
      "3  Chinese regulators remove 'Plague Inc' game fr...  2020-02-28  Apple Inc.   \n",
      "4  UPDATE 1-Chinese regulators remove 'Plague Inc...  2020-02-28  Apple Inc.   \n",
      "\n",
      "                                             url ticker  \\\n",
      "0  https://www.reuters.com/article/idUSFWN2B61K2   AAPL   \n",
      "1  https://www.reuters.com/article/idUSKBN20Z33J   AAPL   \n",
      "2  https://www.reuters.com/article/idUSL4N2B54T2   AAPL   \n",
      "3  https://www.reuters.com/article/idUSKCN20M043   AAPL   \n",
      "4  https://www.reuters.com/article/idUSL3N2AS0OO   AAPL   \n",
      "\n",
      "                                             content  \n",
      "0  March 14 (Reuters) - Apple Inc: * APPLE INC SA...  \n",
      "1  (Reuters) - Apple Inc has sealed multi-year li...  \n",
      "2  (Reuters) - Apple Inc has sealed multi-year li...  \n",
      "3  BEIJING/SHANGHAI (Reuters) - The video game “P...  \n",
      "4  BEIJING/SHANGHAI (Reuters) - The video game “P...  \n",
      "Start JNJ\n"
     ]
    },
    {
     "data": {
      "application/vnd.jupyter.widget-view+json": {
       "model_id": "b6e0bb6ab08c4357b81496a4a169046a",
       "version_major": 2,
       "version_minor": 0
      },
      "text/plain": [
       "HBox(children=(FloatProgress(value=0.0, description='Dask Apply', max=32.0, style=ProgressStyle(description_wi…"
      ]
     },
     "metadata": {},
     "output_type": "display_data"
    },
    {
     "name": "stdout",
     "output_type": "stream",
     "text": [
      "\n",
      "                                               title        date       query  \\\n",
      "0  BRIEF-Apple Inc Says Not Allowing Entertainmen...  2020-03-15  Apple Inc.   \n",
      "1  Apple signs multi-year deals with major music ...  2020-03-12  Apple Inc.   \n",
      "2  Apple signs multi-year deals with major music ...  2020-03-12  Apple Inc.   \n",
      "3  Chinese regulators remove 'Plague Inc' game fr...  2020-02-28  Apple Inc.   \n",
      "4  UPDATE 1-Chinese regulators remove 'Plague Inc...  2020-02-28  Apple Inc.   \n",
      "\n",
      "                                             url ticker  \\\n",
      "0  https://www.reuters.com/article/idUSFWN2B61K2   AAPL   \n",
      "1  https://www.reuters.com/article/idUSKBN20Z33J   AAPL   \n",
      "2  https://www.reuters.com/article/idUSL4N2B54T2   AAPL   \n",
      "3  https://www.reuters.com/article/idUSKCN20M043   AAPL   \n",
      "4  https://www.reuters.com/article/idUSL3N2AS0OO   AAPL   \n",
      "\n",
      "                                             content  \n",
      "0  March 14 (Reuters) - Apple Inc: * APPLE INC SA...  \n",
      "1  (Reuters) - Apple Inc has sealed multi-year li...  \n",
      "2  (Reuters) - Apple Inc has sealed multi-year li...  \n",
      "3  BEIJING/SHANGHAI (Reuters) - The video game “P...  \n",
      "4  BEIJING/SHANGHAI (Reuters) - The video game “P...  \n",
      "Start BRK-B\n"
     ]
    },
    {
     "data": {
      "application/vnd.jupyter.widget-view+json": {
       "model_id": "4ed71f0981eb487782eb8cb8dcb3d3ed",
       "version_major": 2,
       "version_minor": 0
      },
      "text/plain": [
       "HBox(children=(FloatProgress(value=0.0, description='Dask Apply', max=32.0, style=ProgressStyle(description_wi…"
      ]
     },
     "metadata": {},
     "output_type": "display_data"
    },
    {
     "name": "stdout",
     "output_type": "stream",
     "text": [
      "\n",
      "                                               title        date       query  \\\n",
      "0  BRIEF-Apple Inc Says Not Allowing Entertainmen...  2020-03-15  Apple Inc.   \n",
      "1  Apple signs multi-year deals with major music ...  2020-03-12  Apple Inc.   \n",
      "2  Apple signs multi-year deals with major music ...  2020-03-12  Apple Inc.   \n",
      "3  Chinese regulators remove 'Plague Inc' game fr...  2020-02-28  Apple Inc.   \n",
      "4  UPDATE 1-Chinese regulators remove 'Plague Inc...  2020-02-28  Apple Inc.   \n",
      "\n",
      "                                             url ticker  \\\n",
      "0  https://www.reuters.com/article/idUSFWN2B61K2   AAPL   \n",
      "1  https://www.reuters.com/article/idUSKBN20Z33J   AAPL   \n",
      "2  https://www.reuters.com/article/idUSL4N2B54T2   AAPL   \n",
      "3  https://www.reuters.com/article/idUSKCN20M043   AAPL   \n",
      "4  https://www.reuters.com/article/idUSL3N2AS0OO   AAPL   \n",
      "\n",
      "                                             content  \n",
      "0  March 14 (Reuters) - Apple Inc: * APPLE INC SA...  \n",
      "1  (Reuters) - Apple Inc has sealed multi-year li...  \n",
      "2  (Reuters) - Apple Inc has sealed multi-year li...  \n",
      "3  BEIJING/SHANGHAI (Reuters) - The video game “P...  \n",
      "4  BEIJING/SHANGHAI (Reuters) - The video game “P...  \n",
      "Start V\n"
     ]
    },
    {
     "data": {
      "application/vnd.jupyter.widget-view+json": {
       "model_id": "1417480c3d8f488795d4208ecec51dde",
       "version_major": 2,
       "version_minor": 0
      },
      "text/plain": [
       "HBox(children=(FloatProgress(value=0.0, description='Dask Apply', max=32.0, style=ProgressStyle(description_wi…"
      ]
     },
     "metadata": {},
     "output_type": "display_data"
    },
    {
     "name": "stdout",
     "output_type": "stream",
     "text": [
      "\n",
      "                                               title        date       query  \\\n",
      "0  BRIEF-Apple Inc Says Not Allowing Entertainmen...  2020-03-15  Apple Inc.   \n",
      "1  Apple signs multi-year deals with major music ...  2020-03-12  Apple Inc.   \n",
      "2  Apple signs multi-year deals with major music ...  2020-03-12  Apple Inc.   \n",
      "3  Chinese regulators remove 'Plague Inc' game fr...  2020-02-28  Apple Inc.   \n",
      "4  UPDATE 1-Chinese regulators remove 'Plague Inc...  2020-02-28  Apple Inc.   \n",
      "\n",
      "                                             url ticker  \\\n",
      "0  https://www.reuters.com/article/idUSFWN2B61K2   AAPL   \n",
      "1  https://www.reuters.com/article/idUSKBN20Z33J   AAPL   \n",
      "2  https://www.reuters.com/article/idUSL4N2B54T2   AAPL   \n",
      "3  https://www.reuters.com/article/idUSKCN20M043   AAPL   \n",
      "4  https://www.reuters.com/article/idUSL3N2AS0OO   AAPL   \n",
      "\n",
      "                                             content  \n",
      "0  March 14 (Reuters) - Apple Inc: * APPLE INC SA...  \n",
      "1  (Reuters) - Apple Inc has sealed multi-year li...  \n",
      "2  (Reuters) - Apple Inc has sealed multi-year li...  \n",
      "3  BEIJING/SHANGHAI (Reuters) - The video game “P...  \n",
      "4  BEIJING/SHANGHAI (Reuters) - The video game “P...  \n",
      "Start PG\n"
     ]
    },
    {
     "data": {
      "application/vnd.jupyter.widget-view+json": {
       "model_id": "4431c404e23b469c82b423167348f0bc",
       "version_major": 2,
       "version_minor": 0
      },
      "text/plain": [
       "HBox(children=(FloatProgress(value=0.0, description='Dask Apply', max=30.0, style=ProgressStyle(description_wi…"
      ]
     },
     "metadata": {},
     "output_type": "display_data"
    },
    {
     "name": "stdout",
     "output_type": "stream",
     "text": [
      "\n",
      "                                               title        date       query  \\\n",
      "0  BRIEF-Apple Inc Says Not Allowing Entertainmen...  2020-03-15  Apple Inc.   \n",
      "1  Apple signs multi-year deals with major music ...  2020-03-12  Apple Inc.   \n",
      "2  Apple signs multi-year deals with major music ...  2020-03-12  Apple Inc.   \n",
      "3  Chinese regulators remove 'Plague Inc' game fr...  2020-02-28  Apple Inc.   \n",
      "4  UPDATE 1-Chinese regulators remove 'Plague Inc...  2020-02-28  Apple Inc.   \n",
      "\n",
      "                                             url ticker  \\\n",
      "0  https://www.reuters.com/article/idUSFWN2B61K2   AAPL   \n",
      "1  https://www.reuters.com/article/idUSKBN20Z33J   AAPL   \n",
      "2  https://www.reuters.com/article/idUSL4N2B54T2   AAPL   \n",
      "3  https://www.reuters.com/article/idUSKCN20M043   AAPL   \n",
      "4  https://www.reuters.com/article/idUSL3N2AS0OO   AAPL   \n",
      "\n",
      "                                             content  \n",
      "0  March 14 (Reuters) - Apple Inc: * APPLE INC SA...  \n",
      "1  (Reuters) - Apple Inc has sealed multi-year li...  \n",
      "2  (Reuters) - Apple Inc has sealed multi-year li...  \n",
      "3  BEIJING/SHANGHAI (Reuters) - The video game “P...  \n",
      "4  BEIJING/SHANGHAI (Reuters) - The video game “P...  \n",
      "Start JPM\n"
     ]
    },
    {
     "data": {
      "application/vnd.jupyter.widget-view+json": {
       "model_id": "6fb22412e39b4dc4a83b9fd6340dd5b4",
       "version_major": 2,
       "version_minor": 0
      },
      "text/plain": [
       "HBox(children=(FloatProgress(value=0.0, description='Dask Apply', max=32.0, style=ProgressStyle(description_wi…"
      ]
     },
     "metadata": {},
     "output_type": "display_data"
    },
    {
     "name": "stdout",
     "output_type": "stream",
     "text": [
      "\n",
      "                                               title        date       query  \\\n",
      "0  BRIEF-Apple Inc Says Not Allowing Entertainmen...  2020-03-15  Apple Inc.   \n",
      "1  Apple signs multi-year deals with major music ...  2020-03-12  Apple Inc.   \n",
      "2  Apple signs multi-year deals with major music ...  2020-03-12  Apple Inc.   \n",
      "3  Chinese regulators remove 'Plague Inc' game fr...  2020-02-28  Apple Inc.   \n",
      "4  UPDATE 1-Chinese regulators remove 'Plague Inc...  2020-02-28  Apple Inc.   \n",
      "\n",
      "                                             url ticker  \\\n",
      "0  https://www.reuters.com/article/idUSFWN2B61K2   AAPL   \n",
      "1  https://www.reuters.com/article/idUSKBN20Z33J   AAPL   \n",
      "2  https://www.reuters.com/article/idUSL4N2B54T2   AAPL   \n",
      "3  https://www.reuters.com/article/idUSKCN20M043   AAPL   \n",
      "4  https://www.reuters.com/article/idUSL3N2AS0OO   AAPL   \n",
      "\n",
      "                                             content  \n",
      "0  March 14 (Reuters) - Apple Inc: * APPLE INC SA...  \n",
      "1  (Reuters) - Apple Inc has sealed multi-year li...  \n",
      "2  (Reuters) - Apple Inc has sealed multi-year li...  \n",
      "3  BEIJING/SHANGHAI (Reuters) - The video game “P...  \n",
      "4  BEIJING/SHANGHAI (Reuters) - The video game “P...  \n",
      "Start UNH\n"
     ]
    },
    {
     "data": {
      "application/vnd.jupyter.widget-view+json": {
       "model_id": "611ef3bce19b4b63b2621f6dd956cda8",
       "version_major": 2,
       "version_minor": 0
      },
      "text/plain": [
       "HBox(children=(FloatProgress(value=0.0, description='Dask Apply', max=31.0, style=ProgressStyle(description_wi…"
      ]
     },
     "metadata": {},
     "output_type": "display_data"
    },
    {
     "name": "stdout",
     "output_type": "stream",
     "text": [
      "\n",
      "                                               title        date       query  \\\n",
      "0  BRIEF-Apple Inc Says Not Allowing Entertainmen...  2020-03-15  Apple Inc.   \n",
      "1  Apple signs multi-year deals with major music ...  2020-03-12  Apple Inc.   \n",
      "2  Apple signs multi-year deals with major music ...  2020-03-12  Apple Inc.   \n",
      "3  Chinese regulators remove 'Plague Inc' game fr...  2020-02-28  Apple Inc.   \n",
      "4  UPDATE 1-Chinese regulators remove 'Plague Inc...  2020-02-28  Apple Inc.   \n",
      "\n",
      "                                             url ticker  \\\n",
      "0  https://www.reuters.com/article/idUSFWN2B61K2   AAPL   \n",
      "1  https://www.reuters.com/article/idUSKBN20Z33J   AAPL   \n",
      "2  https://www.reuters.com/article/idUSL4N2B54T2   AAPL   \n",
      "3  https://www.reuters.com/article/idUSKCN20M043   AAPL   \n",
      "4  https://www.reuters.com/article/idUSL3N2AS0OO   AAPL   \n",
      "\n",
      "                                             content  \n",
      "0  March 14 (Reuters) - Apple Inc: * APPLE INC SA...  \n",
      "1  (Reuters) - Apple Inc has sealed multi-year li...  \n",
      "2  (Reuters) - Apple Inc has sealed multi-year li...  \n",
      "3  BEIJING/SHANGHAI (Reuters) - The video game “P...  \n",
      "4  BEIJING/SHANGHAI (Reuters) - The video game “P...  \n",
      "Start HD\n"
     ]
    },
    {
     "data": {
      "application/vnd.jupyter.widget-view+json": {
       "model_id": "d2a63a5ad28e4460b5970974b3d5d3ab",
       "version_major": 2,
       "version_minor": 0
      },
      "text/plain": [
       "HBox(children=(FloatProgress(value=0.0, description='Dask Apply', max=32.0, style=ProgressStyle(description_wi…"
      ]
     },
     "metadata": {},
     "output_type": "display_data"
    },
    {
     "name": "stdout",
     "output_type": "stream",
     "text": [
      "\n",
      "                                               title        date       query  \\\n",
      "0  BRIEF-Apple Inc Says Not Allowing Entertainmen...  2020-03-15  Apple Inc.   \n",
      "1  Apple signs multi-year deals with major music ...  2020-03-12  Apple Inc.   \n",
      "2  Apple signs multi-year deals with major music ...  2020-03-12  Apple Inc.   \n",
      "3  Chinese regulators remove 'Plague Inc' game fr...  2020-02-28  Apple Inc.   \n",
      "4  UPDATE 1-Chinese regulators remove 'Plague Inc...  2020-02-28  Apple Inc.   \n",
      "\n",
      "                                             url ticker  \\\n",
      "0  https://www.reuters.com/article/idUSFWN2B61K2   AAPL   \n",
      "1  https://www.reuters.com/article/idUSKBN20Z33J   AAPL   \n",
      "2  https://www.reuters.com/article/idUSL4N2B54T2   AAPL   \n",
      "3  https://www.reuters.com/article/idUSKCN20M043   AAPL   \n",
      "4  https://www.reuters.com/article/idUSL3N2AS0OO   AAPL   \n",
      "\n",
      "                                             content  \n",
      "0  March 14 (Reuters) - Apple Inc: * APPLE INC SA...  \n",
      "1  (Reuters) - Apple Inc has sealed multi-year li...  \n",
      "2  (Reuters) - Apple Inc has sealed multi-year li...  \n",
      "3  BEIJING/SHANGHAI (Reuters) - The video game “P...  \n",
      "4  BEIJING/SHANGHAI (Reuters) - The video game “P...  \n",
      "Start MA\n"
     ]
    },
    {
     "data": {
      "application/vnd.jupyter.widget-view+json": {
       "model_id": "06295becb4114b7590df5177bdfcad5b",
       "version_major": 2,
       "version_minor": 0
      },
      "text/plain": [
       "HBox(children=(FloatProgress(value=0.0, description='Dask Apply', max=32.0, style=ProgressStyle(description_wi…"
      ]
     },
     "metadata": {},
     "output_type": "display_data"
    },
    {
     "name": "stdout",
     "output_type": "stream",
     "text": [
      "\n",
      "                                               title        date       query  \\\n",
      "0  BRIEF-Apple Inc Says Not Allowing Entertainmen...  2020-03-15  Apple Inc.   \n",
      "1  Apple signs multi-year deals with major music ...  2020-03-12  Apple Inc.   \n",
      "2  Apple signs multi-year deals with major music ...  2020-03-12  Apple Inc.   \n",
      "3  Chinese regulators remove 'Plague Inc' game fr...  2020-02-28  Apple Inc.   \n",
      "4  UPDATE 1-Chinese regulators remove 'Plague Inc...  2020-02-28  Apple Inc.   \n",
      "\n",
      "                                             url ticker  \\\n",
      "0  https://www.reuters.com/article/idUSFWN2B61K2   AAPL   \n",
      "1  https://www.reuters.com/article/idUSKBN20Z33J   AAPL   \n",
      "2  https://www.reuters.com/article/idUSL4N2B54T2   AAPL   \n",
      "3  https://www.reuters.com/article/idUSKCN20M043   AAPL   \n",
      "4  https://www.reuters.com/article/idUSL3N2AS0OO   AAPL   \n",
      "\n",
      "                                             content  \n",
      "0  March 14 (Reuters) - Apple Inc: * APPLE INC SA...  \n",
      "1  (Reuters) - Apple Inc has sealed multi-year li...  \n",
      "2  (Reuters) - Apple Inc has sealed multi-year li...  \n",
      "3  BEIJING/SHANGHAI (Reuters) - The video game “P...  \n",
      "4  BEIJING/SHANGHAI (Reuters) - The video game “P...  \n",
      "Start INTC\n"
     ]
    },
    {
     "data": {
      "application/vnd.jupyter.widget-view+json": {
       "model_id": "f60e86d3ec4b42eea63354453f314fad",
       "version_major": 2,
       "version_minor": 0
      },
      "text/plain": [
       "HBox(children=(FloatProgress(value=0.0, description='Dask Apply', max=32.0, style=ProgressStyle(description_wi…"
      ]
     },
     "metadata": {},
     "output_type": "display_data"
    },
    {
     "name": "stdout",
     "output_type": "stream",
     "text": [
      "\n",
      "                                               title        date       query  \\\n",
      "0  BRIEF-Apple Inc Says Not Allowing Entertainmen...  2020-03-15  Apple Inc.   \n",
      "1  Apple signs multi-year deals with major music ...  2020-03-12  Apple Inc.   \n",
      "2  Apple signs multi-year deals with major music ...  2020-03-12  Apple Inc.   \n",
      "3  Chinese regulators remove 'Plague Inc' game fr...  2020-02-28  Apple Inc.   \n",
      "4  UPDATE 1-Chinese regulators remove 'Plague Inc...  2020-02-28  Apple Inc.   \n",
      "\n",
      "                                             url ticker  \\\n",
      "0  https://www.reuters.com/article/idUSFWN2B61K2   AAPL   \n",
      "1  https://www.reuters.com/article/idUSKBN20Z33J   AAPL   \n",
      "2  https://www.reuters.com/article/idUSL4N2B54T2   AAPL   \n",
      "3  https://www.reuters.com/article/idUSKCN20M043   AAPL   \n",
      "4  https://www.reuters.com/article/idUSL3N2AS0OO   AAPL   \n",
      "\n",
      "                                             content  \n",
      "0  March 14 (Reuters) - Apple Inc: * APPLE INC SA...  \n",
      "1  (Reuters) - Apple Inc has sealed multi-year li...  \n",
      "2  (Reuters) - Apple Inc has sealed multi-year li...  \n",
      "3  BEIJING/SHANGHAI (Reuters) - The video game “P...  \n",
      "4  BEIJING/SHANGHAI (Reuters) - The video game “P...  \n",
      "Start NVDA\n"
     ]
    },
    {
     "data": {
      "application/vnd.jupyter.widget-view+json": {
       "model_id": "728ceba12a504a1fbaee301e7f9df48c",
       "version_major": 2,
       "version_minor": 0
      },
      "text/plain": [
       "HBox(children=(FloatProgress(value=0.0, description='Dask Apply', max=28.0, style=ProgressStyle(description_wi…"
      ]
     },
     "metadata": {},
     "output_type": "display_data"
    },
    {
     "name": "stdout",
     "output_type": "stream",
     "text": [
      "\n",
      "                                               title        date       query  \\\n",
      "0  BRIEF-Apple Inc Says Not Allowing Entertainmen...  2020-03-15  Apple Inc.   \n",
      "1  Apple signs multi-year deals with major music ...  2020-03-12  Apple Inc.   \n",
      "2  Apple signs multi-year deals with major music ...  2020-03-12  Apple Inc.   \n",
      "3  Chinese regulators remove 'Plague Inc' game fr...  2020-02-28  Apple Inc.   \n",
      "4  UPDATE 1-Chinese regulators remove 'Plague Inc...  2020-02-28  Apple Inc.   \n",
      "\n",
      "                                             url ticker  \\\n",
      "0  https://www.reuters.com/article/idUSFWN2B61K2   AAPL   \n",
      "1  https://www.reuters.com/article/idUSKBN20Z33J   AAPL   \n",
      "2  https://www.reuters.com/article/idUSL4N2B54T2   AAPL   \n",
      "3  https://www.reuters.com/article/idUSKCN20M043   AAPL   \n",
      "4  https://www.reuters.com/article/idUSL3N2AS0OO   AAPL   \n",
      "\n",
      "                                             content  \n",
      "0  March 14 (Reuters) - Apple Inc: * APPLE INC SA...  \n",
      "1  (Reuters) - Apple Inc has sealed multi-year li...  \n",
      "2  (Reuters) - Apple Inc has sealed multi-year li...  \n",
      "3  BEIJING/SHANGHAI (Reuters) - The video game “P...  \n",
      "4  BEIJING/SHANGHAI (Reuters) - The video game “P...  \n",
      "Start NFLX\n"
     ]
    },
    {
     "data": {
      "application/vnd.jupyter.widget-view+json": {
       "model_id": "21d2772bf5b149d182598b1c141e56ae",
       "version_major": 2,
       "version_minor": 0
      },
      "text/plain": [
       "HBox(children=(FloatProgress(value=0.0, description='Dask Apply', max=32.0, style=ProgressStyle(description_wi…"
      ]
     },
     "metadata": {},
     "output_type": "display_data"
    },
    {
     "name": "stdout",
     "output_type": "stream",
     "text": [
      "\n",
      "                                               title        date       query  \\\n",
      "0  BRIEF-Apple Inc Says Not Allowing Entertainmen...  2020-03-15  Apple Inc.   \n",
      "1  Apple signs multi-year deals with major music ...  2020-03-12  Apple Inc.   \n",
      "2  Apple signs multi-year deals with major music ...  2020-03-12  Apple Inc.   \n",
      "3  Chinese regulators remove 'Plague Inc' game fr...  2020-02-28  Apple Inc.   \n",
      "4  UPDATE 1-Chinese regulators remove 'Plague Inc...  2020-02-28  Apple Inc.   \n",
      "\n",
      "                                             url ticker  \\\n",
      "0  https://www.reuters.com/article/idUSFWN2B61K2   AAPL   \n",
      "1  https://www.reuters.com/article/idUSKBN20Z33J   AAPL   \n",
      "2  https://www.reuters.com/article/idUSL4N2B54T2   AAPL   \n",
      "3  https://www.reuters.com/article/idUSKCN20M043   AAPL   \n",
      "4  https://www.reuters.com/article/idUSL3N2AS0OO   AAPL   \n",
      "\n",
      "                                             content  \n",
      "0  March 14 (Reuters) - Apple Inc: * APPLE INC SA...  \n",
      "1  (Reuters) - Apple Inc has sealed multi-year li...  \n",
      "2  (Reuters) - Apple Inc has sealed multi-year li...  \n",
      "3  BEIJING/SHANGHAI (Reuters) - The video game “P...  \n",
      "4  BEIJING/SHANGHAI (Reuters) - The video game “P...  \n",
      "Start VZ\n"
     ]
    },
    {
     "data": {
      "application/vnd.jupyter.widget-view+json": {
       "model_id": "26d0b44f4b8d42fa9bc106f0d7510bcd",
       "version_major": 2,
       "version_minor": 0
      },
      "text/plain": [
       "HBox(children=(FloatProgress(value=0.0, description='Dask Apply', max=32.0, style=ProgressStyle(description_wi…"
      ]
     },
     "metadata": {},
     "output_type": "display_data"
    },
    {
     "name": "stdout",
     "output_type": "stream",
     "text": [
      "\n",
      "                                               title        date       query  \\\n",
      "0  BRIEF-Apple Inc Says Not Allowing Entertainmen...  2020-03-15  Apple Inc.   \n",
      "1  Apple signs multi-year deals with major music ...  2020-03-12  Apple Inc.   \n",
      "2  Apple signs multi-year deals with major music ...  2020-03-12  Apple Inc.   \n",
      "3  Chinese regulators remove 'Plague Inc' game fr...  2020-02-28  Apple Inc.   \n",
      "4  UPDATE 1-Chinese regulators remove 'Plague Inc...  2020-02-28  Apple Inc.   \n",
      "\n",
      "                                             url ticker  \\\n",
      "0  https://www.reuters.com/article/idUSFWN2B61K2   AAPL   \n",
      "1  https://www.reuters.com/article/idUSKBN20Z33J   AAPL   \n",
      "2  https://www.reuters.com/article/idUSL4N2B54T2   AAPL   \n",
      "3  https://www.reuters.com/article/idUSKCN20M043   AAPL   \n",
      "4  https://www.reuters.com/article/idUSL3N2AS0OO   AAPL   \n",
      "\n",
      "                                             content  \n",
      "0  March 14 (Reuters) - Apple Inc: * APPLE INC SA...  \n",
      "1  (Reuters) - Apple Inc has sealed multi-year li...  \n",
      "2  (Reuters) - Apple Inc has sealed multi-year li...  \n",
      "3  BEIJING/SHANGHAI (Reuters) - The video game “P...  \n",
      "4  BEIJING/SHANGHAI (Reuters) - The video game “P...  \n",
      "Start DIS\n"
     ]
    },
    {
     "data": {
      "application/vnd.jupyter.widget-view+json": {
       "model_id": "09ea44c7467a4033bec9064f3a3198f2",
       "version_major": 2,
       "version_minor": 0
      },
      "text/plain": [
       "HBox(children=(FloatProgress(value=0.0, description='Dask Apply', max=31.0, style=ProgressStyle(description_wi…"
      ]
     },
     "metadata": {},
     "output_type": "display_data"
    },
    {
     "name": "stdout",
     "output_type": "stream",
     "text": [
      "\n",
      "                                               title        date       query  \\\n",
      "0  BRIEF-Apple Inc Says Not Allowing Entertainmen...  2020-03-15  Apple Inc.   \n",
      "1  Apple signs multi-year deals with major music ...  2020-03-12  Apple Inc.   \n",
      "2  Apple signs multi-year deals with major music ...  2020-03-12  Apple Inc.   \n",
      "3  Chinese regulators remove 'Plague Inc' game fr...  2020-02-28  Apple Inc.   \n",
      "4  UPDATE 1-Chinese regulators remove 'Plague Inc...  2020-02-28  Apple Inc.   \n",
      "\n",
      "                                             url ticker  \\\n",
      "0  https://www.reuters.com/article/idUSFWN2B61K2   AAPL   \n",
      "1  https://www.reuters.com/article/idUSKBN20Z33J   AAPL   \n",
      "2  https://www.reuters.com/article/idUSL4N2B54T2   AAPL   \n",
      "3  https://www.reuters.com/article/idUSKCN20M043   AAPL   \n",
      "4  https://www.reuters.com/article/idUSL3N2AS0OO   AAPL   \n",
      "\n",
      "                                             content  \n",
      "0  March 14 (Reuters) - Apple Inc: * APPLE INC SA...  \n",
      "1  (Reuters) - Apple Inc has sealed multi-year li...  \n",
      "2  (Reuters) - Apple Inc has sealed multi-year li...  \n",
      "3  BEIJING/SHANGHAI (Reuters) - The video game “P...  \n",
      "4  BEIJING/SHANGHAI (Reuters) - The video game “P...  \n",
      "Start ADBE\n"
     ]
    },
    {
     "data": {
      "application/vnd.jupyter.widget-view+json": {
       "model_id": "a87030ef8a9b46c2a042d425d323af7c",
       "version_major": 2,
       "version_minor": 0
      },
      "text/plain": [
       "HBox(children=(FloatProgress(value=0.0, description='Dask Apply', max=32.0, style=ProgressStyle(description_wi…"
      ]
     },
     "metadata": {},
     "output_type": "display_data"
    },
    {
     "name": "stdout",
     "output_type": "stream",
     "text": [
      "\n",
      "                                               title        date       query  \\\n",
      "0  BRIEF-Apple Inc Says Not Allowing Entertainmen...  2020-03-15  Apple Inc.   \n",
      "1  Apple signs multi-year deals with major music ...  2020-03-12  Apple Inc.   \n",
      "2  Apple signs multi-year deals with major music ...  2020-03-12  Apple Inc.   \n",
      "3  Chinese regulators remove 'Plague Inc' game fr...  2020-02-28  Apple Inc.   \n",
      "4  UPDATE 1-Chinese regulators remove 'Plague Inc...  2020-02-28  Apple Inc.   \n",
      "\n",
      "                                             url ticker  \\\n",
      "0  https://www.reuters.com/article/idUSFWN2B61K2   AAPL   \n",
      "1  https://www.reuters.com/article/idUSKBN20Z33J   AAPL   \n",
      "2  https://www.reuters.com/article/idUSL4N2B54T2   AAPL   \n",
      "3  https://www.reuters.com/article/idUSKCN20M043   AAPL   \n",
      "4  https://www.reuters.com/article/idUSL3N2AS0OO   AAPL   \n",
      "\n",
      "                                             content  \n",
      "0  March 14 (Reuters) - Apple Inc: * APPLE INC SA...  \n",
      "1  (Reuters) - Apple Inc has sealed multi-year li...  \n",
      "2  (Reuters) - Apple Inc has sealed multi-year li...  \n",
      "3  BEIJING/SHANGHAI (Reuters) - The video game “P...  \n",
      "4  BEIJING/SHANGHAI (Reuters) - The video game “P...  \n",
      "Start MRK\n"
     ]
    },
    {
     "data": {
      "application/vnd.jupyter.widget-view+json": {
       "model_id": "563211bc2a0f492a804fd33597ec0e47",
       "version_major": 2,
       "version_minor": 0
      },
      "text/plain": [
       "HBox(children=(FloatProgress(value=0.0, description='Dask Apply', max=32.0, style=ProgressStyle(description_wi…"
      ]
     },
     "metadata": {},
     "output_type": "display_data"
    },
    {
     "name": "stdout",
     "output_type": "stream",
     "text": [
      "\n",
      "                                               title        date       query  \\\n",
      "0  BRIEF-Apple Inc Says Not Allowing Entertainmen...  2020-03-15  Apple Inc.   \n",
      "1  Apple signs multi-year deals with major music ...  2020-03-12  Apple Inc.   \n",
      "2  Apple signs multi-year deals with major music ...  2020-03-12  Apple Inc.   \n",
      "3  Chinese regulators remove 'Plague Inc' game fr...  2020-02-28  Apple Inc.   \n",
      "4  UPDATE 1-Chinese regulators remove 'Plague Inc...  2020-02-28  Apple Inc.   \n",
      "\n",
      "                                             url ticker  \\\n",
      "0  https://www.reuters.com/article/idUSFWN2B61K2   AAPL   \n",
      "1  https://www.reuters.com/article/idUSKBN20Z33J   AAPL   \n",
      "2  https://www.reuters.com/article/idUSL4N2B54T2   AAPL   \n",
      "3  https://www.reuters.com/article/idUSKCN20M043   AAPL   \n",
      "4  https://www.reuters.com/article/idUSL3N2AS0OO   AAPL   \n",
      "\n",
      "                                             content  \n",
      "0  March 14 (Reuters) - Apple Inc: * APPLE INC SA...  \n",
      "1  (Reuters) - Apple Inc has sealed multi-year li...  \n",
      "2  (Reuters) - Apple Inc has sealed multi-year li...  \n",
      "3  BEIJING/SHANGHAI (Reuters) - The video game “P...  \n",
      "4  BEIJING/SHANGHAI (Reuters) - The video game “P...  \n",
      "Start PYPL\n"
     ]
    },
    {
     "data": {
      "application/vnd.jupyter.widget-view+json": {
       "model_id": "0fb44154e3c8428eb9445c2a70021b78",
       "version_major": 2,
       "version_minor": 0
      },
      "text/plain": [
       "HBox(children=(FloatProgress(value=0.0, description='Dask Apply', max=31.0, style=ProgressStyle(description_wi…"
      ]
     },
     "metadata": {},
     "output_type": "display_data"
    },
    {
     "name": "stdout",
     "output_type": "stream",
     "text": [
      "\n",
      "                                               title        date       query  \\\n",
      "0  BRIEF-Apple Inc Says Not Allowing Entertainmen...  2020-03-15  Apple Inc.   \n",
      "1  Apple signs multi-year deals with major music ...  2020-03-12  Apple Inc.   \n",
      "2  Apple signs multi-year deals with major music ...  2020-03-12  Apple Inc.   \n",
      "3  Chinese regulators remove 'Plague Inc' game fr...  2020-02-28  Apple Inc.   \n",
      "4  UPDATE 1-Chinese regulators remove 'Plague Inc...  2020-02-28  Apple Inc.   \n",
      "\n",
      "                                             url ticker  \\\n",
      "0  https://www.reuters.com/article/idUSFWN2B61K2   AAPL   \n",
      "1  https://www.reuters.com/article/idUSKBN20Z33J   AAPL   \n",
      "2  https://www.reuters.com/article/idUSL4N2B54T2   AAPL   \n",
      "3  https://www.reuters.com/article/idUSKCN20M043   AAPL   \n",
      "4  https://www.reuters.com/article/idUSL3N2AS0OO   AAPL   \n",
      "\n",
      "                                             content  \n",
      "0  March 14 (Reuters) - Apple Inc: * APPLE INC SA...  \n",
      "1  (Reuters) - Apple Inc has sealed multi-year li...  \n",
      "2  (Reuters) - Apple Inc has sealed multi-year li...  \n",
      "3  BEIJING/SHANGHAI (Reuters) - The video game “P...  \n",
      "4  BEIJING/SHANGHAI (Reuters) - The video game “P...  \n",
      "Start PFE\n"
     ]
    },
    {
     "data": {
      "application/vnd.jupyter.widget-view+json": {
       "model_id": "695bf6275304402bbcf53c325b896370",
       "version_major": 2,
       "version_minor": 0
      },
      "text/plain": [
       "HBox(children=(FloatProgress(value=0.0, description='Dask Apply', max=32.0, style=ProgressStyle(description_wi…"
      ]
     },
     "metadata": {},
     "output_type": "display_data"
    },
    {
     "name": "stdout",
     "output_type": "stream",
     "text": [
      "\n",
      "                                               title        date       query  \\\n",
      "0  BRIEF-Apple Inc Says Not Allowing Entertainmen...  2020-03-15  Apple Inc.   \n",
      "1  Apple signs multi-year deals with major music ...  2020-03-12  Apple Inc.   \n",
      "2  Apple signs multi-year deals with major music ...  2020-03-12  Apple Inc.   \n",
      "3  Chinese regulators remove 'Plague Inc' game fr...  2020-02-28  Apple Inc.   \n",
      "4  UPDATE 1-Chinese regulators remove 'Plague Inc...  2020-02-28  Apple Inc.   \n",
      "\n",
      "                                             url ticker  \\\n",
      "0  https://www.reuters.com/article/idUSFWN2B61K2   AAPL   \n",
      "1  https://www.reuters.com/article/idUSKBN20Z33J   AAPL   \n",
      "2  https://www.reuters.com/article/idUSL4N2B54T2   AAPL   \n",
      "3  https://www.reuters.com/article/idUSKCN20M043   AAPL   \n",
      "4  https://www.reuters.com/article/idUSL3N2AS0OO   AAPL   \n",
      "\n",
      "                                             content  \n",
      "0  March 14 (Reuters) - Apple Inc: * APPLE INC SA...  \n",
      "1  (Reuters) - Apple Inc has sealed multi-year li...  \n",
      "2  (Reuters) - Apple Inc has sealed multi-year li...  \n",
      "3  BEIJING/SHANGHAI (Reuters) - The video game “P...  \n",
      "4  BEIJING/SHANGHAI (Reuters) - The video game “P...  \n",
      "Start CSCO\n"
     ]
    },
    {
     "data": {
      "application/vnd.jupyter.widget-view+json": {
       "model_id": "f971138222eb4d7ba7c7cdd7db186cad",
       "version_major": 2,
       "version_minor": 0
      },
      "text/plain": [
       "HBox(children=(FloatProgress(value=0.0, description='Dask Apply', max=32.0, style=ProgressStyle(description_wi…"
      ]
     },
     "metadata": {},
     "output_type": "display_data"
    },
    {
     "name": "stdout",
     "output_type": "stream",
     "text": [
      "\n",
      "                                               title        date       query  \\\n",
      "0  BRIEF-Apple Inc Says Not Allowing Entertainmen...  2020-03-15  Apple Inc.   \n",
      "1  Apple signs multi-year deals with major music ...  2020-03-12  Apple Inc.   \n",
      "2  Apple signs multi-year deals with major music ...  2020-03-12  Apple Inc.   \n",
      "3  Chinese regulators remove 'Plague Inc' game fr...  2020-02-28  Apple Inc.   \n",
      "4  UPDATE 1-Chinese regulators remove 'Plague Inc...  2020-02-28  Apple Inc.   \n",
      "\n",
      "                                             url ticker  \\\n",
      "0  https://www.reuters.com/article/idUSFWN2B61K2   AAPL   \n",
      "1  https://www.reuters.com/article/idUSKBN20Z33J   AAPL   \n",
      "2  https://www.reuters.com/article/idUSL4N2B54T2   AAPL   \n",
      "3  https://www.reuters.com/article/idUSKCN20M043   AAPL   \n",
      "4  https://www.reuters.com/article/idUSL3N2AS0OO   AAPL   \n",
      "\n",
      "                                             content  \n",
      "0  March 14 (Reuters) - Apple Inc: * APPLE INC SA...  \n",
      "1  (Reuters) - Apple Inc has sealed multi-year li...  \n",
      "2  (Reuters) - Apple Inc has sealed multi-year li...  \n",
      "3  BEIJING/SHANGHAI (Reuters) - The video game “P...  \n",
      "4  BEIJING/SHANGHAI (Reuters) - The video game “P...  \n",
      "Start CMCSA\n"
     ]
    },
    {
     "data": {
      "application/vnd.jupyter.widget-view+json": {
       "model_id": "21196e37b7c142a2823261628dd9d2cd",
       "version_major": 2,
       "version_minor": 0
      },
      "text/plain": [
       "HBox(children=(FloatProgress(value=0.0, description='Dask Apply', max=31.0, style=ProgressStyle(description_wi…"
      ]
     },
     "metadata": {},
     "output_type": "display_data"
    },
    {
     "name": "stdout",
     "output_type": "stream",
     "text": [
      "\n",
      "                                               title        date       query  \\\n",
      "0  BRIEF-Apple Inc Says Not Allowing Entertainmen...  2020-03-15  Apple Inc.   \n",
      "1  Apple signs multi-year deals with major music ...  2020-03-12  Apple Inc.   \n",
      "2  Apple signs multi-year deals with major music ...  2020-03-12  Apple Inc.   \n",
      "3  Chinese regulators remove 'Plague Inc' game fr...  2020-02-28  Apple Inc.   \n",
      "4  UPDATE 1-Chinese regulators remove 'Plague Inc...  2020-02-28  Apple Inc.   \n",
      "\n",
      "                                             url ticker  \\\n",
      "0  https://www.reuters.com/article/idUSFWN2B61K2   AAPL   \n",
      "1  https://www.reuters.com/article/idUSKBN20Z33J   AAPL   \n",
      "2  https://www.reuters.com/article/idUSL4N2B54T2   AAPL   \n",
      "3  https://www.reuters.com/article/idUSKCN20M043   AAPL   \n",
      "4  https://www.reuters.com/article/idUSL3N2AS0OO   AAPL   \n",
      "\n",
      "                                             content  \n",
      "0  March 14 (Reuters) - Apple Inc: * APPLE INC SA...  \n",
      "1  (Reuters) - Apple Inc has sealed multi-year li...  \n",
      "2  (Reuters) - Apple Inc has sealed multi-year li...  \n",
      "3  BEIJING/SHANGHAI (Reuters) - The video game “P...  \n",
      "4  BEIJING/SHANGHAI (Reuters) - The video game “P...  \n",
      "Start XOM\n"
     ]
    },
    {
     "data": {
      "application/vnd.jupyter.widget-view+json": {
       "model_id": "a0d409478b2e48b295ba2355498dcf71",
       "version_major": 2,
       "version_minor": 0
      },
      "text/plain": [
       "HBox(children=(FloatProgress(value=0.0, description='Dask Apply', max=31.0, style=ProgressStyle(description_wi…"
      ]
     },
     "metadata": {},
     "output_type": "display_data"
    },
    {
     "name": "stdout",
     "output_type": "stream",
     "text": [
      "\n",
      "                                               title        date       query  \\\n",
      "0  BRIEF-Apple Inc Says Not Allowing Entertainmen...  2020-03-15  Apple Inc.   \n",
      "1  Apple signs multi-year deals with major music ...  2020-03-12  Apple Inc.   \n",
      "2  Apple signs multi-year deals with major music ...  2020-03-12  Apple Inc.   \n",
      "3  Chinese regulators remove 'Plague Inc' game fr...  2020-02-28  Apple Inc.   \n",
      "4  UPDATE 1-Chinese regulators remove 'Plague Inc...  2020-02-28  Apple Inc.   \n",
      "\n",
      "                                             url ticker  \\\n",
      "0  https://www.reuters.com/article/idUSFWN2B61K2   AAPL   \n",
      "1  https://www.reuters.com/article/idUSKBN20Z33J   AAPL   \n",
      "2  https://www.reuters.com/article/idUSL4N2B54T2   AAPL   \n",
      "3  https://www.reuters.com/article/idUSKCN20M043   AAPL   \n",
      "4  https://www.reuters.com/article/idUSL3N2AS0OO   AAPL   \n",
      "\n",
      "                                             content  \n",
      "0  March 14 (Reuters) - Apple Inc: * APPLE INC SA...  \n",
      "1  (Reuters) - Apple Inc has sealed multi-year li...  \n",
      "2  (Reuters) - Apple Inc has sealed multi-year li...  \n",
      "3  BEIJING/SHANGHAI (Reuters) - The video game “P...  \n",
      "4  BEIJING/SHANGHAI (Reuters) - The video game “P...  \n",
      "Start WMT\n"
     ]
    },
    {
     "data": {
      "application/vnd.jupyter.widget-view+json": {
       "model_id": "76cde0a214544bcbb1726eeea2f4a79c",
       "version_major": 2,
       "version_minor": 0
      },
      "text/plain": [
       "HBox(children=(FloatProgress(value=0.0, description='Dask Apply', max=32.0, style=ProgressStyle(description_wi…"
      ]
     },
     "metadata": {},
     "output_type": "display_data"
    },
    {
     "name": "stdout",
     "output_type": "stream",
     "text": [
      "\n",
      "                                               title        date       query  \\\n",
      "0  BRIEF-Apple Inc Says Not Allowing Entertainmen...  2020-03-15  Apple Inc.   \n",
      "1  Apple signs multi-year deals with major music ...  2020-03-12  Apple Inc.   \n",
      "2  Apple signs multi-year deals with major music ...  2020-03-12  Apple Inc.   \n",
      "3  Chinese regulators remove 'Plague Inc' game fr...  2020-02-28  Apple Inc.   \n",
      "4  UPDATE 1-Chinese regulators remove 'Plague Inc...  2020-02-28  Apple Inc.   \n",
      "\n",
      "                                             url ticker  \\\n",
      "0  https://www.reuters.com/article/idUSFWN2B61K2   AAPL   \n",
      "1  https://www.reuters.com/article/idUSKBN20Z33J   AAPL   \n",
      "2  https://www.reuters.com/article/idUSL4N2B54T2   AAPL   \n",
      "3  https://www.reuters.com/article/idUSKCN20M043   AAPL   \n",
      "4  https://www.reuters.com/article/idUSL3N2AS0OO   AAPL   \n",
      "\n",
      "                                             content  \n",
      "0  March 14 (Reuters) - Apple Inc: * APPLE INC SA...  \n",
      "1  (Reuters) - Apple Inc has sealed multi-year li...  \n",
      "2  (Reuters) - Apple Inc has sealed multi-year li...  \n",
      "3  BEIJING/SHANGHAI (Reuters) - The video game “P...  \n",
      "4  BEIJING/SHANGHAI (Reuters) - The video game “P...  \n",
      "Start BAC\n"
     ]
    },
    {
     "data": {
      "application/vnd.jupyter.widget-view+json": {
       "model_id": "903e0a19740447f3a2637976906b0a9b",
       "version_major": 2,
       "version_minor": 0
      },
      "text/plain": [
       "HBox(children=(FloatProgress(value=0.0, description='Dask Apply', max=32.0, style=ProgressStyle(description_wi…"
      ]
     },
     "metadata": {},
     "output_type": "display_data"
    },
    {
     "name": "stdout",
     "output_type": "stream",
     "text": [
      "\n",
      "                                               title        date       query  \\\n",
      "0  BRIEF-Apple Inc Says Not Allowing Entertainmen...  2020-03-15  Apple Inc.   \n",
      "1  Apple signs multi-year deals with major music ...  2020-03-12  Apple Inc.   \n",
      "2  Apple signs multi-year deals with major music ...  2020-03-12  Apple Inc.   \n",
      "3  Chinese regulators remove 'Plague Inc' game fr...  2020-02-28  Apple Inc.   \n",
      "4  UPDATE 1-Chinese regulators remove 'Plague Inc...  2020-02-28  Apple Inc.   \n",
      "\n",
      "                                             url ticker  \\\n",
      "0  https://www.reuters.com/article/idUSFWN2B61K2   AAPL   \n",
      "1  https://www.reuters.com/article/idUSKBN20Z33J   AAPL   \n",
      "2  https://www.reuters.com/article/idUSL4N2B54T2   AAPL   \n",
      "3  https://www.reuters.com/article/idUSKCN20M043   AAPL   \n",
      "4  https://www.reuters.com/article/idUSL3N2AS0OO   AAPL   \n",
      "\n",
      "                                             content  \n",
      "0  March 14 (Reuters) - Apple Inc: * APPLE INC SA...  \n",
      "1  (Reuters) - Apple Inc has sealed multi-year li...  \n",
      "2  (Reuters) - Apple Inc has sealed multi-year li...  \n",
      "3  BEIJING/SHANGHAI (Reuters) - The video game “P...  \n",
      "4  BEIJING/SHANGHAI (Reuters) - The video game “P...  \n",
      "Start PEP\n"
     ]
    },
    {
     "data": {
      "application/vnd.jupyter.widget-view+json": {
       "model_id": "0d952678c9a54fcf8ea2daf565fac01e",
       "version_major": 2,
       "version_minor": 0
      },
      "text/plain": [
       "HBox(children=(FloatProgress(value=0.0, description='Dask Apply', max=32.0, style=ProgressStyle(description_wi…"
      ]
     },
     "metadata": {},
     "output_type": "display_data"
    },
    {
     "name": "stdout",
     "output_type": "stream",
     "text": [
      "\n",
      "                                               title        date       query  \\\n",
      "0  BRIEF-Apple Inc Says Not Allowing Entertainmen...  2020-03-15  Apple Inc.   \n",
      "1  Apple signs multi-year deals with major music ...  2020-03-12  Apple Inc.   \n",
      "2  Apple signs multi-year deals with major music ...  2020-03-12  Apple Inc.   \n",
      "3  Chinese regulators remove 'Plague Inc' game fr...  2020-02-28  Apple Inc.   \n",
      "4  UPDATE 1-Chinese regulators remove 'Plague Inc...  2020-02-28  Apple Inc.   \n",
      "\n",
      "                                             url ticker  \\\n",
      "0  https://www.reuters.com/article/idUSFWN2B61K2   AAPL   \n",
      "1  https://www.reuters.com/article/idUSKBN20Z33J   AAPL   \n",
      "2  https://www.reuters.com/article/idUSL4N2B54T2   AAPL   \n",
      "3  https://www.reuters.com/article/idUSKCN20M043   AAPL   \n",
      "4  https://www.reuters.com/article/idUSL3N2AS0OO   AAPL   \n",
      "\n",
      "                                             content  \n",
      "0  March 14 (Reuters) - Apple Inc: * APPLE INC SA...  \n",
      "1  (Reuters) - Apple Inc has sealed multi-year li...  \n",
      "2  (Reuters) - Apple Inc has sealed multi-year li...  \n",
      "3  BEIJING/SHANGHAI (Reuters) - The video game “P...  \n",
      "4  BEIJING/SHANGHAI (Reuters) - The video game “P...  \n",
      "Start KO\n"
     ]
    },
    {
     "data": {
      "application/vnd.jupyter.widget-view+json": {
       "model_id": "84ac25ad394b4a5d80450361c9494ca6",
       "version_major": 2,
       "version_minor": 0
      },
      "text/plain": [
       "HBox(children=(FloatProgress(value=0.0, description='Dask Apply', max=32.0, style=ProgressStyle(description_wi…"
      ]
     },
     "metadata": {},
     "output_type": "display_data"
    },
    {
     "name": "stdout",
     "output_type": "stream",
     "text": [
      "\n",
      "                                               title        date       query  \\\n",
      "0  BRIEF-Apple Inc Says Not Allowing Entertainmen...  2020-03-15  Apple Inc.   \n",
      "1  Apple signs multi-year deals with major music ...  2020-03-12  Apple Inc.   \n",
      "2  Apple signs multi-year deals with major music ...  2020-03-12  Apple Inc.   \n",
      "3  Chinese regulators remove 'Plague Inc' game fr...  2020-02-28  Apple Inc.   \n",
      "4  UPDATE 1-Chinese regulators remove 'Plague Inc...  2020-02-28  Apple Inc.   \n",
      "\n",
      "                                             url ticker  \\\n",
      "0  https://www.reuters.com/article/idUSFWN2B61K2   AAPL   \n",
      "1  https://www.reuters.com/article/idUSKBN20Z33J   AAPL   \n",
      "2  https://www.reuters.com/article/idUSL4N2B54T2   AAPL   \n",
      "3  https://www.reuters.com/article/idUSKCN20M043   AAPL   \n",
      "4  https://www.reuters.com/article/idUSL3N2AS0OO   AAPL   \n",
      "\n",
      "                                             content  \n",
      "0  March 14 (Reuters) - Apple Inc: * APPLE INC SA...  \n",
      "1  (Reuters) - Apple Inc has sealed multi-year li...  \n",
      "2  (Reuters) - Apple Inc has sealed multi-year li...  \n",
      "3  BEIJING/SHANGHAI (Reuters) - The video game “P...  \n",
      "4  BEIJING/SHANGHAI (Reuters) - The video game “P...  \n",
      "Start ABBV\n"
     ]
    },
    {
     "data": {
      "application/vnd.jupyter.widget-view+json": {
       "model_id": "a9c129b5911e4e78b40f82aad59bbda7",
       "version_major": 2,
       "version_minor": 0
      },
      "text/plain": [
       "HBox(children=(FloatProgress(value=0.0, description='Dask Apply', max=32.0, style=ProgressStyle(description_wi…"
      ]
     },
     "metadata": {},
     "output_type": "display_data"
    },
    {
     "name": "stdout",
     "output_type": "stream",
     "text": [
      "\n",
      "                                               title        date       query  \\\n",
      "0  BRIEF-Apple Inc Says Not Allowing Entertainmen...  2020-03-15  Apple Inc.   \n",
      "1  Apple signs multi-year deals with major music ...  2020-03-12  Apple Inc.   \n",
      "2  Apple signs multi-year deals with major music ...  2020-03-12  Apple Inc.   \n",
      "3  Chinese regulators remove 'Plague Inc' game fr...  2020-02-28  Apple Inc.   \n",
      "4  UPDATE 1-Chinese regulators remove 'Plague Inc...  2020-02-28  Apple Inc.   \n",
      "\n",
      "                                             url ticker  \\\n",
      "0  https://www.reuters.com/article/idUSFWN2B61K2   AAPL   \n",
      "1  https://www.reuters.com/article/idUSKBN20Z33J   AAPL   \n",
      "2  https://www.reuters.com/article/idUSL4N2B54T2   AAPL   \n",
      "3  https://www.reuters.com/article/idUSKCN20M043   AAPL   \n",
      "4  https://www.reuters.com/article/idUSL3N2AS0OO   AAPL   \n",
      "\n",
      "                                             content  \n",
      "0  March 14 (Reuters) - Apple Inc: * APPLE INC SA...  \n",
      "1  (Reuters) - Apple Inc has sealed multi-year li...  \n",
      "2  (Reuters) - Apple Inc has sealed multi-year li...  \n",
      "3  BEIJING/SHANGHAI (Reuters) - The video game “P...  \n",
      "4  BEIJING/SHANGHAI (Reuters) - The video game “P...  \n",
      "Start ABT\n"
     ]
    },
    {
     "data": {
      "application/vnd.jupyter.widget-view+json": {
       "model_id": "2a9ef826e8094df4a9df598cdaeb4793",
       "version_major": 2,
       "version_minor": 0
      },
      "text/plain": [
       "HBox(children=(FloatProgress(value=0.0, description='Dask Apply', max=32.0, style=ProgressStyle(description_wi…"
      ]
     },
     "metadata": {},
     "output_type": "display_data"
    },
    {
     "name": "stdout",
     "output_type": "stream",
     "text": [
      "\n",
      "                                               title        date       query  \\\n",
      "0  BRIEF-Apple Inc Says Not Allowing Entertainmen...  2020-03-15  Apple Inc.   \n",
      "1  Apple signs multi-year deals with major music ...  2020-03-12  Apple Inc.   \n",
      "2  Apple signs multi-year deals with major music ...  2020-03-12  Apple Inc.   \n",
      "3  Chinese regulators remove 'Plague Inc' game fr...  2020-02-28  Apple Inc.   \n",
      "4  UPDATE 1-Chinese regulators remove 'Plague Inc...  2020-02-28  Apple Inc.   \n",
      "\n",
      "                                             url ticker  \\\n",
      "0  https://www.reuters.com/article/idUSFWN2B61K2   AAPL   \n",
      "1  https://www.reuters.com/article/idUSKBN20Z33J   AAPL   \n",
      "2  https://www.reuters.com/article/idUSL4N2B54T2   AAPL   \n",
      "3  https://www.reuters.com/article/idUSKCN20M043   AAPL   \n",
      "4  https://www.reuters.com/article/idUSL3N2AS0OO   AAPL   \n",
      "\n",
      "                                             content  \n",
      "0  March 14 (Reuters) - Apple Inc: * APPLE INC SA...  \n",
      "1  (Reuters) - Apple Inc has sealed multi-year li...  \n",
      "2  (Reuters) - Apple Inc has sealed multi-year li...  \n",
      "3  BEIJING/SHANGHAI (Reuters) - The video game “P...  \n",
      "4  BEIJING/SHANGHAI (Reuters) - The video game “P...  \n",
      "Start CRM\n"
     ]
    },
    {
     "data": {
      "application/vnd.jupyter.widget-view+json": {
       "model_id": "36048cd9063b4c1a8ad5ea93228a9979",
       "version_major": 2,
       "version_minor": 0
      },
      "text/plain": [
       "HBox(children=(FloatProgress(value=0.0, description='Dask Apply', max=31.0, style=ProgressStyle(description_wi…"
      ]
     },
     "metadata": {},
     "output_type": "display_data"
    },
    {
     "name": "stdout",
     "output_type": "stream",
     "text": [
      "\n",
      "                                               title        date       query  \\\n",
      "0  BRIEF-Apple Inc Says Not Allowing Entertainmen...  2020-03-15  Apple Inc.   \n",
      "1  Apple signs multi-year deals with major music ...  2020-03-12  Apple Inc.   \n",
      "2  Apple signs multi-year deals with major music ...  2020-03-12  Apple Inc.   \n",
      "3  Chinese regulators remove 'Plague Inc' game fr...  2020-02-28  Apple Inc.   \n",
      "4  UPDATE 1-Chinese regulators remove 'Plague Inc...  2020-02-28  Apple Inc.   \n",
      "\n",
      "                                             url ticker  \\\n",
      "0  https://www.reuters.com/article/idUSFWN2B61K2   AAPL   \n",
      "1  https://www.reuters.com/article/idUSKBN20Z33J   AAPL   \n",
      "2  https://www.reuters.com/article/idUSL4N2B54T2   AAPL   \n",
      "3  https://www.reuters.com/article/idUSKCN20M043   AAPL   \n",
      "4  https://www.reuters.com/article/idUSL3N2AS0OO   AAPL   \n",
      "\n",
      "                                             content  \n",
      "0  March 14 (Reuters) - Apple Inc: * APPLE INC SA...  \n",
      "1  (Reuters) - Apple Inc has sealed multi-year li...  \n",
      "2  (Reuters) - Apple Inc has sealed multi-year li...  \n",
      "3  BEIJING/SHANGHAI (Reuters) - The video game “P...  \n",
      "4  BEIJING/SHANGHAI (Reuters) - The video game “P...  \n",
      "Start CVX\n"
     ]
    },
    {
     "data": {
      "application/vnd.jupyter.widget-view+json": {
       "model_id": "00d95a0e8121478299bcda6731892f45",
       "version_major": 2,
       "version_minor": 0
      },
      "text/plain": [
       "HBox(children=(FloatProgress(value=0.0, description='Dask Apply', max=32.0, style=ProgressStyle(description_wi…"
      ]
     },
     "metadata": {},
     "output_type": "display_data"
    },
    {
     "name": "stdout",
     "output_type": "stream",
     "text": [
      "\n",
      "                                               title        date       query  \\\n",
      "0  BRIEF-Apple Inc Says Not Allowing Entertainmen...  2020-03-15  Apple Inc.   \n",
      "1  Apple signs multi-year deals with major music ...  2020-03-12  Apple Inc.   \n",
      "2  Apple signs multi-year deals with major music ...  2020-03-12  Apple Inc.   \n",
      "3  Chinese regulators remove 'Plague Inc' game fr...  2020-02-28  Apple Inc.   \n",
      "4  UPDATE 1-Chinese regulators remove 'Plague Inc...  2020-02-28  Apple Inc.   \n",
      "\n",
      "                                             url ticker  \\\n",
      "0  https://www.reuters.com/article/idUSFWN2B61K2   AAPL   \n",
      "1  https://www.reuters.com/article/idUSKBN20Z33J   AAPL   \n",
      "2  https://www.reuters.com/article/idUSL4N2B54T2   AAPL   \n",
      "3  https://www.reuters.com/article/idUSKCN20M043   AAPL   \n",
      "4  https://www.reuters.com/article/idUSL3N2AS0OO   AAPL   \n",
      "\n",
      "                                             content  \n",
      "0  March 14 (Reuters) - Apple Inc: * APPLE INC SA...  \n",
      "1  (Reuters) - Apple Inc has sealed multi-year li...  \n",
      "2  (Reuters) - Apple Inc has sealed multi-year li...  \n",
      "3  BEIJING/SHANGHAI (Reuters) - The video game “P...  \n",
      "4  BEIJING/SHANGHAI (Reuters) - The video game “P...  \n",
      "Start TMO\n"
     ]
    },
    {
     "data": {
      "application/vnd.jupyter.widget-view+json": {
       "model_id": "432999781a704d3294830f765d6be26e",
       "version_major": 2,
       "version_minor": 0
      },
      "text/plain": [
       "HBox(children=(FloatProgress(value=0.0, description='Dask Apply', max=30.0, style=ProgressStyle(description_wi…"
      ]
     },
     "metadata": {},
     "output_type": "display_data"
    },
    {
     "name": "stdout",
     "output_type": "stream",
     "text": [
      "\n",
      "                                               title        date       query  \\\n",
      "0  BRIEF-Apple Inc Says Not Allowing Entertainmen...  2020-03-15  Apple Inc.   \n",
      "1  Apple signs multi-year deals with major music ...  2020-03-12  Apple Inc.   \n",
      "2  Apple signs multi-year deals with major music ...  2020-03-12  Apple Inc.   \n",
      "3  Chinese regulators remove 'Plague Inc' game fr...  2020-02-28  Apple Inc.   \n",
      "4  UPDATE 1-Chinese regulators remove 'Plague Inc...  2020-02-28  Apple Inc.   \n",
      "\n",
      "                                             url ticker  \\\n",
      "0  https://www.reuters.com/article/idUSFWN2B61K2   AAPL   \n",
      "1  https://www.reuters.com/article/idUSKBN20Z33J   AAPL   \n",
      "2  https://www.reuters.com/article/idUSL4N2B54T2   AAPL   \n",
      "3  https://www.reuters.com/article/idUSKCN20M043   AAPL   \n",
      "4  https://www.reuters.com/article/idUSL3N2AS0OO   AAPL   \n",
      "\n",
      "                                             content  \n",
      "0  March 14 (Reuters) - Apple Inc: * APPLE INC SA...  \n",
      "1  (Reuters) - Apple Inc has sealed multi-year li...  \n",
      "2  (Reuters) - Apple Inc has sealed multi-year li...  \n",
      "3  BEIJING/SHANGHAI (Reuters) - The video game “P...  \n",
      "4  BEIJING/SHANGHAI (Reuters) - The video game “P...  \n",
      "Start AMGN\n"
     ]
    },
    {
     "data": {
      "application/vnd.jupyter.widget-view+json": {
       "model_id": "704b780ca8ae41d0812a799ea73b1fd3",
       "version_major": 2,
       "version_minor": 0
      },
      "text/plain": [
       "HBox(children=(FloatProgress(value=0.0, description='Dask Apply', max=32.0, style=ProgressStyle(description_wi…"
      ]
     },
     "metadata": {},
     "output_type": "display_data"
    },
    {
     "name": "stdout",
     "output_type": "stream",
     "text": [
      "\n",
      "                                               title        date       query  \\\n",
      "0  BRIEF-Apple Inc Says Not Allowing Entertainmen...  2020-03-15  Apple Inc.   \n",
      "1  Apple signs multi-year deals with major music ...  2020-03-12  Apple Inc.   \n",
      "2  Apple signs multi-year deals with major music ...  2020-03-12  Apple Inc.   \n",
      "3  Chinese regulators remove 'Plague Inc' game fr...  2020-02-28  Apple Inc.   \n",
      "4  UPDATE 1-Chinese regulators remove 'Plague Inc...  2020-02-28  Apple Inc.   \n",
      "\n",
      "                                             url ticker  \\\n",
      "0  https://www.reuters.com/article/idUSFWN2B61K2   AAPL   \n",
      "1  https://www.reuters.com/article/idUSKBN20Z33J   AAPL   \n",
      "2  https://www.reuters.com/article/idUSL4N2B54T2   AAPL   \n",
      "3  https://www.reuters.com/article/idUSKCN20M043   AAPL   \n",
      "4  https://www.reuters.com/article/idUSL3N2AS0OO   AAPL   \n",
      "\n",
      "                                             content  \n",
      "0  March 14 (Reuters) - Apple Inc: * APPLE INC SA...  \n",
      "1  (Reuters) - Apple Inc has sealed multi-year li...  \n",
      "2  (Reuters) - Apple Inc has sealed multi-year li...  \n",
      "3  BEIJING/SHANGHAI (Reuters) - The video game “P...  \n",
      "4  BEIJING/SHANGHAI (Reuters) - The video game “P...  \n",
      "Start COST\n"
     ]
    },
    {
     "data": {
      "application/vnd.jupyter.widget-view+json": {
       "model_id": "5b73ecc0ac5d41c98e9d72f26da3e3e4",
       "version_major": 2,
       "version_minor": 0
      },
      "text/plain": [
       "HBox(children=(FloatProgress(value=0.0, description='Dask Apply', max=29.0, style=ProgressStyle(description_wi…"
      ]
     },
     "metadata": {},
     "output_type": "display_data"
    },
    {
     "name": "stdout",
     "output_type": "stream",
     "text": [
      "\n",
      "                                               title        date       query  \\\n",
      "0  BRIEF-Apple Inc Says Not Allowing Entertainmen...  2020-03-15  Apple Inc.   \n",
      "1  Apple signs multi-year deals with major music ...  2020-03-12  Apple Inc.   \n",
      "2  Apple signs multi-year deals with major music ...  2020-03-12  Apple Inc.   \n",
      "3  Chinese regulators remove 'Plague Inc' game fr...  2020-02-28  Apple Inc.   \n",
      "4  UPDATE 1-Chinese regulators remove 'Plague Inc...  2020-02-28  Apple Inc.   \n",
      "\n",
      "                                             url ticker  \\\n",
      "0  https://www.reuters.com/article/idUSFWN2B61K2   AAPL   \n",
      "1  https://www.reuters.com/article/idUSKBN20Z33J   AAPL   \n",
      "2  https://www.reuters.com/article/idUSL4N2B54T2   AAPL   \n",
      "3  https://www.reuters.com/article/idUSKCN20M043   AAPL   \n",
      "4  https://www.reuters.com/article/idUSL3N2AS0OO   AAPL   \n",
      "\n",
      "                                             content  \n",
      "0  March 14 (Reuters) - Apple Inc: * APPLE INC SA...  \n",
      "1  (Reuters) - Apple Inc has sealed multi-year li...  \n",
      "2  (Reuters) - Apple Inc has sealed multi-year li...  \n",
      "3  BEIJING/SHANGHAI (Reuters) - The video game “P...  \n",
      "4  BEIJING/SHANGHAI (Reuters) - The video game “P...  \n",
      "Start MCD\n"
     ]
    },
    {
     "data": {
      "application/vnd.jupyter.widget-view+json": {
       "model_id": "98b827a163fc457aac317217eb521ece",
       "version_major": 2,
       "version_minor": 0
      },
      "text/plain": [
       "HBox(children=(FloatProgress(value=0.0, description='Dask Apply', max=32.0, style=ProgressStyle(description_wi…"
      ]
     },
     "metadata": {},
     "output_type": "display_data"
    },
    {
     "name": "stdout",
     "output_type": "stream",
     "text": [
      "\n",
      "                                               title        date       query  \\\n",
      "0  BRIEF-Apple Inc Says Not Allowing Entertainmen...  2020-03-15  Apple Inc.   \n",
      "1  Apple signs multi-year deals with major music ...  2020-03-12  Apple Inc.   \n",
      "2  Apple signs multi-year deals with major music ...  2020-03-12  Apple Inc.   \n",
      "3  Chinese regulators remove 'Plague Inc' game fr...  2020-02-28  Apple Inc.   \n",
      "4  UPDATE 1-Chinese regulators remove 'Plague Inc...  2020-02-28  Apple Inc.   \n",
      "\n",
      "                                             url ticker  \\\n",
      "0  https://www.reuters.com/article/idUSFWN2B61K2   AAPL   \n",
      "1  https://www.reuters.com/article/idUSKBN20Z33J   AAPL   \n",
      "2  https://www.reuters.com/article/idUSL4N2B54T2   AAPL   \n",
      "3  https://www.reuters.com/article/idUSKCN20M043   AAPL   \n",
      "4  https://www.reuters.com/article/idUSL3N2AS0OO   AAPL   \n",
      "\n",
      "                                             content  \n",
      "0  March 14 (Reuters) - Apple Inc: * APPLE INC SA...  \n",
      "1  (Reuters) - Apple Inc has sealed multi-year li...  \n",
      "2  (Reuters) - Apple Inc has sealed multi-year li...  \n",
      "3  BEIJING/SHANGHAI (Reuters) - The video game “P...  \n",
      "4  BEIJING/SHANGHAI (Reuters) - The video game “P...  \n",
      "Start ACN\n"
     ]
    },
    {
     "data": {
      "application/vnd.jupyter.widget-view+json": {
       "model_id": "8e44c8fa55814be5b2cf3f0b083252f1",
       "version_major": 2,
       "version_minor": 0
      },
      "text/plain": [
       "HBox(children=(FloatProgress(value=0.0, description='Dask Apply', max=32.0, style=ProgressStyle(description_wi…"
      ]
     },
     "metadata": {},
     "output_type": "display_data"
    },
    {
     "name": "stdout",
     "output_type": "stream",
     "text": [
      "\n",
      "                                               title        date       query  \\\n",
      "0  BRIEF-Apple Inc Says Not Allowing Entertainmen...  2020-03-15  Apple Inc.   \n",
      "1  Apple signs multi-year deals with major music ...  2020-03-12  Apple Inc.   \n",
      "2  Apple signs multi-year deals with major music ...  2020-03-12  Apple Inc.   \n",
      "3  Chinese regulators remove 'Plague Inc' game fr...  2020-02-28  Apple Inc.   \n",
      "4  UPDATE 1-Chinese regulators remove 'Plague Inc...  2020-02-28  Apple Inc.   \n",
      "\n",
      "                                             url ticker  \\\n",
      "0  https://www.reuters.com/article/idUSFWN2B61K2   AAPL   \n",
      "1  https://www.reuters.com/article/idUSKBN20Z33J   AAPL   \n",
      "2  https://www.reuters.com/article/idUSL4N2B54T2   AAPL   \n",
      "3  https://www.reuters.com/article/idUSKCN20M043   AAPL   \n",
      "4  https://www.reuters.com/article/idUSL3N2AS0OO   AAPL   \n",
      "\n",
      "                                             content  \n",
      "0  March 14 (Reuters) - Apple Inc: * APPLE INC SA...  \n",
      "1  (Reuters) - Apple Inc has sealed multi-year li...  \n",
      "2  (Reuters) - Apple Inc has sealed multi-year li...  \n",
      "3  BEIJING/SHANGHAI (Reuters) - The video game “P...  \n",
      "4  BEIJING/SHANGHAI (Reuters) - The video game “P...  \n",
      "Start LLY\n"
     ]
    },
    {
     "data": {
      "application/vnd.jupyter.widget-view+json": {
       "model_id": "59ded1e6afca45c188046bbb4f7cf3e2",
       "version_major": 2,
       "version_minor": 0
      },
      "text/plain": [
       "HBox(children=(FloatProgress(value=0.0, description='Dask Apply', max=32.0, style=ProgressStyle(description_wi…"
      ]
     },
     "metadata": {},
     "output_type": "display_data"
    },
    {
     "name": "stdout",
     "output_type": "stream",
     "text": [
      "\n",
      "                                               title        date       query  \\\n",
      "0  BRIEF-Apple Inc Says Not Allowing Entertainmen...  2020-03-15  Apple Inc.   \n",
      "1  Apple signs multi-year deals with major music ...  2020-03-12  Apple Inc.   \n",
      "2  Apple signs multi-year deals with major music ...  2020-03-12  Apple Inc.   \n",
      "3  Chinese regulators remove 'Plague Inc' game fr...  2020-02-28  Apple Inc.   \n",
      "4  UPDATE 1-Chinese regulators remove 'Plague Inc...  2020-02-28  Apple Inc.   \n",
      "\n",
      "                                             url ticker  \\\n",
      "0  https://www.reuters.com/article/idUSFWN2B61K2   AAPL   \n",
      "1  https://www.reuters.com/article/idUSKBN20Z33J   AAPL   \n",
      "2  https://www.reuters.com/article/idUSL4N2B54T2   AAPL   \n",
      "3  https://www.reuters.com/article/idUSKCN20M043   AAPL   \n",
      "4  https://www.reuters.com/article/idUSL3N2AS0OO   AAPL   \n",
      "\n",
      "                                             content  \n",
      "0  March 14 (Reuters) - Apple Inc: * APPLE INC SA...  \n",
      "1  (Reuters) - Apple Inc has sealed multi-year li...  \n",
      "2  (Reuters) - Apple Inc has sealed multi-year li...  \n",
      "3  BEIJING/SHANGHAI (Reuters) - The video game “P...  \n",
      "4  BEIJING/SHANGHAI (Reuters) - The video game “P...  \n",
      "Start BMY\n"
     ]
    },
    {
     "data": {
      "application/vnd.jupyter.widget-view+json": {
       "model_id": "b727bf1230a84c7cb1e7ca9cf07da007",
       "version_major": 2,
       "version_minor": 0
      },
      "text/plain": [
       "HBox(children=(FloatProgress(value=0.0, description='Dask Apply', max=32.0, style=ProgressStyle(description_wi…"
      ]
     },
     "metadata": {},
     "output_type": "display_data"
    },
    {
     "name": "stdout",
     "output_type": "stream",
     "text": [
      "\n",
      "                                               title        date       query  \\\n",
      "0  BRIEF-Apple Inc Says Not Allowing Entertainmen...  2020-03-15  Apple Inc.   \n",
      "1  Apple signs multi-year deals with major music ...  2020-03-12  Apple Inc.   \n",
      "2  Apple signs multi-year deals with major music ...  2020-03-12  Apple Inc.   \n",
      "3  Chinese regulators remove 'Plague Inc' game fr...  2020-02-28  Apple Inc.   \n",
      "4  UPDATE 1-Chinese regulators remove 'Plague Inc...  2020-02-28  Apple Inc.   \n",
      "\n",
      "                                             url ticker  \\\n",
      "0  https://www.reuters.com/article/idUSFWN2B61K2   AAPL   \n",
      "1  https://www.reuters.com/article/idUSKBN20Z33J   AAPL   \n",
      "2  https://www.reuters.com/article/idUSL4N2B54T2   AAPL   \n",
      "3  https://www.reuters.com/article/idUSKCN20M043   AAPL   \n",
      "4  https://www.reuters.com/article/idUSL3N2AS0OO   AAPL   \n",
      "\n",
      "                                             content  \n",
      "0  March 14 (Reuters) - Apple Inc: * APPLE INC SA...  \n",
      "1  (Reuters) - Apple Inc has sealed multi-year li...  \n",
      "2  (Reuters) - Apple Inc has sealed multi-year li...  \n",
      "3  BEIJING/SHANGHAI (Reuters) - The video game “P...  \n",
      "4  BEIJING/SHANGHAI (Reuters) - The video game “P...  \n",
      "Start NEE\n"
     ]
    },
    {
     "data": {
      "application/vnd.jupyter.widget-view+json": {
       "model_id": "fe73e213d8204b058fa40e527cda6e7a",
       "version_major": 2,
       "version_minor": 0
      },
      "text/plain": [
       "HBox(children=(FloatProgress(value=0.0, description='Dask Apply', max=31.0, style=ProgressStyle(description_wi…"
      ]
     },
     "metadata": {},
     "output_type": "display_data"
    },
    {
     "name": "stdout",
     "output_type": "stream",
     "text": [
      "\n",
      "                                               title        date       query  \\\n",
      "0  BRIEF-Apple Inc Says Not Allowing Entertainmen...  2020-03-15  Apple Inc.   \n",
      "1  Apple signs multi-year deals with major music ...  2020-03-12  Apple Inc.   \n",
      "2  Apple signs multi-year deals with major music ...  2020-03-12  Apple Inc.   \n",
      "3  Chinese regulators remove 'Plague Inc' game fr...  2020-02-28  Apple Inc.   \n",
      "4  UPDATE 1-Chinese regulators remove 'Plague Inc...  2020-02-28  Apple Inc.   \n",
      "\n",
      "                                             url ticker  \\\n",
      "0  https://www.reuters.com/article/idUSFWN2B61K2   AAPL   \n",
      "1  https://www.reuters.com/article/idUSKBN20Z33J   AAPL   \n",
      "2  https://www.reuters.com/article/idUSL4N2B54T2   AAPL   \n",
      "3  https://www.reuters.com/article/idUSKCN20M043   AAPL   \n",
      "4  https://www.reuters.com/article/idUSL3N2AS0OO   AAPL   \n",
      "\n",
      "                                             content  \n",
      "0  March 14 (Reuters) - Apple Inc: * APPLE INC SA...  \n",
      "1  (Reuters) - Apple Inc has sealed multi-year li...  \n",
      "2  (Reuters) - Apple Inc has sealed multi-year li...  \n",
      "3  BEIJING/SHANGHAI (Reuters) - The video game “P...  \n",
      "4  BEIJING/SHANGHAI (Reuters) - The video game “P...  \n",
      "Start MDT\n"
     ]
    },
    {
     "data": {
      "application/vnd.jupyter.widget-view+json": {
       "model_id": "dfa11336588f44fe88e88107caf186d7",
       "version_major": 2,
       "version_minor": 0
      },
      "text/plain": [
       "HBox(children=(FloatProgress(value=0.0, description='Dask Apply', max=26.0, style=ProgressStyle(description_wi…"
      ]
     },
     "metadata": {},
     "output_type": "display_data"
    },
    {
     "name": "stdout",
     "output_type": "stream",
     "text": [
      "\n",
      "                                               title        date       query  \\\n",
      "0  BRIEF-Apple Inc Says Not Allowing Entertainmen...  2020-03-15  Apple Inc.   \n",
      "1  Apple signs multi-year deals with major music ...  2020-03-12  Apple Inc.   \n",
      "2  Apple signs multi-year deals with major music ...  2020-03-12  Apple Inc.   \n",
      "3  Chinese regulators remove 'Plague Inc' game fr...  2020-02-28  Apple Inc.   \n",
      "4  UPDATE 1-Chinese regulators remove 'Plague Inc...  2020-02-28  Apple Inc.   \n",
      "\n",
      "                                             url ticker  \\\n",
      "0  https://www.reuters.com/article/idUSFWN2B61K2   AAPL   \n",
      "1  https://www.reuters.com/article/idUSKBN20Z33J   AAPL   \n",
      "2  https://www.reuters.com/article/idUSL4N2B54T2   AAPL   \n",
      "3  https://www.reuters.com/article/idUSKCN20M043   AAPL   \n",
      "4  https://www.reuters.com/article/idUSL3N2AS0OO   AAPL   \n",
      "\n",
      "                                             content  \n",
      "0  March 14 (Reuters) - Apple Inc: * APPLE INC SA...  \n",
      "1  (Reuters) - Apple Inc has sealed multi-year li...  \n",
      "2  (Reuters) - Apple Inc has sealed multi-year li...  \n",
      "3  BEIJING/SHANGHAI (Reuters) - The video game “P...  \n",
      "4  BEIJING/SHANGHAI (Reuters) - The video game “P...  \n",
      "Start LIN\n"
     ]
    },
    {
     "data": {
      "application/vnd.jupyter.widget-view+json": {
       "model_id": "ab49b5aa0a9f45deadcec8db8208760a",
       "version_major": 2,
       "version_minor": 0
      },
      "text/plain": [
       "HBox(children=(FloatProgress(value=0.0, description='Dask Apply', max=28.0, style=ProgressStyle(description_wi…"
      ]
     },
     "metadata": {},
     "output_type": "display_data"
    },
    {
     "name": "stdout",
     "output_type": "stream",
     "text": [
      "\n",
      "                                               title        date       query  \\\n",
      "0  BRIEF-Apple Inc Says Not Allowing Entertainmen...  2020-03-15  Apple Inc.   \n",
      "1  Apple signs multi-year deals with major music ...  2020-03-12  Apple Inc.   \n",
      "2  Apple signs multi-year deals with major music ...  2020-03-12  Apple Inc.   \n",
      "3  Chinese regulators remove 'Plague Inc' game fr...  2020-02-28  Apple Inc.   \n",
      "4  UPDATE 1-Chinese regulators remove 'Plague Inc...  2020-02-28  Apple Inc.   \n",
      "\n",
      "                                             url ticker  \\\n",
      "0  https://www.reuters.com/article/idUSFWN2B61K2   AAPL   \n",
      "1  https://www.reuters.com/article/idUSKBN20Z33J   AAPL   \n",
      "2  https://www.reuters.com/article/idUSL4N2B54T2   AAPL   \n",
      "3  https://www.reuters.com/article/idUSKCN20M043   AAPL   \n",
      "4  https://www.reuters.com/article/idUSL3N2AS0OO   AAPL   \n",
      "\n",
      "                                             content  \n",
      "0  March 14 (Reuters) - Apple Inc: * APPLE INC SA...  \n",
      "1  (Reuters) - Apple Inc has sealed multi-year li...  \n",
      "2  (Reuters) - Apple Inc has sealed multi-year li...  \n",
      "3  BEIJING/SHANGHAI (Reuters) - The video game “P...  \n",
      "4  BEIJING/SHANGHAI (Reuters) - The video game “P...  \n",
      "Start AVGO\n"
     ]
    },
    {
     "data": {
      "application/vnd.jupyter.widget-view+json": {
       "model_id": "8026f179e9754badb91f066e189d32eb",
       "version_major": 2,
       "version_minor": 0
      },
      "text/plain": [
       "HBox(children=(FloatProgress(value=0.0, description='Dask Apply', max=32.0, style=ProgressStyle(description_wi…"
      ]
     },
     "metadata": {},
     "output_type": "display_data"
    },
    {
     "name": "stdout",
     "output_type": "stream",
     "text": [
      "\n",
      "                                               title        date       query  \\\n",
      "0  BRIEF-Apple Inc Says Not Allowing Entertainmen...  2020-03-15  Apple Inc.   \n",
      "1  Apple signs multi-year deals with major music ...  2020-03-12  Apple Inc.   \n",
      "2  Apple signs multi-year deals with major music ...  2020-03-12  Apple Inc.   \n",
      "3  Chinese regulators remove 'Plague Inc' game fr...  2020-02-28  Apple Inc.   \n",
      "4  UPDATE 1-Chinese regulators remove 'Plague Inc...  2020-02-28  Apple Inc.   \n",
      "\n",
      "                                             url ticker  \\\n",
      "0  https://www.reuters.com/article/idUSFWN2B61K2   AAPL   \n",
      "1  https://www.reuters.com/article/idUSKBN20Z33J   AAPL   \n",
      "2  https://www.reuters.com/article/idUSL4N2B54T2   AAPL   \n",
      "3  https://www.reuters.com/article/idUSKCN20M043   AAPL   \n",
      "4  https://www.reuters.com/article/idUSL3N2AS0OO   AAPL   \n",
      "\n",
      "                                             content  \n",
      "0  March 14 (Reuters) - Apple Inc: * APPLE INC SA...  \n",
      "1  (Reuters) - Apple Inc has sealed multi-year li...  \n",
      "2  (Reuters) - Apple Inc has sealed multi-year li...  \n",
      "3  BEIJING/SHANGHAI (Reuters) - The video game “P...  \n",
      "4  BEIJING/SHANGHAI (Reuters) - The video game “P...  \n",
      "Start TXN\n"
     ]
    },
    {
     "data": {
      "application/vnd.jupyter.widget-view+json": {
       "model_id": "92fed5f587964ba5a8542b05978355b3",
       "version_major": 2,
       "version_minor": 0
      },
      "text/plain": [
       "HBox(children=(FloatProgress(value=0.0, description='Dask Apply', max=29.0, style=ProgressStyle(description_wi…"
      ]
     },
     "metadata": {},
     "output_type": "display_data"
    },
    {
     "name": "stdout",
     "output_type": "stream",
     "text": [
      "\n",
      "                                               title        date       query  \\\n",
      "0  BRIEF-Apple Inc Says Not Allowing Entertainmen...  2020-03-15  Apple Inc.   \n",
      "1  Apple signs multi-year deals with major music ...  2020-03-12  Apple Inc.   \n",
      "2  Apple signs multi-year deals with major music ...  2020-03-12  Apple Inc.   \n",
      "3  Chinese regulators remove 'Plague Inc' game fr...  2020-02-28  Apple Inc.   \n",
      "4  UPDATE 1-Chinese regulators remove 'Plague Inc...  2020-02-28  Apple Inc.   \n",
      "\n",
      "                                             url ticker  \\\n",
      "0  https://www.reuters.com/article/idUSFWN2B61K2   AAPL   \n",
      "1  https://www.reuters.com/article/idUSKBN20Z33J   AAPL   \n",
      "2  https://www.reuters.com/article/idUSL4N2B54T2   AAPL   \n",
      "3  https://www.reuters.com/article/idUSKCN20M043   AAPL   \n",
      "4  https://www.reuters.com/article/idUSL3N2AS0OO   AAPL   \n",
      "\n",
      "                                             content  \n",
      "0  March 14 (Reuters) - Apple Inc: * APPLE INC SA...  \n",
      "1  (Reuters) - Apple Inc has sealed multi-year li...  \n",
      "2  (Reuters) - Apple Inc has sealed multi-year li...  \n",
      "3  BEIJING/SHANGHAI (Reuters) - The video game “P...  \n",
      "4  BEIJING/SHANGHAI (Reuters) - The video game “P...  \n",
      "Start NKE\n"
     ]
    },
    {
     "data": {
      "application/vnd.jupyter.widget-view+json": {
       "model_id": "3fcf5073cda14ed18219ad6341a6e570",
       "version_major": 2,
       "version_minor": 0
      },
      "text/plain": [
       "HBox(children=(FloatProgress(value=0.0, description='Dask Apply', max=32.0, style=ProgressStyle(description_wi…"
      ]
     },
     "metadata": {},
     "output_type": "display_data"
    },
    {
     "name": "stdout",
     "output_type": "stream",
     "text": [
      "\n",
      "                                               title        date       query  \\\n",
      "0  BRIEF-Apple Inc Says Not Allowing Entertainmen...  2020-03-15  Apple Inc.   \n",
      "1  Apple signs multi-year deals with major music ...  2020-03-12  Apple Inc.   \n",
      "2  Apple signs multi-year deals with major music ...  2020-03-12  Apple Inc.   \n",
      "3  Chinese regulators remove 'Plague Inc' game fr...  2020-02-28  Apple Inc.   \n",
      "4  UPDATE 1-Chinese regulators remove 'Plague Inc...  2020-02-28  Apple Inc.   \n",
      "\n",
      "                                             url ticker  \\\n",
      "0  https://www.reuters.com/article/idUSFWN2B61K2   AAPL   \n",
      "1  https://www.reuters.com/article/idUSKBN20Z33J   AAPL   \n",
      "2  https://www.reuters.com/article/idUSL4N2B54T2   AAPL   \n",
      "3  https://www.reuters.com/article/idUSKCN20M043   AAPL   \n",
      "4  https://www.reuters.com/article/idUSL3N2AS0OO   AAPL   \n",
      "\n",
      "                                             content  \n",
      "0  March 14 (Reuters) - Apple Inc: * APPLE INC SA...  \n",
      "1  (Reuters) - Apple Inc has sealed multi-year li...  \n",
      "2  (Reuters) - Apple Inc has sealed multi-year li...  \n",
      "3  BEIJING/SHANGHAI (Reuters) - The video game “P...  \n",
      "4  BEIJING/SHANGHAI (Reuters) - The video game “P...  \n",
      "Start UNP\n"
     ]
    },
    {
     "data": {
      "application/vnd.jupyter.widget-view+json": {
       "model_id": "34ffdd82df1b4ec994f49e411101313d",
       "version_major": 2,
       "version_minor": 0
      },
      "text/plain": [
       "HBox(children=(FloatProgress(value=0.0, description='Dask Apply', max=31.0, style=ProgressStyle(description_wi…"
      ]
     },
     "metadata": {},
     "output_type": "display_data"
    },
    {
     "name": "stdout",
     "output_type": "stream",
     "text": [
      "\n",
      "                                               title        date       query  \\\n",
      "0  BRIEF-Apple Inc Says Not Allowing Entertainmen...  2020-03-15  Apple Inc.   \n",
      "1  Apple signs multi-year deals with major music ...  2020-03-12  Apple Inc.   \n",
      "2  Apple signs multi-year deals with major music ...  2020-03-12  Apple Inc.   \n",
      "3  Chinese regulators remove 'Plague Inc' game fr...  2020-02-28  Apple Inc.   \n",
      "4  UPDATE 1-Chinese regulators remove 'Plague Inc...  2020-02-28  Apple Inc.   \n",
      "\n",
      "                                             url ticker  \\\n",
      "0  https://www.reuters.com/article/idUSFWN2B61K2   AAPL   \n",
      "1  https://www.reuters.com/article/idUSKBN20Z33J   AAPL   \n",
      "2  https://www.reuters.com/article/idUSL4N2B54T2   AAPL   \n",
      "3  https://www.reuters.com/article/idUSKCN20M043   AAPL   \n",
      "4  https://www.reuters.com/article/idUSL3N2AS0OO   AAPL   \n",
      "\n",
      "                                             content  \n",
      "0  March 14 (Reuters) - Apple Inc: * APPLE INC SA...  \n",
      "1  (Reuters) - Apple Inc has sealed multi-year li...  \n",
      "2  (Reuters) - Apple Inc has sealed multi-year li...  \n",
      "3  BEIJING/SHANGHAI (Reuters) - The video game “P...  \n",
      "4  BEIJING/SHANGHAI (Reuters) - The video game “P...  \n",
      "Start DHR\n"
     ]
    },
    {
     "data": {
      "application/vnd.jupyter.widget-view+json": {
       "model_id": "34eb0037673e454a8b0c085ab9a437ef",
       "version_major": 2,
       "version_minor": 0
      },
      "text/plain": [
       "HBox(children=(FloatProgress(value=0.0, description='Dask Apply', max=26.0, style=ProgressStyle(description_wi…"
      ]
     },
     "metadata": {},
     "output_type": "display_data"
    },
    {
     "name": "stdout",
     "output_type": "stream",
     "text": [
      "\n",
      "                                               title        date       query  \\\n",
      "0  BRIEF-Apple Inc Says Not Allowing Entertainmen...  2020-03-15  Apple Inc.   \n",
      "1  Apple signs multi-year deals with major music ...  2020-03-12  Apple Inc.   \n",
      "2  Apple signs multi-year deals with major music ...  2020-03-12  Apple Inc.   \n",
      "3  Chinese regulators remove 'Plague Inc' game fr...  2020-02-28  Apple Inc.   \n",
      "4  UPDATE 1-Chinese regulators remove 'Plague Inc...  2020-02-28  Apple Inc.   \n",
      "\n",
      "                                             url ticker  \\\n",
      "0  https://www.reuters.com/article/idUSFWN2B61K2   AAPL   \n",
      "1  https://www.reuters.com/article/idUSKBN20Z33J   AAPL   \n",
      "2  https://www.reuters.com/article/idUSL4N2B54T2   AAPL   \n",
      "3  https://www.reuters.com/article/idUSKCN20M043   AAPL   \n",
      "4  https://www.reuters.com/article/idUSL3N2AS0OO   AAPL   \n",
      "\n",
      "                                             content  \n",
      "0  March 14 (Reuters) - Apple Inc: * APPLE INC SA...  \n",
      "1  (Reuters) - Apple Inc has sealed multi-year li...  \n",
      "2  (Reuters) - Apple Inc has sealed multi-year li...  \n",
      "3  BEIJING/SHANGHAI (Reuters) - The video game “P...  \n",
      "4  BEIJING/SHANGHAI (Reuters) - The video game “P...  \n",
      "Start PM\n"
     ]
    },
    {
     "data": {
      "application/vnd.jupyter.widget-view+json": {
       "model_id": "9769292455f5401b8885b04bc1cf1528",
       "version_major": 2,
       "version_minor": 0
      },
      "text/plain": [
       "HBox(children=(FloatProgress(value=0.0, description='Dask Apply', max=32.0, style=ProgressStyle(description_wi…"
      ]
     },
     "metadata": {},
     "output_type": "display_data"
    },
    {
     "name": "stdout",
     "output_type": "stream",
     "text": [
      "\n",
      "                                               title        date       query  \\\n",
      "0  BRIEF-Apple Inc Says Not Allowing Entertainmen...  2020-03-15  Apple Inc.   \n",
      "1  Apple signs multi-year deals with major music ...  2020-03-12  Apple Inc.   \n",
      "2  Apple signs multi-year deals with major music ...  2020-03-12  Apple Inc.   \n",
      "3  Chinese regulators remove 'Plague Inc' game fr...  2020-02-28  Apple Inc.   \n",
      "4  UPDATE 1-Chinese regulators remove 'Plague Inc...  2020-02-28  Apple Inc.   \n",
      "\n",
      "                                             url ticker  \\\n",
      "0  https://www.reuters.com/article/idUSFWN2B61K2   AAPL   \n",
      "1  https://www.reuters.com/article/idUSKBN20Z33J   AAPL   \n",
      "2  https://www.reuters.com/article/idUSL4N2B54T2   AAPL   \n",
      "3  https://www.reuters.com/article/idUSKCN20M043   AAPL   \n",
      "4  https://www.reuters.com/article/idUSL3N2AS0OO   AAPL   \n",
      "\n",
      "                                             content  \n",
      "0  March 14 (Reuters) - Apple Inc: * APPLE INC SA...  \n",
      "1  (Reuters) - Apple Inc has sealed multi-year li...  \n",
      "2  (Reuters) - Apple Inc has sealed multi-year li...  \n",
      "3  BEIJING/SHANGHAI (Reuters) - The video game “P...  \n",
      "4  BEIJING/SHANGHAI (Reuters) - The video game “P...  \n",
      "Start ORCL\n"
     ]
    },
    {
     "data": {
      "application/vnd.jupyter.widget-view+json": {
       "model_id": "f9aa3f0fd5044cdbab4e6c003088f2d2",
       "version_major": 2,
       "version_minor": 0
      },
      "text/plain": [
       "HBox(children=(FloatProgress(value=0.0, description='Dask Apply', max=31.0, style=ProgressStyle(description_wi…"
      ]
     },
     "metadata": {},
     "output_type": "display_data"
    },
    {
     "name": "stdout",
     "output_type": "stream",
     "text": [
      "\n",
      "                                               title        date       query  \\\n",
      "0  BRIEF-Apple Inc Says Not Allowing Entertainmen...  2020-03-15  Apple Inc.   \n",
      "1  Apple signs multi-year deals with major music ...  2020-03-12  Apple Inc.   \n",
      "2  Apple signs multi-year deals with major music ...  2020-03-12  Apple Inc.   \n",
      "3  Chinese regulators remove 'Plague Inc' game fr...  2020-02-28  Apple Inc.   \n",
      "4  UPDATE 1-Chinese regulators remove 'Plague Inc...  2020-02-28  Apple Inc.   \n",
      "\n",
      "                                             url ticker  \\\n",
      "0  https://www.reuters.com/article/idUSFWN2B61K2   AAPL   \n",
      "1  https://www.reuters.com/article/idUSKBN20Z33J   AAPL   \n",
      "2  https://www.reuters.com/article/idUSL4N2B54T2   AAPL   \n",
      "3  https://www.reuters.com/article/idUSKCN20M043   AAPL   \n",
      "4  https://www.reuters.com/article/idUSL3N2AS0OO   AAPL   \n",
      "\n",
      "                                             content  \n",
      "0  March 14 (Reuters) - Apple Inc: * APPLE INC SA...  \n",
      "1  (Reuters) - Apple Inc has sealed multi-year li...  \n",
      "2  (Reuters) - Apple Inc has sealed multi-year li...  \n",
      "3  BEIJING/SHANGHAI (Reuters) - The video game “P...  \n",
      "4  BEIJING/SHANGHAI (Reuters) - The video game “P...  \n",
      "Start AMT\n"
     ]
    },
    {
     "data": {
      "application/vnd.jupyter.widget-view+json": {
       "model_id": "47c34e960b2247c081ddc98bdd8aa69b",
       "version_major": 2,
       "version_minor": 0
      },
      "text/plain": [
       "HBox(children=(FloatProgress(value=0.0, description='Dask Apply', max=32.0, style=ProgressStyle(description_wi…"
      ]
     },
     "metadata": {},
     "output_type": "display_data"
    },
    {
     "name": "stdout",
     "output_type": "stream",
     "text": [
      "\n",
      "                                               title        date       query  \\\n",
      "0  BRIEF-Apple Inc Says Not Allowing Entertainmen...  2020-03-15  Apple Inc.   \n",
      "1  Apple signs multi-year deals with major music ...  2020-03-12  Apple Inc.   \n",
      "2  Apple signs multi-year deals with major music ...  2020-03-12  Apple Inc.   \n",
      "3  Chinese regulators remove 'Plague Inc' game fr...  2020-02-28  Apple Inc.   \n",
      "4  UPDATE 1-Chinese regulators remove 'Plague Inc...  2020-02-28  Apple Inc.   \n",
      "\n",
      "                                             url ticker  \\\n",
      "0  https://www.reuters.com/article/idUSFWN2B61K2   AAPL   \n",
      "1  https://www.reuters.com/article/idUSKBN20Z33J   AAPL   \n",
      "2  https://www.reuters.com/article/idUSL4N2B54T2   AAPL   \n",
      "3  https://www.reuters.com/article/idUSKCN20M043   AAPL   \n",
      "4  https://www.reuters.com/article/idUSL3N2AS0OO   AAPL   \n",
      "\n",
      "                                             content  \n",
      "0  March 14 (Reuters) - Apple Inc: * APPLE INC SA...  \n",
      "1  (Reuters) - Apple Inc has sealed multi-year li...  \n",
      "2  (Reuters) - Apple Inc has sealed multi-year li...  \n",
      "3  BEIJING/SHANGHAI (Reuters) - The video game “P...  \n",
      "4  BEIJING/SHANGHAI (Reuters) - The video game “P...  \n",
      "Start IBM\n"
     ]
    },
    {
     "data": {
      "application/vnd.jupyter.widget-view+json": {
       "model_id": "cab292abe05f4b3bbe145788bc5dce3f",
       "version_major": 2,
       "version_minor": 0
      },
      "text/plain": [
       "HBox(children=(FloatProgress(value=0.0, description='Dask Apply', max=32.0, style=ProgressStyle(description_wi…"
      ]
     },
     "metadata": {},
     "output_type": "display_data"
    },
    {
     "name": "stdout",
     "output_type": "stream",
     "text": [
      "\n",
      "                                               title        date       query  \\\n",
      "0  BRIEF-Apple Inc Says Not Allowing Entertainmen...  2020-03-15  Apple Inc.   \n",
      "1  Apple signs multi-year deals with major music ...  2020-03-12  Apple Inc.   \n",
      "2  Apple signs multi-year deals with major music ...  2020-03-12  Apple Inc.   \n",
      "3  Chinese regulators remove 'Plague Inc' game fr...  2020-02-28  Apple Inc.   \n",
      "4  UPDATE 1-Chinese regulators remove 'Plague Inc...  2020-02-28  Apple Inc.   \n",
      "\n",
      "                                             url ticker  \\\n",
      "0  https://www.reuters.com/article/idUSFWN2B61K2   AAPL   \n",
      "1  https://www.reuters.com/article/idUSKBN20Z33J   AAPL   \n",
      "2  https://www.reuters.com/article/idUSL4N2B54T2   AAPL   \n",
      "3  https://www.reuters.com/article/idUSKCN20M043   AAPL   \n",
      "4  https://www.reuters.com/article/idUSL3N2AS0OO   AAPL   \n",
      "\n",
      "                                             content  \n",
      "0  March 14 (Reuters) - Apple Inc: * APPLE INC SA...  \n",
      "1  (Reuters) - Apple Inc has sealed multi-year li...  \n",
      "2  (Reuters) - Apple Inc has sealed multi-year li...  \n",
      "3  BEIJING/SHANGHAI (Reuters) - The video game “P...  \n",
      "4  BEIJING/SHANGHAI (Reuters) - The video game “P...  \n",
      "Start LOW\n"
     ]
    },
    {
     "data": {
      "application/vnd.jupyter.widget-view+json": {
       "model_id": "3eb0247dc38e45b88c9f7d124773a016",
       "version_major": 2,
       "version_minor": 0
      },
      "text/plain": [
       "HBox(children=(FloatProgress(value=0.0, description='Dask Apply', max=32.0, style=ProgressStyle(description_wi…"
      ]
     },
     "metadata": {},
     "output_type": "display_data"
    },
    {
     "name": "stdout",
     "output_type": "stream",
     "text": [
      "\n",
      "                                               title        date       query  \\\n",
      "0  BRIEF-Apple Inc Says Not Allowing Entertainmen...  2020-03-15  Apple Inc.   \n",
      "1  Apple signs multi-year deals with major music ...  2020-03-12  Apple Inc.   \n",
      "2  Apple signs multi-year deals with major music ...  2020-03-12  Apple Inc.   \n",
      "3  Chinese regulators remove 'Plague Inc' game fr...  2020-02-28  Apple Inc.   \n",
      "4  UPDATE 1-Chinese regulators remove 'Plague Inc...  2020-02-28  Apple Inc.   \n",
      "\n",
      "                                             url ticker  \\\n",
      "0  https://www.reuters.com/article/idUSFWN2B61K2   AAPL   \n",
      "1  https://www.reuters.com/article/idUSKBN20Z33J   AAPL   \n",
      "2  https://www.reuters.com/article/idUSL4N2B54T2   AAPL   \n",
      "3  https://www.reuters.com/article/idUSKCN20M043   AAPL   \n",
      "4  https://www.reuters.com/article/idUSL3N2AS0OO   AAPL   \n",
      "\n",
      "                                             content  \n",
      "0  March 14 (Reuters) - Apple Inc: * APPLE INC SA...  \n",
      "1  (Reuters) - Apple Inc has sealed multi-year li...  \n",
      "2  (Reuters) - Apple Inc has sealed multi-year li...  \n",
      "3  BEIJING/SHANGHAI (Reuters) - The video game “P...  \n",
      "4  BEIJING/SHANGHAI (Reuters) - The video game “P...  \n",
      "Start HON\n"
     ]
    },
    {
     "data": {
      "application/vnd.jupyter.widget-view+json": {
       "model_id": "6dcf811318b94358a67d532eb7677280",
       "version_major": 2,
       "version_minor": 0
      },
      "text/plain": [
       "HBox(children=(FloatProgress(value=0.0, description='Dask Apply', max=31.0, style=ProgressStyle(description_wi…"
      ]
     },
     "metadata": {},
     "output_type": "display_data"
    },
    {
     "name": "stdout",
     "output_type": "stream",
     "text": [
      "\n",
      "                                               title        date       query  \\\n",
      "0  BRIEF-Apple Inc Says Not Allowing Entertainmen...  2020-03-15  Apple Inc.   \n",
      "1  Apple signs multi-year deals with major music ...  2020-03-12  Apple Inc.   \n",
      "2  Apple signs multi-year deals with major music ...  2020-03-12  Apple Inc.   \n",
      "3  Chinese regulators remove 'Plague Inc' game fr...  2020-02-28  Apple Inc.   \n",
      "4  UPDATE 1-Chinese regulators remove 'Plague Inc...  2020-02-28  Apple Inc.   \n",
      "\n",
      "                                             url ticker  \\\n",
      "0  https://www.reuters.com/article/idUSFWN2B61K2   AAPL   \n",
      "1  https://www.reuters.com/article/idUSKBN20Z33J   AAPL   \n",
      "2  https://www.reuters.com/article/idUSL4N2B54T2   AAPL   \n",
      "3  https://www.reuters.com/article/idUSKCN20M043   AAPL   \n",
      "4  https://www.reuters.com/article/idUSL3N2AS0OO   AAPL   \n",
      "\n",
      "                                             content  \n",
      "0  March 14 (Reuters) - Apple Inc: * APPLE INC SA...  \n",
      "1  (Reuters) - Apple Inc has sealed multi-year li...  \n",
      "2  (Reuters) - Apple Inc has sealed multi-year li...  \n",
      "3  BEIJING/SHANGHAI (Reuters) - The video game “P...  \n",
      "4  BEIJING/SHANGHAI (Reuters) - The video game “P...  \n",
      "Start C\n"
     ]
    },
    {
     "data": {
      "application/vnd.jupyter.widget-view+json": {
       "model_id": "140fc1c2e4084976aa8d59084dd01325",
       "version_major": 2,
       "version_minor": 0
      },
      "text/plain": [
       "HBox(children=(FloatProgress(value=0.0, description='Dask Apply', max=32.0, style=ProgressStyle(description_wi…"
      ]
     },
     "metadata": {},
     "output_type": "display_data"
    },
    {
     "name": "stdout",
     "output_type": "stream",
     "text": [
      "\n",
      "                                               title        date       query  \\\n",
      "0  BRIEF-Apple Inc Says Not Allowing Entertainmen...  2020-03-15  Apple Inc.   \n",
      "1  Apple signs multi-year deals with major music ...  2020-03-12  Apple Inc.   \n",
      "2  Apple signs multi-year deals with major music ...  2020-03-12  Apple Inc.   \n",
      "3  Chinese regulators remove 'Plague Inc' game fr...  2020-02-28  Apple Inc.   \n",
      "4  UPDATE 1-Chinese regulators remove 'Plague Inc...  2020-02-28  Apple Inc.   \n",
      "\n",
      "                                             url ticker  \\\n",
      "0  https://www.reuters.com/article/idUSFWN2B61K2   AAPL   \n",
      "1  https://www.reuters.com/article/idUSKBN20Z33J   AAPL   \n",
      "2  https://www.reuters.com/article/idUSL4N2B54T2   AAPL   \n",
      "3  https://www.reuters.com/article/idUSKCN20M043   AAPL   \n",
      "4  https://www.reuters.com/article/idUSL3N2AS0OO   AAPL   \n",
      "\n",
      "                                             content  \n",
      "0  March 14 (Reuters) - Apple Inc: * APPLE INC SA...  \n",
      "1  (Reuters) - Apple Inc has sealed multi-year li...  \n",
      "2  (Reuters) - Apple Inc has sealed multi-year li...  \n",
      "3  BEIJING/SHANGHAI (Reuters) - The video game “P...  \n",
      "4  BEIJING/SHANGHAI (Reuters) - The video game “P...  \n",
      "Start QCOM\n"
     ]
    },
    {
     "data": {
      "application/vnd.jupyter.widget-view+json": {
       "model_id": "12bea0e63f724156b1a97ab03cdacef3",
       "version_major": 2,
       "version_minor": 0
      },
      "text/plain": [
       "HBox(children=(FloatProgress(value=0.0, description='Dask Apply', max=32.0, style=ProgressStyle(description_wi…"
      ]
     },
     "metadata": {},
     "output_type": "display_data"
    },
    {
     "name": "stdout",
     "output_type": "stream",
     "text": [
      "\n",
      "                                               title        date       query  \\\n",
      "0  BRIEF-Apple Inc Says Not Allowing Entertainmen...  2020-03-15  Apple Inc.   \n",
      "1  Apple signs multi-year deals with major music ...  2020-03-12  Apple Inc.   \n",
      "2  Apple signs multi-year deals with major music ...  2020-03-12  Apple Inc.   \n",
      "3  Chinese regulators remove 'Plague Inc' game fr...  2020-02-28  Apple Inc.   \n",
      "4  UPDATE 1-Chinese regulators remove 'Plague Inc...  2020-02-28  Apple Inc.   \n",
      "\n",
      "                                             url ticker  \\\n",
      "0  https://www.reuters.com/article/idUSFWN2B61K2   AAPL   \n",
      "1  https://www.reuters.com/article/idUSKBN20Z33J   AAPL   \n",
      "2  https://www.reuters.com/article/idUSL4N2B54T2   AAPL   \n",
      "3  https://www.reuters.com/article/idUSKCN20M043   AAPL   \n",
      "4  https://www.reuters.com/article/idUSL3N2AS0OO   AAPL   \n",
      "\n",
      "                                             content  \n",
      "0  March 14 (Reuters) - Apple Inc: * APPLE INC SA...  \n",
      "1  (Reuters) - Apple Inc has sealed multi-year li...  \n",
      "2  (Reuters) - Apple Inc has sealed multi-year li...  \n",
      "3  BEIJING/SHANGHAI (Reuters) - The video game “P...  \n",
      "4  BEIJING/SHANGHAI (Reuters) - The video game “P...  \n",
      "Start GILD\n"
     ]
    },
    {
     "data": {
      "application/vnd.jupyter.widget-view+json": {
       "model_id": "56aef45ffb92433680dac414cb327542",
       "version_major": 2,
       "version_minor": 0
      },
      "text/plain": [
       "HBox(children=(FloatProgress(value=0.0, description='Dask Apply', max=32.0, style=ProgressStyle(description_wi…"
      ]
     },
     "metadata": {},
     "output_type": "display_data"
    },
    {
     "name": "stdout",
     "output_type": "stream",
     "text": [
      "\n",
      "                                               title        date       query  \\\n",
      "0  BRIEF-Apple Inc Says Not Allowing Entertainmen...  2020-03-15  Apple Inc.   \n",
      "1  Apple signs multi-year deals with major music ...  2020-03-12  Apple Inc.   \n",
      "2  Apple signs multi-year deals with major music ...  2020-03-12  Apple Inc.   \n",
      "3  Chinese regulators remove 'Plague Inc' game fr...  2020-02-28  Apple Inc.   \n",
      "4  UPDATE 1-Chinese regulators remove 'Plague Inc...  2020-02-28  Apple Inc.   \n",
      "\n",
      "                                             url ticker  \\\n",
      "0  https://www.reuters.com/article/idUSFWN2B61K2   AAPL   \n",
      "1  https://www.reuters.com/article/idUSKBN20Z33J   AAPL   \n",
      "2  https://www.reuters.com/article/idUSL4N2B54T2   AAPL   \n",
      "3  https://www.reuters.com/article/idUSKCN20M043   AAPL   \n",
      "4  https://www.reuters.com/article/idUSL3N2AS0OO   AAPL   \n",
      "\n",
      "                                             content  \n",
      "0  March 14 (Reuters) - Apple Inc: * APPLE INC SA...  \n",
      "1  (Reuters) - Apple Inc has sealed multi-year li...  \n",
      "2  (Reuters) - Apple Inc has sealed multi-year li...  \n",
      "3  BEIJING/SHANGHAI (Reuters) - The video game “P...  \n",
      "4  BEIJING/SHANGHAI (Reuters) - The video game “P...  \n",
      "Start BA\n"
     ]
    },
    {
     "data": {
      "application/vnd.jupyter.widget-view+json": {
       "model_id": "6c63e196622f4572ba7c596f9f8d1eff",
       "version_major": 2,
       "version_minor": 0
      },
      "text/plain": [
       "HBox(children=(FloatProgress(value=0.0, description='Dask Apply', max=32.0, style=ProgressStyle(description_wi…"
      ]
     },
     "metadata": {},
     "output_type": "display_data"
    },
    {
     "name": "stdout",
     "output_type": "stream",
     "text": [
      "\n",
      "                                               title        date       query  \\\n",
      "0  BRIEF-Apple Inc Says Not Allowing Entertainmen...  2020-03-15  Apple Inc.   \n",
      "1  Apple signs multi-year deals with major music ...  2020-03-12  Apple Inc.   \n",
      "2  Apple signs multi-year deals with major music ...  2020-03-12  Apple Inc.   \n",
      "3  Chinese regulators remove 'Plague Inc' game fr...  2020-02-28  Apple Inc.   \n",
      "4  UPDATE 1-Chinese regulators remove 'Plague Inc...  2020-02-28  Apple Inc.   \n",
      "\n",
      "                                             url ticker  \\\n",
      "0  https://www.reuters.com/article/idUSFWN2B61K2   AAPL   \n",
      "1  https://www.reuters.com/article/idUSKBN20Z33J   AAPL   \n",
      "2  https://www.reuters.com/article/idUSL4N2B54T2   AAPL   \n",
      "3  https://www.reuters.com/article/idUSKCN20M043   AAPL   \n",
      "4  https://www.reuters.com/article/idUSL3N2AS0OO   AAPL   \n",
      "\n",
      "                                             content  \n",
      "0  March 14 (Reuters) - Apple Inc: * APPLE INC SA...  \n",
      "1  (Reuters) - Apple Inc has sealed multi-year li...  \n",
      "2  (Reuters) - Apple Inc has sealed multi-year li...  \n",
      "3  BEIJING/SHANGHAI (Reuters) - The video game “P...  \n",
      "4  BEIJING/SHANGHAI (Reuters) - The video game “P...  \n",
      "Start WFC\n"
     ]
    },
    {
     "data": {
      "application/vnd.jupyter.widget-view+json": {
       "model_id": "1191683b6d9c4da7b84582cb761b7173",
       "version_major": 2,
       "version_minor": 0
      },
      "text/plain": [
       "HBox(children=(FloatProgress(value=0.0, description='Dask Apply', max=18.0, style=ProgressStyle(description_wi…"
      ]
     },
     "metadata": {},
     "output_type": "display_data"
    },
    {
     "name": "stdout",
     "output_type": "stream",
     "text": [
      "\n",
      "                                               title        date       query  \\\n",
      "0  BRIEF-Apple Inc Says Not Allowing Entertainmen...  2020-03-15  Apple Inc.   \n",
      "1  Apple signs multi-year deals with major music ...  2020-03-12  Apple Inc.   \n",
      "2  Apple signs multi-year deals with major music ...  2020-03-12  Apple Inc.   \n",
      "3  Chinese regulators remove 'Plague Inc' game fr...  2020-02-28  Apple Inc.   \n",
      "4  UPDATE 1-Chinese regulators remove 'Plague Inc...  2020-02-28  Apple Inc.   \n",
      "\n",
      "                                             url ticker  \\\n",
      "0  https://www.reuters.com/article/idUSFWN2B61K2   AAPL   \n",
      "1  https://www.reuters.com/article/idUSKBN20Z33J   AAPL   \n",
      "2  https://www.reuters.com/article/idUSL4N2B54T2   AAPL   \n",
      "3  https://www.reuters.com/article/idUSKCN20M043   AAPL   \n",
      "4  https://www.reuters.com/article/idUSL3N2AS0OO   AAPL   \n",
      "\n",
      "                                             content  \n",
      "0  March 14 (Reuters) - Apple Inc: * APPLE INC SA...  \n",
      "1  (Reuters) - Apple Inc has sealed multi-year li...  \n",
      "2  (Reuters) - Apple Inc has sealed multi-year li...  \n",
      "3  BEIJING/SHANGHAI (Reuters) - The video game “P...  \n",
      "4  BEIJING/SHANGHAI (Reuters) - The video game “P...  \n",
      "Start RTX\n"
     ]
    },
    {
     "data": {
      "application/vnd.jupyter.widget-view+json": {
       "model_id": "7c0cae1bdf1f4c15a0a5267e1ba6d545",
       "version_major": 2,
       "version_minor": 0
      },
      "text/plain": [
       "HBox(children=(FloatProgress(value=0.0, description='Dask Apply', max=20.0, style=ProgressStyle(description_wi…"
      ]
     },
     "metadata": {},
     "output_type": "display_data"
    },
    {
     "name": "stdout",
     "output_type": "stream",
     "text": [
      "\n",
      "                                               title        date       query  \\\n",
      "0  BRIEF-Apple Inc Says Not Allowing Entertainmen...  2020-03-15  Apple Inc.   \n",
      "1  Apple signs multi-year deals with major music ...  2020-03-12  Apple Inc.   \n",
      "2  Apple signs multi-year deals with major music ...  2020-03-12  Apple Inc.   \n",
      "3  Chinese regulators remove 'Plague Inc' game fr...  2020-02-28  Apple Inc.   \n",
      "4  UPDATE 1-Chinese regulators remove 'Plague Inc...  2020-02-28  Apple Inc.   \n",
      "\n",
      "                                             url ticker  \\\n",
      "0  https://www.reuters.com/article/idUSFWN2B61K2   AAPL   \n",
      "1  https://www.reuters.com/article/idUSKBN20Z33J   AAPL   \n",
      "2  https://www.reuters.com/article/idUSL4N2B54T2   AAPL   \n",
      "3  https://www.reuters.com/article/idUSKCN20M043   AAPL   \n",
      "4  https://www.reuters.com/article/idUSL3N2AS0OO   AAPL   \n",
      "\n",
      "                                             content  \n",
      "0  March 14 (Reuters) - Apple Inc: * APPLE INC SA...  \n",
      "1  (Reuters) - Apple Inc has sealed multi-year li...  \n",
      "2  (Reuters) - Apple Inc has sealed multi-year li...  \n",
      "3  BEIJING/SHANGHAI (Reuters) - The video game “P...  \n",
      "4  BEIJING/SHANGHAI (Reuters) - The video game “P...  \n",
      "Start LMT\n"
     ]
    },
    {
     "data": {
      "application/vnd.jupyter.widget-view+json": {
       "model_id": "18d49dcb60f24affa54fcda3a48955d4",
       "version_major": 2,
       "version_minor": 0
      },
      "text/plain": [
       "HBox(children=(FloatProgress(value=0.0, description='Dask Apply', max=22.0, style=ProgressStyle(description_wi…"
      ]
     },
     "metadata": {},
     "output_type": "display_data"
    },
    {
     "name": "stdout",
     "output_type": "stream",
     "text": [
      "\n",
      "                                               title        date       query  \\\n",
      "0  BRIEF-Apple Inc Says Not Allowing Entertainmen...  2020-03-15  Apple Inc.   \n",
      "1  Apple signs multi-year deals with major music ...  2020-03-12  Apple Inc.   \n",
      "2  Apple signs multi-year deals with major music ...  2020-03-12  Apple Inc.   \n",
      "3  Chinese regulators remove 'Plague Inc' game fr...  2020-02-28  Apple Inc.   \n",
      "4  UPDATE 1-Chinese regulators remove 'Plague Inc...  2020-02-28  Apple Inc.   \n",
      "\n",
      "                                             url ticker  \\\n",
      "0  https://www.reuters.com/article/idUSFWN2B61K2   AAPL   \n",
      "1  https://www.reuters.com/article/idUSKBN20Z33J   AAPL   \n",
      "2  https://www.reuters.com/article/idUSL4N2B54T2   AAPL   \n",
      "3  https://www.reuters.com/article/idUSKCN20M043   AAPL   \n",
      "4  https://www.reuters.com/article/idUSL3N2AS0OO   AAPL   \n",
      "\n",
      "                                             content  \n",
      "0  March 14 (Reuters) - Apple Inc: * APPLE INC SA...  \n",
      "1  (Reuters) - Apple Inc has sealed multi-year li...  \n",
      "2  (Reuters) - Apple Inc has sealed multi-year li...  \n",
      "3  BEIJING/SHANGHAI (Reuters) - The video game “P...  \n",
      "4  BEIJING/SHANGHAI (Reuters) - The video game “P...  \n",
      "Start BLK\n"
     ]
    },
    {
     "data": {
      "application/vnd.jupyter.widget-view+json": {
       "model_id": "88af147ee00a4df69eebd8053c03cd65",
       "version_major": 2,
       "version_minor": 0
      },
      "text/plain": [
       "HBox(children=(FloatProgress(value=0.0, description='Dask Apply', max=22.0, style=ProgressStyle(description_wi…"
      ]
     },
     "metadata": {},
     "output_type": "display_data"
    },
    {
     "name": "stdout",
     "output_type": "stream",
     "text": [
      "\n",
      "                                               title        date       query  \\\n",
      "0  BRIEF-Apple Inc Says Not Allowing Entertainmen...  2020-03-15  Apple Inc.   \n",
      "1  Apple signs multi-year deals with major music ...  2020-03-12  Apple Inc.   \n",
      "2  Apple signs multi-year deals with major music ...  2020-03-12  Apple Inc.   \n",
      "3  Chinese regulators remove 'Plague Inc' game fr...  2020-02-28  Apple Inc.   \n",
      "4  UPDATE 1-Chinese regulators remove 'Plague Inc...  2020-02-28  Apple Inc.   \n",
      "\n",
      "                                             url ticker  \\\n",
      "0  https://www.reuters.com/article/idUSFWN2B61K2   AAPL   \n",
      "1  https://www.reuters.com/article/idUSKBN20Z33J   AAPL   \n",
      "2  https://www.reuters.com/article/idUSL4N2B54T2   AAPL   \n",
      "3  https://www.reuters.com/article/idUSKCN20M043   AAPL   \n",
      "4  https://www.reuters.com/article/idUSL3N2AS0OO   AAPL   \n",
      "\n",
      "                                             content  \n",
      "0  March 14 (Reuters) - Apple Inc: * APPLE INC SA...  \n",
      "1  (Reuters) - Apple Inc has sealed multi-year li...  \n",
      "2  (Reuters) - Apple Inc has sealed multi-year li...  \n",
      "3  BEIJING/SHANGHAI (Reuters) - The video game “P...  \n",
      "4  BEIJING/SHANGHAI (Reuters) - The video game “P...  \n",
      "Start SBUX\n"
     ]
    },
    {
     "data": {
      "application/vnd.jupyter.widget-view+json": {
       "model_id": "fd88f71b327b4f478da44fe04eaec66d",
       "version_major": 2,
       "version_minor": 0
      },
      "text/plain": [
       "HBox(children=(FloatProgress(value=0.0, description='Dask Apply', max=27.0, style=ProgressStyle(description_wi…"
      ]
     },
     "metadata": {},
     "output_type": "display_data"
    },
    {
     "name": "stdout",
     "output_type": "stream",
     "text": [
      "\n",
      "                                               title        date       query  \\\n",
      "0  BRIEF-Apple Inc Says Not Allowing Entertainmen...  2020-03-15  Apple Inc.   \n",
      "1  Apple signs multi-year deals with major music ...  2020-03-12  Apple Inc.   \n",
      "2  Apple signs multi-year deals with major music ...  2020-03-12  Apple Inc.   \n",
      "3  Chinese regulators remove 'Plague Inc' game fr...  2020-02-28  Apple Inc.   \n",
      "4  UPDATE 1-Chinese regulators remove 'Plague Inc...  2020-02-28  Apple Inc.   \n",
      "\n",
      "                                             url ticker  \\\n",
      "0  https://www.reuters.com/article/idUSFWN2B61K2   AAPL   \n",
      "1  https://www.reuters.com/article/idUSKBN20Z33J   AAPL   \n",
      "2  https://www.reuters.com/article/idUSL4N2B54T2   AAPL   \n",
      "3  https://www.reuters.com/article/idUSKCN20M043   AAPL   \n",
      "4  https://www.reuters.com/article/idUSL3N2AS0OO   AAPL   \n",
      "\n",
      "                                             content  \n",
      "0  March 14 (Reuters) - Apple Inc: * APPLE INC SA...  \n",
      "1  (Reuters) - Apple Inc has sealed multi-year li...  \n",
      "2  (Reuters) - Apple Inc has sealed multi-year li...  \n",
      "3  BEIJING/SHANGHAI (Reuters) - The video game “P...  \n",
      "4  BEIJING/SHANGHAI (Reuters) - The video game “P...  \n",
      "Start CVS\n"
     ]
    },
    {
     "data": {
      "application/vnd.jupyter.widget-view+json": {
       "model_id": "17b5b1108b514995a0151af9114e1e7a",
       "version_major": 2,
       "version_minor": 0
      },
      "text/plain": [
       "HBox(children=(FloatProgress(value=0.0, description='Dask Apply', max=26.0, style=ProgressStyle(description_wi…"
      ]
     },
     "metadata": {},
     "output_type": "display_data"
    },
    {
     "name": "stdout",
     "output_type": "stream",
     "text": [
      "\n",
      "                                               title        date       query  \\\n",
      "0  BRIEF-Apple Inc Says Not Allowing Entertainmen...  2020-03-15  Apple Inc.   \n",
      "1  Apple signs multi-year deals with major music ...  2020-03-12  Apple Inc.   \n",
      "2  Apple signs multi-year deals with major music ...  2020-03-12  Apple Inc.   \n",
      "3  Chinese regulators remove 'Plague Inc' game fr...  2020-02-28  Apple Inc.   \n",
      "4  UPDATE 1-Chinese regulators remove 'Plague Inc...  2020-02-28  Apple Inc.   \n",
      "\n",
      "                                             url ticker  \\\n",
      "0  https://www.reuters.com/article/idUSFWN2B61K2   AAPL   \n",
      "1  https://www.reuters.com/article/idUSKBN20Z33J   AAPL   \n",
      "2  https://www.reuters.com/article/idUSL4N2B54T2   AAPL   \n",
      "3  https://www.reuters.com/article/idUSKCN20M043   AAPL   \n",
      "4  https://www.reuters.com/article/idUSL3N2AS0OO   AAPL   \n",
      "\n",
      "                                             content  \n",
      "0  March 14 (Reuters) - Apple Inc: * APPLE INC SA...  \n",
      "1  (Reuters) - Apple Inc has sealed multi-year li...  \n",
      "2  (Reuters) - Apple Inc has sealed multi-year li...  \n",
      "3  BEIJING/SHANGHAI (Reuters) - The video game “P...  \n",
      "4  BEIJING/SHANGHAI (Reuters) - The video game “P...  \n",
      "Start UPS\n"
     ]
    },
    {
     "data": {
      "application/vnd.jupyter.widget-view+json": {
       "model_id": "ac0d269458df4e68a7007ff30a6b851c",
       "version_major": 2,
       "version_minor": 0
      },
      "text/plain": [
       "HBox(children=(FloatProgress(value=0.0, description='Dask Apply', max=30.0, style=ProgressStyle(description_wi…"
      ]
     },
     "metadata": {},
     "output_type": "display_data"
    },
    {
     "name": "stdout",
     "output_type": "stream",
     "text": [
      "\n",
      "                                               title        date       query  \\\n",
      "0  BRIEF-Apple Inc Says Not Allowing Entertainmen...  2020-03-15  Apple Inc.   \n",
      "1  Apple signs multi-year deals with major music ...  2020-03-12  Apple Inc.   \n",
      "2  Apple signs multi-year deals with major music ...  2020-03-12  Apple Inc.   \n",
      "3  Chinese regulators remove 'Plague Inc' game fr...  2020-02-28  Apple Inc.   \n",
      "4  UPDATE 1-Chinese regulators remove 'Plague Inc...  2020-02-28  Apple Inc.   \n",
      "\n",
      "                                             url ticker  \\\n",
      "0  https://www.reuters.com/article/idUSFWN2B61K2   AAPL   \n",
      "1  https://www.reuters.com/article/idUSKBN20Z33J   AAPL   \n",
      "2  https://www.reuters.com/article/idUSL4N2B54T2   AAPL   \n",
      "3  https://www.reuters.com/article/idUSKCN20M043   AAPL   \n",
      "4  https://www.reuters.com/article/idUSL3N2AS0OO   AAPL   \n",
      "\n",
      "                                             content  \n",
      "0  March 14 (Reuters) - Apple Inc: * APPLE INC SA...  \n",
      "1  (Reuters) - Apple Inc has sealed multi-year li...  \n",
      "2  (Reuters) - Apple Inc has sealed multi-year li...  \n",
      "3  BEIJING/SHANGHAI (Reuters) - The video game “P...  \n",
      "4  BEIJING/SHANGHAI (Reuters) - The video game “P...  \n",
      "Start SPGI\n"
     ]
    },
    {
     "data": {
      "application/vnd.jupyter.widget-view+json": {
       "model_id": "a03ae998278a4cffa82017a199122dfd",
       "version_major": 2,
       "version_minor": 0
      },
      "text/plain": [
       "HBox(children=(FloatProgress(value=0.0, description='Dask Apply', max=31.0, style=ProgressStyle(description_wi…"
      ]
     },
     "metadata": {},
     "output_type": "display_data"
    },
    {
     "name": "stdout",
     "output_type": "stream",
     "text": [
      "\n",
      "                                               title        date       query  \\\n",
      "0  BRIEF-Apple Inc Says Not Allowing Entertainmen...  2020-03-15  Apple Inc.   \n",
      "1  Apple signs multi-year deals with major music ...  2020-03-12  Apple Inc.   \n",
      "2  Apple signs multi-year deals with major music ...  2020-03-12  Apple Inc.   \n",
      "3  Chinese regulators remove 'Plague Inc' game fr...  2020-02-28  Apple Inc.   \n",
      "4  UPDATE 1-Chinese regulators remove 'Plague Inc...  2020-02-28  Apple Inc.   \n",
      "\n",
      "                                             url ticker  \\\n",
      "0  https://www.reuters.com/article/idUSFWN2B61K2   AAPL   \n",
      "1  https://www.reuters.com/article/idUSKBN20Z33J   AAPL   \n",
      "2  https://www.reuters.com/article/idUSL4N2B54T2   AAPL   \n",
      "3  https://www.reuters.com/article/idUSKCN20M043   AAPL   \n",
      "4  https://www.reuters.com/article/idUSL3N2AS0OO   AAPL   \n",
      "\n",
      "                                             content  \n",
      "0  March 14 (Reuters) - Apple Inc: * APPLE INC SA...  \n",
      "1  (Reuters) - Apple Inc has sealed multi-year li...  \n",
      "2  (Reuters) - Apple Inc has sealed multi-year li...  \n",
      "3  BEIJING/SHANGHAI (Reuters) - The video game “P...  \n",
      "4  BEIJING/SHANGHAI (Reuters) - The video game “P...  \n",
      "Start CHTR\n"
     ]
    },
    {
     "data": {
      "application/vnd.jupyter.widget-view+json": {
       "model_id": "a575e5eda1f94cb89b6f284fe729bc78",
       "version_major": 2,
       "version_minor": 0
      },
      "text/plain": [
       "HBox(children=(FloatProgress(value=0.0, description='Dask Apply', max=10.0, style=ProgressStyle(description_wi…"
      ]
     },
     "metadata": {},
     "output_type": "display_data"
    },
    {
     "name": "stdout",
     "output_type": "stream",
     "text": [
      "\n",
      "                                               title        date       query  \\\n",
      "0  BRIEF-Apple Inc Says Not Allowing Entertainmen...  2020-03-15  Apple Inc.   \n",
      "1  Apple signs multi-year deals with major music ...  2020-03-12  Apple Inc.   \n",
      "2  Apple signs multi-year deals with major music ...  2020-03-12  Apple Inc.   \n",
      "3  Chinese regulators remove 'Plague Inc' game fr...  2020-02-28  Apple Inc.   \n",
      "4  UPDATE 1-Chinese regulators remove 'Plague Inc...  2020-02-28  Apple Inc.   \n",
      "\n",
      "                                             url ticker  \\\n",
      "0  https://www.reuters.com/article/idUSFWN2B61K2   AAPL   \n",
      "1  https://www.reuters.com/article/idUSKBN20Z33J   AAPL   \n",
      "2  https://www.reuters.com/article/idUSL4N2B54T2   AAPL   \n",
      "3  https://www.reuters.com/article/idUSKCN20M043   AAPL   \n",
      "4  https://www.reuters.com/article/idUSL3N2AS0OO   AAPL   \n",
      "\n",
      "                                             content  \n",
      "0  March 14 (Reuters) - Apple Inc: * APPLE INC SA...  \n",
      "1  (Reuters) - Apple Inc has sealed multi-year li...  \n",
      "2  (Reuters) - Apple Inc has sealed multi-year li...  \n",
      "3  BEIJING/SHANGHAI (Reuters) - The video game “P...  \n",
      "4  BEIJING/SHANGHAI (Reuters) - The video game “P...  \n",
      "Start BDX\n"
     ]
    },
    {
     "data": {
      "application/vnd.jupyter.widget-view+json": {
       "model_id": "131be00d7a414e06b077e7d7313c78bc",
       "version_major": 2,
       "version_minor": 0
      },
      "text/plain": [
       "HBox(children=(FloatProgress(value=0.0, description='Dask Apply', max=30.0, style=ProgressStyle(description_wi…"
      ]
     },
     "metadata": {},
     "output_type": "display_data"
    },
    {
     "name": "stdout",
     "output_type": "stream",
     "text": [
      "\n",
      "                                               title        date       query  \\\n",
      "0  BRIEF-Apple Inc Says Not Allowing Entertainmen...  2020-03-15  Apple Inc.   \n",
      "1  Apple signs multi-year deals with major music ...  2020-03-12  Apple Inc.   \n",
      "2  Apple signs multi-year deals with major music ...  2020-03-12  Apple Inc.   \n",
      "3  Chinese regulators remove 'Plague Inc' game fr...  2020-02-28  Apple Inc.   \n",
      "4  UPDATE 1-Chinese regulators remove 'Plague Inc...  2020-02-28  Apple Inc.   \n",
      "\n",
      "                                             url ticker  \\\n",
      "0  https://www.reuters.com/article/idUSFWN2B61K2   AAPL   \n",
      "1  https://www.reuters.com/article/idUSKBN20Z33J   AAPL   \n",
      "2  https://www.reuters.com/article/idUSL4N2B54T2   AAPL   \n",
      "3  https://www.reuters.com/article/idUSKCN20M043   AAPL   \n",
      "4  https://www.reuters.com/article/idUSL3N2AS0OO   AAPL   \n",
      "\n",
      "                                             content  \n",
      "0  March 14 (Reuters) - Apple Inc: * APPLE INC SA...  \n",
      "1  (Reuters) - Apple Inc has sealed multi-year li...  \n",
      "2  (Reuters) - Apple Inc has sealed multi-year li...  \n",
      "3  BEIJING/SHANGHAI (Reuters) - The video game “P...  \n",
      "4  BEIJING/SHANGHAI (Reuters) - The video game “P...  \n",
      "Start MO\n"
     ]
    },
    {
     "data": {
      "application/vnd.jupyter.widget-view+json": {
       "model_id": "33ebb6ee0db244d489eb9b27cd7986bf",
       "version_major": 2,
       "version_minor": 0
      },
      "text/plain": [
       "HBox(children=(FloatProgress(value=0.0, description='Dask Apply', max=26.0, style=ProgressStyle(description_wi…"
      ]
     },
     "metadata": {},
     "output_type": "display_data"
    },
    {
     "name": "stdout",
     "output_type": "stream",
     "text": [
      "\n",
      "                                               title        date       query  \\\n",
      "0  BRIEF-Apple Inc Says Not Allowing Entertainmen...  2020-03-15  Apple Inc.   \n",
      "1  Apple signs multi-year deals with major music ...  2020-03-12  Apple Inc.   \n",
      "2  Apple signs multi-year deals with major music ...  2020-03-12  Apple Inc.   \n",
      "3  Chinese regulators remove 'Plague Inc' game fr...  2020-02-28  Apple Inc.   \n",
      "4  UPDATE 1-Chinese regulators remove 'Plague Inc...  2020-02-28  Apple Inc.   \n",
      "\n",
      "                                             url ticker  \\\n",
      "0  https://www.reuters.com/article/idUSFWN2B61K2   AAPL   \n",
      "1  https://www.reuters.com/article/idUSKBN20Z33J   AAPL   \n",
      "2  https://www.reuters.com/article/idUSL4N2B54T2   AAPL   \n",
      "3  https://www.reuters.com/article/idUSKCN20M043   AAPL   \n",
      "4  https://www.reuters.com/article/idUSL3N2AS0OO   AAPL   \n",
      "\n",
      "                                             content  \n",
      "0  March 14 (Reuters) - Apple Inc: * APPLE INC SA...  \n",
      "1  (Reuters) - Apple Inc has sealed multi-year li...  \n",
      "2  (Reuters) - Apple Inc has sealed multi-year li...  \n",
      "3  BEIJING/SHANGHAI (Reuters) - The video game “P...  \n",
      "4  BEIJING/SHANGHAI (Reuters) - The video game “P...  \n",
      "Start MDLZ\n"
     ]
    },
    {
     "data": {
      "application/vnd.jupyter.widget-view+json": {
       "model_id": "9e306c6f9e1a404b977567aa4814662b",
       "version_major": 2,
       "version_minor": 0
      },
      "text/plain": [
       "HBox(children=(FloatProgress(value=0.0, description='Dask Apply', max=31.0, style=ProgressStyle(description_wi…"
      ]
     },
     "metadata": {},
     "output_type": "display_data"
    },
    {
     "name": "stdout",
     "output_type": "stream",
     "text": [
      "\n",
      "                                               title        date       query  \\\n",
      "0  BRIEF-Apple Inc Says Not Allowing Entertainmen...  2020-03-15  Apple Inc.   \n",
      "1  Apple signs multi-year deals with major music ...  2020-03-12  Apple Inc.   \n",
      "2  Apple signs multi-year deals with major music ...  2020-03-12  Apple Inc.   \n",
      "3  Chinese regulators remove 'Plague Inc' game fr...  2020-02-28  Apple Inc.   \n",
      "4  UPDATE 1-Chinese regulators remove 'Plague Inc...  2020-02-28  Apple Inc.   \n",
      "\n",
      "                                             url ticker  \\\n",
      "0  https://www.reuters.com/article/idUSFWN2B61K2   AAPL   \n",
      "1  https://www.reuters.com/article/idUSKBN20Z33J   AAPL   \n",
      "2  https://www.reuters.com/article/idUSL4N2B54T2   AAPL   \n",
      "3  https://www.reuters.com/article/idUSKCN20M043   AAPL   \n",
      "4  https://www.reuters.com/article/idUSL3N2AS0OO   AAPL   \n",
      "\n",
      "                                             content  \n",
      "0  March 14 (Reuters) - Apple Inc: * APPLE INC SA...  \n",
      "1  (Reuters) - Apple Inc has sealed multi-year li...  \n",
      "2  (Reuters) - Apple Inc has sealed multi-year li...  \n",
      "3  BEIJING/SHANGHAI (Reuters) - The video game “P...  \n",
      "4  BEIJING/SHANGHAI (Reuters) - The video game “P...  \n",
      "Start VRTX\n"
     ]
    },
    {
     "data": {
      "application/vnd.jupyter.widget-view+json": {
       "model_id": "a73b3726e11245d4885c2c588893e050",
       "version_major": 2,
       "version_minor": 0
      },
      "text/plain": [
       "HBox(children=(FloatProgress(value=0.0, description='Dask Apply', max=3.0, style=ProgressStyle(description_wid…"
      ]
     },
     "metadata": {},
     "output_type": "display_data"
    },
    {
     "name": "stdout",
     "output_type": "stream",
     "text": [
      "\n",
      "                                               title        date       query  \\\n",
      "0  BRIEF-Apple Inc Says Not Allowing Entertainmen...  2020-03-15  Apple Inc.   \n",
      "1  Apple signs multi-year deals with major music ...  2020-03-12  Apple Inc.   \n",
      "2  Apple signs multi-year deals with major music ...  2020-03-12  Apple Inc.   \n",
      "3  Chinese regulators remove 'Plague Inc' game fr...  2020-02-28  Apple Inc.   \n",
      "4  UPDATE 1-Chinese regulators remove 'Plague Inc...  2020-02-28  Apple Inc.   \n",
      "\n",
      "                                             url ticker  \\\n",
      "0  https://www.reuters.com/article/idUSFWN2B61K2   AAPL   \n",
      "1  https://www.reuters.com/article/idUSKBN20Z33J   AAPL   \n",
      "2  https://www.reuters.com/article/idUSL4N2B54T2   AAPL   \n",
      "3  https://www.reuters.com/article/idUSKCN20M043   AAPL   \n",
      "4  https://www.reuters.com/article/idUSL3N2AS0OO   AAPL   \n",
      "\n",
      "                                             content  \n",
      "0  March 14 (Reuters) - Apple Inc: * APPLE INC SA...  \n",
      "1  (Reuters) - Apple Inc has sealed multi-year li...  \n",
      "2  (Reuters) - Apple Inc has sealed multi-year li...  \n",
      "3  BEIJING/SHANGHAI (Reuters) - The video game “P...  \n",
      "4  BEIJING/SHANGHAI (Reuters) - The video game “P...  \n",
      "Start CAT\n"
     ]
    },
    {
     "data": {
      "application/vnd.jupyter.widget-view+json": {
       "model_id": "3f9679ea6e0b42d997a7344d4cb8dbbc",
       "version_major": 2,
       "version_minor": 0
      },
      "text/plain": [
       "HBox(children=(FloatProgress(value=0.0, description='Dask Apply', max=32.0, style=ProgressStyle(description_wi…"
      ]
     },
     "metadata": {},
     "output_type": "display_data"
    },
    {
     "name": "stdout",
     "output_type": "stream",
     "text": [
      "\n",
      "                                               title        date       query  \\\n",
      "0  BRIEF-Apple Inc Says Not Allowing Entertainmen...  2020-03-15  Apple Inc.   \n",
      "1  Apple signs multi-year deals with major music ...  2020-03-12  Apple Inc.   \n",
      "2  Apple signs multi-year deals with major music ...  2020-03-12  Apple Inc.   \n",
      "3  Chinese regulators remove 'Plague Inc' game fr...  2020-02-28  Apple Inc.   \n",
      "4  UPDATE 1-Chinese regulators remove 'Plague Inc...  2020-02-28  Apple Inc.   \n",
      "\n",
      "                                             url ticker  \\\n",
      "0  https://www.reuters.com/article/idUSFWN2B61K2   AAPL   \n",
      "1  https://www.reuters.com/article/idUSKBN20Z33J   AAPL   \n",
      "2  https://www.reuters.com/article/idUSL4N2B54T2   AAPL   \n",
      "3  https://www.reuters.com/article/idUSKCN20M043   AAPL   \n",
      "4  https://www.reuters.com/article/idUSL3N2AS0OO   AAPL   \n",
      "\n",
      "                                             content  \n",
      "0  March 14 (Reuters) - Apple Inc: * APPLE INC SA...  \n",
      "1  (Reuters) - Apple Inc has sealed multi-year li...  \n",
      "2  (Reuters) - Apple Inc has sealed multi-year li...  \n",
      "3  BEIJING/SHANGHAI (Reuters) - The video game “P...  \n",
      "4  BEIJING/SHANGHAI (Reuters) - The video game “P...  \n",
      "Start INTU\n"
     ]
    },
    {
     "data": {
      "application/vnd.jupyter.widget-view+json": {
       "model_id": "4173f37342ab4cb1b19d350b88165a3b",
       "version_major": 2,
       "version_minor": 0
      },
      "text/plain": [
       "HBox(children=(FloatProgress(value=0.0, description='Dask Apply', max=31.0, style=ProgressStyle(description_wi…"
      ]
     },
     "metadata": {},
     "output_type": "display_data"
    },
    {
     "name": "stdout",
     "output_type": "stream",
     "text": [
      "\n",
      "                                               title        date       query  \\\n",
      "0  BRIEF-Apple Inc Says Not Allowing Entertainmen...  2020-03-15  Apple Inc.   \n",
      "1  Apple signs multi-year deals with major music ...  2020-03-12  Apple Inc.   \n",
      "2  Apple signs multi-year deals with major music ...  2020-03-12  Apple Inc.   \n",
      "3  Chinese regulators remove 'Plague Inc' game fr...  2020-02-28  Apple Inc.   \n",
      "4  UPDATE 1-Chinese regulators remove 'Plague Inc...  2020-02-28  Apple Inc.   \n",
      "\n",
      "                                             url ticker  \\\n",
      "0  https://www.reuters.com/article/idUSFWN2B61K2   AAPL   \n",
      "1  https://www.reuters.com/article/idUSKBN20Z33J   AAPL   \n",
      "2  https://www.reuters.com/article/idUSL4N2B54T2   AAPL   \n",
      "3  https://www.reuters.com/article/idUSKCN20M043   AAPL   \n",
      "4  https://www.reuters.com/article/idUSL3N2AS0OO   AAPL   \n",
      "\n",
      "                                             content  \n",
      "0  March 14 (Reuters) - Apple Inc: * APPLE INC SA...  \n",
      "1  (Reuters) - Apple Inc has sealed multi-year li...  \n",
      "2  (Reuters) - Apple Inc has sealed multi-year li...  \n",
      "3  BEIJING/SHANGHAI (Reuters) - The video game “P...  \n",
      "4  BEIJING/SHANGHAI (Reuters) - The video game “P...  \n",
      "Start BKNG\n"
     ]
    },
    {
     "data": {
      "application/vnd.jupyter.widget-view+json": {
       "model_id": "89d6f8dbae7c408dbb78e830c036b43b",
       "version_major": 2,
       "version_minor": 0
      },
      "text/plain": [
       "HBox(children=(FloatProgress(value=0.0, description='Dask Apply', max=32.0, style=ProgressStyle(description_wi…"
      ]
     },
     "metadata": {},
     "output_type": "display_data"
    },
    {
     "name": "stdout",
     "output_type": "stream",
     "text": [
      "\n",
      "                                               title        date       query  \\\n",
      "0  BRIEF-Apple Inc Says Not Allowing Entertainmen...  2020-03-15  Apple Inc.   \n",
      "1  Apple signs multi-year deals with major music ...  2020-03-12  Apple Inc.   \n",
      "2  Apple signs multi-year deals with major music ...  2020-03-12  Apple Inc.   \n",
      "3  Chinese regulators remove 'Plague Inc' game fr...  2020-02-28  Apple Inc.   \n",
      "4  UPDATE 1-Chinese regulators remove 'Plague Inc...  2020-02-28  Apple Inc.   \n",
      "\n",
      "                                             url ticker  \\\n",
      "0  https://www.reuters.com/article/idUSFWN2B61K2   AAPL   \n",
      "1  https://www.reuters.com/article/idUSKBN20Z33J   AAPL   \n",
      "2  https://www.reuters.com/article/idUSL4N2B54T2   AAPL   \n",
      "3  https://www.reuters.com/article/idUSKCN20M043   AAPL   \n",
      "4  https://www.reuters.com/article/idUSL3N2AS0OO   AAPL   \n",
      "\n",
      "                                             content  \n",
      "0  March 14 (Reuters) - Apple Inc: * APPLE INC SA...  \n",
      "1  (Reuters) - Apple Inc has sealed multi-year li...  \n",
      "2  (Reuters) - Apple Inc has sealed multi-year li...  \n",
      "3  BEIJING/SHANGHAI (Reuters) - The video game “P...  \n",
      "4  BEIJING/SHANGHAI (Reuters) - The video game “P...  \n",
      "Start ISRG\n"
     ]
    },
    {
     "data": {
      "application/vnd.jupyter.widget-view+json": {
       "model_id": "9e8de75aa9464c63856a418a0cd96802",
       "version_major": 2,
       "version_minor": 0
      },
      "text/plain": [
       "HBox(children=(FloatProgress(value=0.0, description='Dask Apply', max=18.0, style=ProgressStyle(description_wi…"
      ]
     },
     "metadata": {},
     "output_type": "display_data"
    },
    {
     "name": "stdout",
     "output_type": "stream",
     "text": [
      "\n",
      "                                               title        date       query  \\\n",
      "0  BRIEF-Apple Inc Says Not Allowing Entertainmen...  2020-03-15  Apple Inc.   \n",
      "1  Apple signs multi-year deals with major music ...  2020-03-12  Apple Inc.   \n",
      "2  Apple signs multi-year deals with major music ...  2020-03-12  Apple Inc.   \n",
      "3  Chinese regulators remove 'Plague Inc' game fr...  2020-02-28  Apple Inc.   \n",
      "4  UPDATE 1-Chinese regulators remove 'Plague Inc...  2020-02-28  Apple Inc.   \n",
      "\n",
      "                                             url ticker  \\\n",
      "0  https://www.reuters.com/article/idUSFWN2B61K2   AAPL   \n",
      "1  https://www.reuters.com/article/idUSKBN20Z33J   AAPL   \n",
      "2  https://www.reuters.com/article/idUSL4N2B54T2   AAPL   \n",
      "3  https://www.reuters.com/article/idUSKCN20M043   AAPL   \n",
      "4  https://www.reuters.com/article/idUSL3N2AS0OO   AAPL   \n",
      "\n",
      "                                             content  \n",
      "0  March 14 (Reuters) - Apple Inc: * APPLE INC SA...  \n",
      "1  (Reuters) - Apple Inc has sealed multi-year li...  \n",
      "2  (Reuters) - Apple Inc has sealed multi-year li...  \n",
      "3  BEIJING/SHANGHAI (Reuters) - The video game “P...  \n",
      "4  BEIJING/SHANGHAI (Reuters) - The video game “P...  \n",
      "Start CCI\n"
     ]
    },
    {
     "data": {
      "application/vnd.jupyter.widget-view+json": {
       "model_id": "8c8ab69ade1a4f9797c9b7f78dd98130",
       "version_major": 2,
       "version_minor": 0
      },
      "text/plain": [
       "HBox(children=(FloatProgress(value=0.0, description='Dask Apply', max=28.0, style=ProgressStyle(description_wi…"
      ]
     },
     "metadata": {},
     "output_type": "display_data"
    },
    {
     "name": "stdout",
     "output_type": "stream",
     "text": [
      "\n",
      "                                               title        date       query  \\\n",
      "0  BRIEF-Apple Inc Says Not Allowing Entertainmen...  2020-03-15  Apple Inc.   \n",
      "1  Apple signs multi-year deals with major music ...  2020-03-12  Apple Inc.   \n",
      "2  Apple signs multi-year deals with major music ...  2020-03-12  Apple Inc.   \n",
      "3  Chinese regulators remove 'Plague Inc' game fr...  2020-02-28  Apple Inc.   \n",
      "4  UPDATE 1-Chinese regulators remove 'Plague Inc...  2020-02-28  Apple Inc.   \n",
      "\n",
      "                                             url ticker  \\\n",
      "0  https://www.reuters.com/article/idUSFWN2B61K2   AAPL   \n",
      "1  https://www.reuters.com/article/idUSKBN20Z33J   AAPL   \n",
      "2  https://www.reuters.com/article/idUSL4N2B54T2   AAPL   \n",
      "3  https://www.reuters.com/article/idUSKCN20M043   AAPL   \n",
      "4  https://www.reuters.com/article/idUSL3N2AS0OO   AAPL   \n",
      "\n",
      "                                             content  \n",
      "0  March 14 (Reuters) - Apple Inc: * APPLE INC SA...  \n",
      "1  (Reuters) - Apple Inc has sealed multi-year li...  \n",
      "2  (Reuters) - Apple Inc has sealed multi-year li...  \n",
      "3  BEIJING/SHANGHAI (Reuters) - The video game “P...  \n",
      "4  BEIJING/SHANGHAI (Reuters) - The video game “P...  \n",
      "Start ZTS\n"
     ]
    },
    {
     "data": {
      "application/vnd.jupyter.widget-view+json": {
       "model_id": "a9036a8c034246339aeeef6ccdea5b2c",
       "version_major": 2,
       "version_minor": 0
      },
      "text/plain": [
       "HBox(children=(FloatProgress(value=0.0, description='Dask Apply', max=31.0, style=ProgressStyle(description_wi…"
      ]
     },
     "metadata": {},
     "output_type": "display_data"
    },
    {
     "name": "stdout",
     "output_type": "stream",
     "text": [
      "\n",
      "                                               title        date       query  \\\n",
      "0  BRIEF-Apple Inc Says Not Allowing Entertainmen...  2020-03-15  Apple Inc.   \n",
      "1  Apple signs multi-year deals with major music ...  2020-03-12  Apple Inc.   \n",
      "2  Apple signs multi-year deals with major music ...  2020-03-12  Apple Inc.   \n",
      "3  Chinese regulators remove 'Plague Inc' game fr...  2020-02-28  Apple Inc.   \n",
      "4  UPDATE 1-Chinese regulators remove 'Plague Inc...  2020-02-28  Apple Inc.   \n",
      "\n",
      "                                             url ticker  \\\n",
      "0  https://www.reuters.com/article/idUSFWN2B61K2   AAPL   \n",
      "1  https://www.reuters.com/article/idUSKBN20Z33J   AAPL   \n",
      "2  https://www.reuters.com/article/idUSL4N2B54T2   AAPL   \n",
      "3  https://www.reuters.com/article/idUSKCN20M043   AAPL   \n",
      "4  https://www.reuters.com/article/idUSL3N2AS0OO   AAPL   \n",
      "\n",
      "                                             content  \n",
      "0  March 14 (Reuters) - Apple Inc: * APPLE INC SA...  \n",
      "1  (Reuters) - Apple Inc has sealed multi-year li...  \n",
      "2  (Reuters) - Apple Inc has sealed multi-year li...  \n",
      "3  BEIJING/SHANGHAI (Reuters) - The video game “P...  \n",
      "4  BEIJING/SHANGHAI (Reuters) - The video game “P...  \n",
      "Start PLD\n"
     ]
    },
    {
     "data": {
      "application/vnd.jupyter.widget-view+json": {
       "model_id": "334a938eb6ff4d59a88e5e45a6713e7e",
       "version_major": 2,
       "version_minor": 0
      },
      "text/plain": [
       "HBox(children=(FloatProgress(value=0.0, description='Dask Apply', max=27.0, style=ProgressStyle(description_wi…"
      ]
     },
     "metadata": {},
     "output_type": "display_data"
    },
    {
     "name": "stdout",
     "output_type": "stream",
     "text": [
      "\n",
      "                                               title        date       query  \\\n",
      "0  BRIEF-Apple Inc Says Not Allowing Entertainmen...  2020-03-15  Apple Inc.   \n",
      "1  Apple signs multi-year deals with major music ...  2020-03-12  Apple Inc.   \n",
      "2  Apple signs multi-year deals with major music ...  2020-03-12  Apple Inc.   \n",
      "3  Chinese regulators remove 'Plague Inc' game fr...  2020-02-28  Apple Inc.   \n",
      "4  UPDATE 1-Chinese regulators remove 'Plague Inc...  2020-02-28  Apple Inc.   \n",
      "\n",
      "                                             url ticker  \\\n",
      "0  https://www.reuters.com/article/idUSFWN2B61K2   AAPL   \n",
      "1  https://www.reuters.com/article/idUSKBN20Z33J   AAPL   \n",
      "2  https://www.reuters.com/article/idUSL4N2B54T2   AAPL   \n",
      "3  https://www.reuters.com/article/idUSKCN20M043   AAPL   \n",
      "4  https://www.reuters.com/article/idUSL3N2AS0OO   AAPL   \n",
      "\n",
      "                                             content  \n",
      "0  March 14 (Reuters) - Apple Inc: * APPLE INC SA...  \n",
      "1  (Reuters) - Apple Inc has sealed multi-year li...  \n",
      "2  (Reuters) - Apple Inc has sealed multi-year li...  \n",
      "3  BEIJING/SHANGHAI (Reuters) - The video game “P...  \n",
      "4  BEIJING/SHANGHAI (Reuters) - The video game “P...  \n",
      "Start ANTM\n"
     ]
    },
    {
     "data": {
      "application/vnd.jupyter.widget-view+json": {
       "model_id": "081d45596eb348b28d46601845d5e314",
       "version_major": 2,
       "version_minor": 0
      },
      "text/plain": [
       "HBox(children=(FloatProgress(value=0.0, description='Dask Apply', max=31.0, style=ProgressStyle(description_wi…"
      ]
     },
     "metadata": {},
     "output_type": "display_data"
    },
    {
     "name": "stdout",
     "output_type": "stream",
     "text": [
      "\n",
      "                                               title        date       query  \\\n",
      "0  BRIEF-Apple Inc Says Not Allowing Entertainmen...  2020-03-15  Apple Inc.   \n",
      "1  Apple signs multi-year deals with major music ...  2020-03-12  Apple Inc.   \n",
      "2  Apple signs multi-year deals with major music ...  2020-03-12  Apple Inc.   \n",
      "3  Chinese regulators remove 'Plague Inc' game fr...  2020-02-28  Apple Inc.   \n",
      "4  UPDATE 1-Chinese regulators remove 'Plague Inc...  2020-02-28  Apple Inc.   \n",
      "\n",
      "                                             url ticker  \\\n",
      "0  https://www.reuters.com/article/idUSFWN2B61K2   AAPL   \n",
      "1  https://www.reuters.com/article/idUSKBN20Z33J   AAPL   \n",
      "2  https://www.reuters.com/article/idUSL4N2B54T2   AAPL   \n",
      "3  https://www.reuters.com/article/idUSKCN20M043   AAPL   \n",
      "4  https://www.reuters.com/article/idUSL3N2AS0OO   AAPL   \n",
      "\n",
      "                                             content  \n",
      "0  March 14 (Reuters) - Apple Inc: * APPLE INC SA...  \n",
      "1  (Reuters) - Apple Inc has sealed multi-year li...  \n",
      "2  (Reuters) - Apple Inc has sealed multi-year li...  \n",
      "3  BEIJING/SHANGHAI (Reuters) - The video game “P...  \n",
      "4  BEIJING/SHANGHAI (Reuters) - The video game “P...  \n",
      "Start GS\n"
     ]
    },
    {
     "data": {
      "application/vnd.jupyter.widget-view+json": {
       "model_id": "0eadc28a58b54a27b6bc051d84729ad3",
       "version_major": 2,
       "version_minor": 0
      },
      "text/plain": [
       "HBox(children=(FloatProgress(value=0.0, description='Dask Apply', max=32.0, style=ProgressStyle(description_wi…"
      ]
     },
     "metadata": {},
     "output_type": "display_data"
    },
    {
     "name": "stdout",
     "output_type": "stream",
     "text": [
      "\n",
      "                                               title        date       query  \\\n",
      "0  BRIEF-Apple Inc Says Not Allowing Entertainmen...  2020-03-15  Apple Inc.   \n",
      "1  Apple signs multi-year deals with major music ...  2020-03-12  Apple Inc.   \n",
      "2  Apple signs multi-year deals with major music ...  2020-03-12  Apple Inc.   \n",
      "3  Chinese regulators remove 'Plague Inc' game fr...  2020-02-28  Apple Inc.   \n",
      "4  UPDATE 1-Chinese regulators remove 'Plague Inc...  2020-02-28  Apple Inc.   \n",
      "\n",
      "                                             url ticker  \\\n",
      "0  https://www.reuters.com/article/idUSFWN2B61K2   AAPL   \n",
      "1  https://www.reuters.com/article/idUSKBN20Z33J   AAPL   \n",
      "2  https://www.reuters.com/article/idUSL4N2B54T2   AAPL   \n",
      "3  https://www.reuters.com/article/idUSKCN20M043   AAPL   \n",
      "4  https://www.reuters.com/article/idUSL3N2AS0OO   AAPL   \n",
      "\n",
      "                                             content  \n",
      "0  March 14 (Reuters) - Apple Inc: * APPLE INC SA...  \n",
      "1  (Reuters) - Apple Inc has sealed multi-year li...  \n",
      "2  (Reuters) - Apple Inc has sealed multi-year li...  \n",
      "3  BEIJING/SHANGHAI (Reuters) - The video game “P...  \n",
      "4  BEIJING/SHANGHAI (Reuters) - The video game “P...  \n",
      "Start CI\n"
     ]
    },
    {
     "data": {
      "application/vnd.jupyter.widget-view+json": {
       "model_id": "2286555963fb480f8e0bd4dae5b205cb",
       "version_major": 2,
       "version_minor": 0
      },
      "text/plain": [
       "HBox(children=(FloatProgress(value=0.0, description='Dask Apply', max=30.0, style=ProgressStyle(description_wi…"
      ]
     },
     "metadata": {},
     "output_type": "display_data"
    },
    {
     "name": "stdout",
     "output_type": "stream",
     "text": [
      "\n",
      "                                               title        date       query  \\\n",
      "0  BRIEF-Apple Inc Says Not Allowing Entertainmen...  2020-03-15  Apple Inc.   \n",
      "1  Apple signs multi-year deals with major music ...  2020-03-12  Apple Inc.   \n",
      "2  Apple signs multi-year deals with major music ...  2020-03-12  Apple Inc.   \n",
      "3  Chinese regulators remove 'Plague Inc' game fr...  2020-02-28  Apple Inc.   \n",
      "4  UPDATE 1-Chinese regulators remove 'Plague Inc...  2020-02-28  Apple Inc.   \n",
      "\n",
      "                                             url ticker  \\\n",
      "0  https://www.reuters.com/article/idUSFWN2B61K2   AAPL   \n",
      "1  https://www.reuters.com/article/idUSKBN20Z33J   AAPL   \n",
      "2  https://www.reuters.com/article/idUSL4N2B54T2   AAPL   \n",
      "3  https://www.reuters.com/article/idUSKCN20M043   AAPL   \n",
      "4  https://www.reuters.com/article/idUSL3N2AS0OO   AAPL   \n",
      "\n",
      "                                             content  \n",
      "0  March 14 (Reuters) - Apple Inc: * APPLE INC SA...  \n",
      "1  (Reuters) - Apple Inc has sealed multi-year li...  \n",
      "2  (Reuters) - Apple Inc has sealed multi-year li...  \n",
      "3  BEIJING/SHANGHAI (Reuters) - The video game “P...  \n",
      "4  BEIJING/SHANGHAI (Reuters) - The video game “P...  \n",
      "Start D\n"
     ]
    },
    {
     "data": {
      "application/vnd.jupyter.widget-view+json": {
       "model_id": "966abf9ce44840e8a744a2a7b011f9ad",
       "version_major": 2,
       "version_minor": 0
      },
      "text/plain": [
       "HBox(children=(FloatProgress(value=0.0, description='Dask Apply', max=32.0, style=ProgressStyle(description_wi…"
      ]
     },
     "metadata": {},
     "output_type": "display_data"
    },
    {
     "name": "stdout",
     "output_type": "stream",
     "text": [
      "\n",
      "                                               title        date       query  \\\n",
      "0  BRIEF-Apple Inc Says Not Allowing Entertainmen...  2020-03-15  Apple Inc.   \n",
      "1  Apple signs multi-year deals with major music ...  2020-03-12  Apple Inc.   \n",
      "2  Apple signs multi-year deals with major music ...  2020-03-12  Apple Inc.   \n",
      "3  Chinese regulators remove 'Plague Inc' game fr...  2020-02-28  Apple Inc.   \n",
      "4  UPDATE 1-Chinese regulators remove 'Plague Inc...  2020-02-28  Apple Inc.   \n",
      "\n",
      "                                             url ticker  \\\n",
      "0  https://www.reuters.com/article/idUSFWN2B61K2   AAPL   \n",
      "1  https://www.reuters.com/article/idUSKBN20Z33J   AAPL   \n",
      "2  https://www.reuters.com/article/idUSL4N2B54T2   AAPL   \n",
      "3  https://www.reuters.com/article/idUSKCN20M043   AAPL   \n",
      "4  https://www.reuters.com/article/idUSL3N2AS0OO   AAPL   \n",
      "\n",
      "                                             content  \n",
      "0  March 14 (Reuters) - Apple Inc: * APPLE INC SA...  \n",
      "1  (Reuters) - Apple Inc has sealed multi-year li...  \n",
      "2  (Reuters) - Apple Inc has sealed multi-year li...  \n",
      "3  BEIJING/SHANGHAI (Reuters) - The video game “P...  \n",
      "4  BEIJING/SHANGHAI (Reuters) - The video game “P...  \n",
      "Start TJX\n"
     ]
    },
    {
     "data": {
      "application/vnd.jupyter.widget-view+json": {
       "model_id": "2c4901b9cbca41148679b15f9a8f042b",
       "version_major": 2,
       "version_minor": 0
      },
      "text/plain": [
       "HBox(children=(FloatProgress(value=0.0, description='Dask Apply', max=23.0, style=ProgressStyle(description_wi…"
      ]
     },
     "metadata": {},
     "output_type": "display_data"
    },
    {
     "name": "stdout",
     "output_type": "stream",
     "text": [
      "\n",
      "                                               title        date       query  \\\n",
      "0  BRIEF-Apple Inc Says Not Allowing Entertainmen...  2020-03-15  Apple Inc.   \n",
      "1  Apple signs multi-year deals with major music ...  2020-03-12  Apple Inc.   \n",
      "2  Apple signs multi-year deals with major music ...  2020-03-12  Apple Inc.   \n",
      "3  Chinese regulators remove 'Plague Inc' game fr...  2020-02-28  Apple Inc.   \n",
      "4  UPDATE 1-Chinese regulators remove 'Plague Inc...  2020-02-28  Apple Inc.   \n",
      "\n",
      "                                             url ticker  \\\n",
      "0  https://www.reuters.com/article/idUSFWN2B61K2   AAPL   \n",
      "1  https://www.reuters.com/article/idUSKBN20Z33J   AAPL   \n",
      "2  https://www.reuters.com/article/idUSL4N2B54T2   AAPL   \n",
      "3  https://www.reuters.com/article/idUSKCN20M043   AAPL   \n",
      "4  https://www.reuters.com/article/idUSL3N2AS0OO   AAPL   \n",
      "\n",
      "                                             content  \n",
      "0  March 14 (Reuters) - Apple Inc: * APPLE INC SA...  \n",
      "1  (Reuters) - Apple Inc has sealed multi-year li...  \n",
      "2  (Reuters) - Apple Inc has sealed multi-year li...  \n",
      "3  BEIJING/SHANGHAI (Reuters) - The video game “P...  \n",
      "4  BEIJING/SHANGHAI (Reuters) - The video game “P...  \n",
      "Start AMD\n"
     ]
    },
    {
     "data": {
      "application/vnd.jupyter.widget-view+json": {
       "model_id": "f9104e6d6104410bb33f2ccdb1cb6415",
       "version_major": 2,
       "version_minor": 0
      },
      "text/plain": [
       "HBox(children=(FloatProgress(value=0.0, description='Dask Apply', max=23.0, style=ProgressStyle(description_wi…"
      ]
     },
     "metadata": {},
     "output_type": "display_data"
    },
    {
     "name": "stdout",
     "output_type": "stream",
     "text": [
      "\n",
      "                                               title        date       query  \\\n",
      "0  BRIEF-Apple Inc Says Not Allowing Entertainmen...  2020-03-15  Apple Inc.   \n",
      "1  Apple signs multi-year deals with major music ...  2020-03-12  Apple Inc.   \n",
      "2  Apple signs multi-year deals with major music ...  2020-03-12  Apple Inc.   \n",
      "3  Chinese regulators remove 'Plague Inc' game fr...  2020-02-28  Apple Inc.   \n",
      "4  UPDATE 1-Chinese regulators remove 'Plague Inc...  2020-02-28  Apple Inc.   \n",
      "\n",
      "                                             url ticker  \\\n",
      "0  https://www.reuters.com/article/idUSFWN2B61K2   AAPL   \n",
      "1  https://www.reuters.com/article/idUSKBN20Z33J   AAPL   \n",
      "2  https://www.reuters.com/article/idUSL4N2B54T2   AAPL   \n",
      "3  https://www.reuters.com/article/idUSKCN20M043   AAPL   \n",
      "4  https://www.reuters.com/article/idUSL3N2AS0OO   AAPL   \n",
      "\n",
      "                                             content  \n",
      "0  March 14 (Reuters) - Apple Inc: * APPLE INC SA...  \n",
      "1  (Reuters) - Apple Inc has sealed multi-year li...  \n",
      "2  (Reuters) - Apple Inc has sealed multi-year li...  \n",
      "3  BEIJING/SHANGHAI (Reuters) - The video game “P...  \n",
      "4  BEIJING/SHANGHAI (Reuters) - The video game “P...  \n",
      "Start CL\n"
     ]
    },
    {
     "data": {
      "application/vnd.jupyter.widget-view+json": {
       "model_id": "3ac64cc0d8d4441bb2f6765e4b3147d1",
       "version_major": 2,
       "version_minor": 0
      },
      "text/plain": [
       "HBox(children=(FloatProgress(value=0.0, description='Dask Apply', max=8.0, style=ProgressStyle(description_wid…"
      ]
     },
     "metadata": {},
     "output_type": "display_data"
    },
    {
     "name": "stdout",
     "output_type": "stream",
     "text": [
      "\n",
      "                                               title        date       query  \\\n",
      "0  BRIEF-Apple Inc Says Not Allowing Entertainmen...  2020-03-15  Apple Inc.   \n",
      "1  Apple signs multi-year deals with major music ...  2020-03-12  Apple Inc.   \n",
      "2  Apple signs multi-year deals with major music ...  2020-03-12  Apple Inc.   \n",
      "3  Chinese regulators remove 'Plague Inc' game fr...  2020-02-28  Apple Inc.   \n",
      "4  UPDATE 1-Chinese regulators remove 'Plague Inc...  2020-02-28  Apple Inc.   \n",
      "\n",
      "                                             url ticker  \\\n",
      "0  https://www.reuters.com/article/idUSFWN2B61K2   AAPL   \n",
      "1  https://www.reuters.com/article/idUSKBN20Z33J   AAPL   \n",
      "2  https://www.reuters.com/article/idUSL4N2B54T2   AAPL   \n",
      "3  https://www.reuters.com/article/idUSKCN20M043   AAPL   \n",
      "4  https://www.reuters.com/article/idUSL3N2AS0OO   AAPL   \n",
      "\n",
      "                                             content  \n",
      "0  March 14 (Reuters) - Apple Inc: * APPLE INC SA...  \n",
      "1  (Reuters) - Apple Inc has sealed multi-year li...  \n",
      "2  (Reuters) - Apple Inc has sealed multi-year li...  \n",
      "3  BEIJING/SHANGHAI (Reuters) - The video game “P...  \n",
      "4  BEIJING/SHANGHAI (Reuters) - The video game “P...  \n",
      "Start AXP\n"
     ]
    },
    {
     "data": {
      "application/vnd.jupyter.widget-view+json": {
       "model_id": "9c0c7aad874e4a0b8b681f1b08720939",
       "version_major": 2,
       "version_minor": 0
      },
      "text/plain": [
       "HBox(children=(FloatProgress(value=0.0, description='Dask Apply', max=24.0, style=ProgressStyle(description_wi…"
      ]
     },
     "metadata": {},
     "output_type": "display_data"
    },
    {
     "name": "stdout",
     "output_type": "stream",
     "text": [
      "\n",
      "                                               title        date       query  \\\n",
      "0  BRIEF-Apple Inc Says Not Allowing Entertainmen...  2020-03-15  Apple Inc.   \n",
      "1  Apple signs multi-year deals with major music ...  2020-03-12  Apple Inc.   \n",
      "2  Apple signs multi-year deals with major music ...  2020-03-12  Apple Inc.   \n",
      "3  Chinese regulators remove 'Plague Inc' game fr...  2020-02-28  Apple Inc.   \n",
      "4  UPDATE 1-Chinese regulators remove 'Plague Inc...  2020-02-28  Apple Inc.   \n",
      "\n",
      "                                             url ticker  \\\n",
      "0  https://www.reuters.com/article/idUSFWN2B61K2   AAPL   \n",
      "1  https://www.reuters.com/article/idUSKBN20Z33J   AAPL   \n",
      "2  https://www.reuters.com/article/idUSL4N2B54T2   AAPL   \n",
      "3  https://www.reuters.com/article/idUSKCN20M043   AAPL   \n",
      "4  https://www.reuters.com/article/idUSL3N2AS0OO   AAPL   \n",
      "\n",
      "                                             content  \n",
      "0  March 14 (Reuters) - Apple Inc: * APPLE INC SA...  \n",
      "1  (Reuters) - Apple Inc has sealed multi-year li...  \n",
      "2  (Reuters) - Apple Inc has sealed multi-year li...  \n",
      "3  BEIJING/SHANGHAI (Reuters) - The video game “P...  \n",
      "4  BEIJING/SHANGHAI (Reuters) - The video game “P...  \n",
      "Start REGN\n"
     ]
    },
    {
     "data": {
      "application/vnd.jupyter.widget-view+json": {
       "model_id": "bca879832351464c9424dc402c7aee0f",
       "version_major": 2,
       "version_minor": 0
      },
      "text/plain": [
       "HBox(children=(FloatProgress(value=0.0, description='Dask Apply', max=30.0, style=ProgressStyle(description_wi…"
      ]
     },
     "metadata": {},
     "output_type": "display_data"
    },
    {
     "name": "stdout",
     "output_type": "stream",
     "text": [
      "\n",
      "                                               title        date       query  \\\n",
      "0  BRIEF-Apple Inc Says Not Allowing Entertainmen...  2020-03-15  Apple Inc.   \n",
      "1  Apple signs multi-year deals with major music ...  2020-03-12  Apple Inc.   \n",
      "2  Apple signs multi-year deals with major music ...  2020-03-12  Apple Inc.   \n",
      "3  Chinese regulators remove 'Plague Inc' game fr...  2020-02-28  Apple Inc.   \n",
      "4  UPDATE 1-Chinese regulators remove 'Plague Inc...  2020-02-28  Apple Inc.   \n",
      "\n",
      "                                             url ticker  \\\n",
      "0  https://www.reuters.com/article/idUSFWN2B61K2   AAPL   \n",
      "1  https://www.reuters.com/article/idUSKBN20Z33J   AAPL   \n",
      "2  https://www.reuters.com/article/idUSL4N2B54T2   AAPL   \n",
      "3  https://www.reuters.com/article/idUSKCN20M043   AAPL   \n",
      "4  https://www.reuters.com/article/idUSL3N2AS0OO   AAPL   \n",
      "\n",
      "                                             content  \n",
      "0  March 14 (Reuters) - Apple Inc: * APPLE INC SA...  \n",
      "1  (Reuters) - Apple Inc has sealed multi-year li...  \n",
      "2  (Reuters) - Apple Inc has sealed multi-year li...  \n",
      "3  BEIJING/SHANGHAI (Reuters) - The video game “P...  \n",
      "4  BEIJING/SHANGHAI (Reuters) - The video game “P...  \n",
      "Start EQIX\n"
     ]
    },
    {
     "data": {
      "application/vnd.jupyter.widget-view+json": {
       "model_id": "3be7fb09af0a4de2bb39cf0d8c8555ea",
       "version_major": 2,
       "version_minor": 0
      },
      "text/plain": [
       "HBox(children=(FloatProgress(value=0.0, description='Dask Apply', max=27.0, style=ProgressStyle(description_wi…"
      ]
     },
     "metadata": {},
     "output_type": "display_data"
    },
    {
     "name": "stdout",
     "output_type": "stream",
     "text": [
      "\n",
      "                                               title        date       query  \\\n",
      "0  BRIEF-Apple Inc Says Not Allowing Entertainmen...  2020-03-15  Apple Inc.   \n",
      "1  Apple signs multi-year deals with major music ...  2020-03-12  Apple Inc.   \n",
      "2  Apple signs multi-year deals with major music ...  2020-03-12  Apple Inc.   \n",
      "3  Chinese regulators remove 'Plague Inc' game fr...  2020-02-28  Apple Inc.   \n",
      "4  UPDATE 1-Chinese regulators remove 'Plague Inc...  2020-02-28  Apple Inc.   \n",
      "\n",
      "                                             url ticker  \\\n",
      "0  https://www.reuters.com/article/idUSFWN2B61K2   AAPL   \n",
      "1  https://www.reuters.com/article/idUSKBN20Z33J   AAPL   \n",
      "2  https://www.reuters.com/article/idUSL4N2B54T2   AAPL   \n",
      "3  https://www.reuters.com/article/idUSKCN20M043   AAPL   \n",
      "4  https://www.reuters.com/article/idUSL3N2AS0OO   AAPL   \n",
      "\n",
      "                                             content  \n",
      "0  March 14 (Reuters) - Apple Inc: * APPLE INC SA...  \n",
      "1  (Reuters) - Apple Inc has sealed multi-year li...  \n",
      "2  (Reuters) - Apple Inc has sealed multi-year li...  \n",
      "3  BEIJING/SHANGHAI (Reuters) - The video game “P...  \n",
      "4  BEIJING/SHANGHAI (Reuters) - The video game “P...  \n",
      "Start MS\n"
     ]
    },
    {
     "data": {
      "application/vnd.jupyter.widget-view+json": {
       "model_id": "802e945be2a04d6ab9110b214b0b7893",
       "version_major": 2,
       "version_minor": 0
      },
      "text/plain": [
       "HBox(children=(FloatProgress(value=0.0, description='Dask Apply', max=21.0, style=ProgressStyle(description_wi…"
      ]
     },
     "metadata": {},
     "output_type": "display_data"
    },
    {
     "name": "stdout",
     "output_type": "stream",
     "text": [
      "\n",
      "                                               title        date       query  \\\n",
      "0  BRIEF-Apple Inc Says Not Allowing Entertainmen...  2020-03-15  Apple Inc.   \n",
      "1  Apple signs multi-year deals with major music ...  2020-03-12  Apple Inc.   \n",
      "2  Apple signs multi-year deals with major music ...  2020-03-12  Apple Inc.   \n",
      "3  Chinese regulators remove 'Plague Inc' game fr...  2020-02-28  Apple Inc.   \n",
      "4  UPDATE 1-Chinese regulators remove 'Plague Inc...  2020-02-28  Apple Inc.   \n",
      "\n",
      "                                             url ticker  \\\n",
      "0  https://www.reuters.com/article/idUSFWN2B61K2   AAPL   \n",
      "1  https://www.reuters.com/article/idUSKBN20Z33J   AAPL   \n",
      "2  https://www.reuters.com/article/idUSL4N2B54T2   AAPL   \n",
      "3  https://www.reuters.com/article/idUSKCN20M043   AAPL   \n",
      "4  https://www.reuters.com/article/idUSL3N2AS0OO   AAPL   \n",
      "\n",
      "                                             content  \n",
      "0  March 14 (Reuters) - Apple Inc: * APPLE INC SA...  \n",
      "1  (Reuters) - Apple Inc has sealed multi-year li...  \n",
      "2  (Reuters) - Apple Inc has sealed multi-year li...  \n",
      "3  BEIJING/SHANGHAI (Reuters) - The video game “P...  \n",
      "4  BEIJING/SHANGHAI (Reuters) - The video game “P...  \n",
      "Start APD\n"
     ]
    },
    {
     "data": {
      "application/vnd.jupyter.widget-view+json": {
       "model_id": "04eadf4b9c694542ac0317e8ef4eff0a",
       "version_major": 2,
       "version_minor": 0
      },
      "text/plain": [
       "HBox(children=(FloatProgress(value=0.0, description='Dask Apply', max=29.0, style=ProgressStyle(description_wi…"
      ]
     },
     "metadata": {},
     "output_type": "display_data"
    },
    {
     "name": "stdout",
     "output_type": "stream",
     "text": [
      "\n",
      "                                               title        date       query  \\\n",
      "0  BRIEF-Apple Inc Says Not Allowing Entertainmen...  2020-03-15  Apple Inc.   \n",
      "1  Apple signs multi-year deals with major music ...  2020-03-12  Apple Inc.   \n",
      "2  Apple signs multi-year deals with major music ...  2020-03-12  Apple Inc.   \n",
      "3  Chinese regulators remove 'Plague Inc' game fr...  2020-02-28  Apple Inc.   \n",
      "4  UPDATE 1-Chinese regulators remove 'Plague Inc...  2020-02-28  Apple Inc.   \n",
      "\n",
      "                                             url ticker  \\\n",
      "0  https://www.reuters.com/article/idUSFWN2B61K2   AAPL   \n",
      "1  https://www.reuters.com/article/idUSKBN20Z33J   AAPL   \n",
      "2  https://www.reuters.com/article/idUSL4N2B54T2   AAPL   \n",
      "3  https://www.reuters.com/article/idUSKCN20M043   AAPL   \n",
      "4  https://www.reuters.com/article/idUSL3N2AS0OO   AAPL   \n",
      "\n",
      "                                             content  \n",
      "0  March 14 (Reuters) - Apple Inc: * APPLE INC SA...  \n",
      "1  (Reuters) - Apple Inc has sealed multi-year li...  \n",
      "2  (Reuters) - Apple Inc has sealed multi-year li...  \n",
      "3  BEIJING/SHANGHAI (Reuters) - The video game “P...  \n",
      "4  BEIJING/SHANGHAI (Reuters) - The video game “P...  \n",
      "Start ADP\n"
     ]
    },
    {
     "data": {
      "application/vnd.jupyter.widget-view+json": {
       "model_id": "4585193c6cc74aa9a24e451619f06f9f",
       "version_major": 2,
       "version_minor": 0
      },
      "text/plain": [
       "HBox(children=(FloatProgress(value=0.0, description='Dask Apply', max=24.0, style=ProgressStyle(description_wi…"
      ]
     },
     "metadata": {},
     "output_type": "display_data"
    },
    {
     "name": "stdout",
     "output_type": "stream",
     "text": [
      "\n",
      "                                               title        date       query  \\\n",
      "0  BRIEF-Apple Inc Says Not Allowing Entertainmen...  2020-03-15  Apple Inc.   \n",
      "1  Apple signs multi-year deals with major music ...  2020-03-12  Apple Inc.   \n",
      "2  Apple signs multi-year deals with major music ...  2020-03-12  Apple Inc.   \n",
      "3  Chinese regulators remove 'Plague Inc' game fr...  2020-02-28  Apple Inc.   \n",
      "4  UPDATE 1-Chinese regulators remove 'Plague Inc...  2020-02-28  Apple Inc.   \n",
      "\n",
      "                                             url ticker  \\\n",
      "0  https://www.reuters.com/article/idUSFWN2B61K2   AAPL   \n",
      "1  https://www.reuters.com/article/idUSKBN20Z33J   AAPL   \n",
      "2  https://www.reuters.com/article/idUSL4N2B54T2   AAPL   \n",
      "3  https://www.reuters.com/article/idUSKCN20M043   AAPL   \n",
      "4  https://www.reuters.com/article/idUSL3N2AS0OO   AAPL   \n",
      "\n",
      "                                             content  \n",
      "0  March 14 (Reuters) - Apple Inc: * APPLE INC SA...  \n",
      "1  (Reuters) - Apple Inc has sealed multi-year li...  \n",
      "2  (Reuters) - Apple Inc has sealed multi-year li...  \n",
      "3  BEIJING/SHANGHAI (Reuters) - The video game “P...  \n",
      "4  BEIJING/SHANGHAI (Reuters) - The video game “P...  \n",
      "Start CB\n"
     ]
    },
    {
     "data": {
      "application/vnd.jupyter.widget-view+json": {
       "model_id": "0c698acf15fa468c9f0f9c32ac3dd904",
       "version_major": 2,
       "version_minor": 0
      },
      "text/plain": [
       "HBox(children=(FloatProgress(value=0.0, description='Dask Apply', max=17.0, style=ProgressStyle(description_wi…"
      ]
     },
     "metadata": {},
     "output_type": "display_data"
    },
    {
     "name": "stdout",
     "output_type": "stream",
     "text": [
      "\n",
      "                                               title        date       query  \\\n",
      "0  BRIEF-Apple Inc Says Not Allowing Entertainmen...  2020-03-15  Apple Inc.   \n",
      "1  Apple signs multi-year deals with major music ...  2020-03-12  Apple Inc.   \n",
      "2  Apple signs multi-year deals with major music ...  2020-03-12  Apple Inc.   \n",
      "3  Chinese regulators remove 'Plague Inc' game fr...  2020-02-28  Apple Inc.   \n",
      "4  UPDATE 1-Chinese regulators remove 'Plague Inc...  2020-02-28  Apple Inc.   \n",
      "\n",
      "                                             url ticker  \\\n",
      "0  https://www.reuters.com/article/idUSFWN2B61K2   AAPL   \n",
      "1  https://www.reuters.com/article/idUSKBN20Z33J   AAPL   \n",
      "2  https://www.reuters.com/article/idUSL4N2B54T2   AAPL   \n",
      "3  https://www.reuters.com/article/idUSKCN20M043   AAPL   \n",
      "4  https://www.reuters.com/article/idUSL3N2AS0OO   AAPL   \n",
      "\n",
      "                                             content  \n",
      "0  March 14 (Reuters) - Apple Inc: * APPLE INC SA...  \n",
      "1  (Reuters) - Apple Inc has sealed multi-year li...  \n",
      "2  (Reuters) - Apple Inc has sealed multi-year li...  \n",
      "3  BEIJING/SHANGHAI (Reuters) - The video game “P...  \n",
      "4  BEIJING/SHANGHAI (Reuters) - The video game “P...  \n",
      "Start GE\n"
     ]
    },
    {
     "data": {
      "application/vnd.jupyter.widget-view+json": {
       "model_id": "d654298af3494e0080d9bbf6e17a75cb",
       "version_major": 2,
       "version_minor": 0
      },
      "text/plain": [
       "HBox(children=(FloatProgress(value=0.0, description='Dask Apply', max=5.0, style=ProgressStyle(description_wid…"
      ]
     },
     "metadata": {},
     "output_type": "display_data"
    },
    {
     "name": "stdout",
     "output_type": "stream",
     "text": [
      "\n",
      "                                               title        date       query  \\\n",
      "0  BRIEF-Apple Inc Says Not Allowing Entertainmen...  2020-03-15  Apple Inc.   \n",
      "1  Apple signs multi-year deals with major music ...  2020-03-12  Apple Inc.   \n",
      "2  Apple signs multi-year deals with major music ...  2020-03-12  Apple Inc.   \n",
      "3  Chinese regulators remove 'Plague Inc' game fr...  2020-02-28  Apple Inc.   \n",
      "4  UPDATE 1-Chinese regulators remove 'Plague Inc...  2020-02-28  Apple Inc.   \n",
      "\n",
      "                                             url ticker  \\\n",
      "0  https://www.reuters.com/article/idUSFWN2B61K2   AAPL   \n",
      "1  https://www.reuters.com/article/idUSKBN20Z33J   AAPL   \n",
      "2  https://www.reuters.com/article/idUSL4N2B54T2   AAPL   \n",
      "3  https://www.reuters.com/article/idUSKCN20M043   AAPL   \n",
      "4  https://www.reuters.com/article/idUSL3N2AS0OO   AAPL   \n",
      "\n",
      "                                             content  \n",
      "0  March 14 (Reuters) - Apple Inc: * APPLE INC SA...  \n",
      "1  (Reuters) - Apple Inc has sealed multi-year li...  \n",
      "2  (Reuters) - Apple Inc has sealed multi-year li...  \n",
      "3  BEIJING/SHANGHAI (Reuters) - The video game “P...  \n",
      "4  BEIJING/SHANGHAI (Reuters) - The video game “P...  \n",
      "Start ATVI\n"
     ]
    },
    {
     "data": {
      "application/vnd.jupyter.widget-view+json": {
       "model_id": "f884ca31ac0442a0976e91ae00ed9d0b",
       "version_major": 2,
       "version_minor": 0
      },
      "text/plain": [
       "HBox(children=(FloatProgress(value=0.0, description='Dask Apply', max=30.0, style=ProgressStyle(description_wi…"
      ]
     },
     "metadata": {},
     "output_type": "display_data"
    },
    {
     "name": "stdout",
     "output_type": "stream",
     "text": [
      "\n",
      "                                               title        date       query  \\\n",
      "0  BRIEF-Apple Inc Says Not Allowing Entertainmen...  2020-03-15  Apple Inc.   \n",
      "1  Apple signs multi-year deals with major music ...  2020-03-12  Apple Inc.   \n",
      "2  Apple signs multi-year deals with major music ...  2020-03-12  Apple Inc.   \n",
      "3  Chinese regulators remove 'Plague Inc' game fr...  2020-02-28  Apple Inc.   \n",
      "4  UPDATE 1-Chinese regulators remove 'Plague Inc...  2020-02-28  Apple Inc.   \n",
      "\n",
      "                                             url ticker  \\\n",
      "0  https://www.reuters.com/article/idUSFWN2B61K2   AAPL   \n",
      "1  https://www.reuters.com/article/idUSKBN20Z33J   AAPL   \n",
      "2  https://www.reuters.com/article/idUSL4N2B54T2   AAPL   \n",
      "3  https://www.reuters.com/article/idUSKCN20M043   AAPL   \n",
      "4  https://www.reuters.com/article/idUSL3N2AS0OO   AAPL   \n",
      "\n",
      "                                             content  \n",
      "0  March 14 (Reuters) - Apple Inc: * APPLE INC SA...  \n",
      "1  (Reuters) - Apple Inc has sealed multi-year li...  \n",
      "2  (Reuters) - Apple Inc has sealed multi-year li...  \n",
      "3  BEIJING/SHANGHAI (Reuters) - The video game “P...  \n",
      "4  BEIJING/SHANGHAI (Reuters) - The video game “P...  \n",
      "Start TGT\n"
     ]
    },
    {
     "data": {
      "application/vnd.jupyter.widget-view+json": {
       "model_id": "fb4eba3823364e1bac396146f0301ae7",
       "version_major": 2,
       "version_minor": 0
      },
      "text/plain": [
       "HBox(children=(FloatProgress(value=0.0, description='Dask Apply', max=32.0, style=ProgressStyle(description_wi…"
      ]
     },
     "metadata": {},
     "output_type": "display_data"
    },
    {
     "name": "stdout",
     "output_type": "stream",
     "text": [
      "\n",
      "                                               title        date       query  \\\n",
      "0  BRIEF-Apple Inc Says Not Allowing Entertainmen...  2020-03-15  Apple Inc.   \n",
      "1  Apple signs multi-year deals with major music ...  2020-03-12  Apple Inc.   \n",
      "2  Apple signs multi-year deals with major music ...  2020-03-12  Apple Inc.   \n",
      "3  Chinese regulators remove 'Plague Inc' game fr...  2020-02-28  Apple Inc.   \n",
      "4  UPDATE 1-Chinese regulators remove 'Plague Inc...  2020-02-28  Apple Inc.   \n",
      "\n",
      "                                             url ticker  \\\n",
      "0  https://www.reuters.com/article/idUSFWN2B61K2   AAPL   \n",
      "1  https://www.reuters.com/article/idUSKBN20Z33J   AAPL   \n",
      "2  https://www.reuters.com/article/idUSL4N2B54T2   AAPL   \n",
      "3  https://www.reuters.com/article/idUSKCN20M043   AAPL   \n",
      "4  https://www.reuters.com/article/idUSL3N2AS0OO   AAPL   \n",
      "\n",
      "                                             content  \n",
      "0  March 14 (Reuters) - Apple Inc: * APPLE INC SA...  \n",
      "1  (Reuters) - Apple Inc has sealed multi-year li...  \n",
      "2  (Reuters) - Apple Inc has sealed multi-year li...  \n",
      "3  BEIJING/SHANGHAI (Reuters) - The video game “P...  \n",
      "4  BEIJING/SHANGHAI (Reuters) - The video game “P...  \n",
      "Start T\n"
     ]
    },
    {
     "data": {
      "application/vnd.jupyter.widget-view+json": {
       "model_id": "38aa8f1acf6e4ffd8006da9db150ba65",
       "version_major": 2,
       "version_minor": 0
      },
      "text/plain": [
       "HBox(children=(FloatProgress(value=0.0, description='Dask Apply', max=28.0, style=ProgressStyle(description_wi…"
      ]
     },
     "metadata": {},
     "output_type": "display_data"
    },
    {
     "name": "stdout",
     "output_type": "stream",
     "text": [
      "\n",
      "                                               title        date       query  \\\n",
      "0  BRIEF-Apple Inc Says Not Allowing Entertainmen...  2020-03-15  Apple Inc.   \n",
      "1  Apple signs multi-year deals with major music ...  2020-03-12  Apple Inc.   \n",
      "2  Apple signs multi-year deals with major music ...  2020-03-12  Apple Inc.   \n",
      "3  Chinese regulators remove 'Plague Inc' game fr...  2020-02-28  Apple Inc.   \n",
      "4  UPDATE 1-Chinese regulators remove 'Plague Inc...  2020-02-28  Apple Inc.   \n",
      "\n",
      "                                             url ticker  \\\n",
      "0  https://www.reuters.com/article/idUSFWN2B61K2   AAPL   \n",
      "1  https://www.reuters.com/article/idUSKBN20Z33J   AAPL   \n",
      "2  https://www.reuters.com/article/idUSL4N2B54T2   AAPL   \n",
      "3  https://www.reuters.com/article/idUSKCN20M043   AAPL   \n",
      "4  https://www.reuters.com/article/idUSL3N2AS0OO   AAPL   \n",
      "\n",
      "                                             content  \n",
      "0  March 14 (Reuters) - Apple Inc: * APPLE INC SA...  \n",
      "1  (Reuters) - Apple Inc has sealed multi-year li...  \n",
      "2  (Reuters) - Apple Inc has sealed multi-year li...  \n",
      "3  BEIJING/SHANGHAI (Reuters) - The video game “P...  \n",
      "4  BEIJING/SHANGHAI (Reuters) - The video game “P...  \n",
      "Start MMM\n"
     ]
    },
    {
     "data": {
      "application/vnd.jupyter.widget-view+json": {
       "model_id": "67b804f5f6ce4dcd9e0d7585ad682b7a",
       "version_major": 2,
       "version_minor": 0
      },
      "text/plain": [
       "HBox(children=(FloatProgress(value=0.0, description='Dask Apply', max=7.0, style=ProgressStyle(description_wid…"
      ]
     },
     "metadata": {},
     "output_type": "display_data"
    },
    {
     "name": "stdout",
     "output_type": "stream",
     "text": [
      "\n",
      "                                               title        date       query  \\\n",
      "0  BRIEF-Apple Inc Says Not Allowing Entertainmen...  2020-03-15  Apple Inc.   \n",
      "1  Apple signs multi-year deals with major music ...  2020-03-12  Apple Inc.   \n",
      "2  Apple signs multi-year deals with major music ...  2020-03-12  Apple Inc.   \n",
      "3  Chinese regulators remove 'Plague Inc' game fr...  2020-02-28  Apple Inc.   \n",
      "4  UPDATE 1-Chinese regulators remove 'Plague Inc...  2020-02-28  Apple Inc.   \n",
      "\n",
      "                                             url ticker  \\\n",
      "0  https://www.reuters.com/article/idUSFWN2B61K2   AAPL   \n",
      "1  https://www.reuters.com/article/idUSKBN20Z33J   AAPL   \n",
      "2  https://www.reuters.com/article/idUSL4N2B54T2   AAPL   \n",
      "3  https://www.reuters.com/article/idUSKCN20M043   AAPL   \n",
      "4  https://www.reuters.com/article/idUSL3N2AS0OO   AAPL   \n",
      "\n",
      "                                             content  \n",
      "0  March 14 (Reuters) - Apple Inc: * APPLE INC SA...  \n",
      "1  (Reuters) - Apple Inc has sealed multi-year li...  \n",
      "2  (Reuters) - Apple Inc has sealed multi-year li...  \n",
      "3  BEIJING/SHANGHAI (Reuters) - The video game “P...  \n",
      "4  BEIJING/SHANGHAI (Reuters) - The video game “P...  \n",
      "Start FIS\n"
     ]
    },
    {
     "data": {
      "application/vnd.jupyter.widget-view+json": {
       "model_id": "82b4dded0a0d414d80ffa3cedb8b2b20",
       "version_major": 2,
       "version_minor": 0
      },
      "text/plain": [
       "HBox(children=(FloatProgress(value=0.0, description='Dask Apply', max=9.0, style=ProgressStyle(description_wid…"
      ]
     },
     "metadata": {},
     "output_type": "display_data"
    },
    {
     "name": "stdout",
     "output_type": "stream",
     "text": [
      "\n",
      "                                               title        date       query  \\\n",
      "0  BRIEF-Apple Inc Says Not Allowing Entertainmen...  2020-03-15  Apple Inc.   \n",
      "1  Apple signs multi-year deals with major music ...  2020-03-12  Apple Inc.   \n",
      "2  Apple signs multi-year deals with major music ...  2020-03-12  Apple Inc.   \n",
      "3  Chinese regulators remove 'Plague Inc' game fr...  2020-02-28  Apple Inc.   \n",
      "4  UPDATE 1-Chinese regulators remove 'Plague Inc...  2020-02-28  Apple Inc.   \n",
      "\n",
      "                                             url ticker  \\\n",
      "0  https://www.reuters.com/article/idUSFWN2B61K2   AAPL   \n",
      "1  https://www.reuters.com/article/idUSKBN20Z33J   AAPL   \n",
      "2  https://www.reuters.com/article/idUSL4N2B54T2   AAPL   \n",
      "3  https://www.reuters.com/article/idUSKCN20M043   AAPL   \n",
      "4  https://www.reuters.com/article/idUSL3N2AS0OO   AAPL   \n",
      "\n",
      "                                             content  \n",
      "0  March 14 (Reuters) - Apple Inc: * APPLE INC SA...  \n",
      "1  (Reuters) - Apple Inc has sealed multi-year li...  \n",
      "2  (Reuters) - Apple Inc has sealed multi-year li...  \n",
      "3  BEIJING/SHANGHAI (Reuters) - The video game “P...  \n",
      "4  BEIJING/SHANGHAI (Reuters) - The video game “P...  \n",
      "Start NOW\n"
     ]
    },
    {
     "data": {
      "application/vnd.jupyter.widget-view+json": {
       "model_id": "d1664295d61f4789b56b399d8dc3dd47",
       "version_major": 2,
       "version_minor": 0
      },
      "text/plain": [
       "HBox(children=(FloatProgress(value=0.0, description='Dask Apply', max=21.0, style=ProgressStyle(description_wi…"
      ]
     },
     "metadata": {},
     "output_type": "display_data"
    },
    {
     "name": "stdout",
     "output_type": "stream",
     "text": [
      "\n",
      "                                               title        date       query  \\\n",
      "0  BRIEF-Apple Inc Says Not Allowing Entertainmen...  2020-03-15  Apple Inc.   \n",
      "1  Apple signs multi-year deals with major music ...  2020-03-12  Apple Inc.   \n",
      "2  Apple signs multi-year deals with major music ...  2020-03-12  Apple Inc.   \n",
      "3  Chinese regulators remove 'Plague Inc' game fr...  2020-02-28  Apple Inc.   \n",
      "4  UPDATE 1-Chinese regulators remove 'Plague Inc...  2020-02-28  Apple Inc.   \n",
      "\n",
      "                                             url ticker  \\\n",
      "0  https://www.reuters.com/article/idUSFWN2B61K2   AAPL   \n",
      "1  https://www.reuters.com/article/idUSKBN20Z33J   AAPL   \n",
      "2  https://www.reuters.com/article/idUSL4N2B54T2   AAPL   \n",
      "3  https://www.reuters.com/article/idUSKCN20M043   AAPL   \n",
      "4  https://www.reuters.com/article/idUSL3N2AS0OO   AAPL   \n",
      "\n",
      "                                             content  \n",
      "0  March 14 (Reuters) - Apple Inc: * APPLE INC SA...  \n",
      "1  (Reuters) - Apple Inc has sealed multi-year li...  \n",
      "2  (Reuters) - Apple Inc has sealed multi-year li...  \n",
      "3  BEIJING/SHANGHAI (Reuters) - The video game “P...  \n",
      "4  BEIJING/SHANGHAI (Reuters) - The video game “P...  \n",
      "Done!\n",
      "                                                    title        date  \\\n",
      "0       BRIEF-Apple Inc Says Not Allowing Entertainmen...  2020-03-15   \n",
      "1       Apple signs multi-year deals with major music ...  2020-03-12   \n",
      "2       Apple signs multi-year deals with major music ...  2020-03-12   \n",
      "3       Chinese regulators remove 'Plague Inc' game fr...  2020-02-28   \n",
      "4       UPDATE 1-Chinese regulators remove 'Plague Inc...  2020-02-28   \n",
      "...                                                   ...         ...   \n",
      "126654  SAP to streamline hardware infrastructure in d...  2019-11-12   \n",
      "126655  CORRECTED-SAP to streamline hardware infrastru...  2019-11-12   \n",
      "126659  SAP to return 1.5 bln euros to shareholders in...  2019-11-04   \n",
      "126664  SAP to return 1.5 billion euros to shareholder...  2019-11-04   \n",
      "126665  How can Generation Z compete with robots? Focu...  2019-12-16   \n",
      "\n",
      "             query                                            url ticker  \n",
      "0       Apple Inc.  https://www.reuters.com/article/idUSFWN2B61K2   AAPL  \n",
      "1       Apple Inc.  https://www.reuters.com/article/idUSKBN20Z33J   AAPL  \n",
      "2       Apple Inc.  https://www.reuters.com/article/idUSL4N2B54T2   AAPL  \n",
      "3       Apple Inc.  https://www.reuters.com/article/idUSKCN20M043   AAPL  \n",
      "4       Apple Inc.  https://www.reuters.com/article/idUSL3N2AS0OO   AAPL  \n",
      "...            ...                                            ...    ...  \n",
      "126654  ServiceNow  https://www.reuters.com/article/idUSKBN1XM2IA    NOW  \n",
      "126655  ServiceNow  https://www.reuters.com/article/idUSL8N27S7C5    NOW  \n",
      "126659  ServiceNow  https://www.reuters.com/article/idUSL3N27K40Z    NOW  \n",
      "126664  ServiceNow  https://www.reuters.com/article/idUSKBN1XE2A0    NOW  \n",
      "126665  ServiceNow  https://www.reuters.com/article/idUSL1N28L11R    NOW  \n",
      "\n",
      "[97321 rows x 5 columns]\n",
      "13118.602353811264\n"
     ]
    },
    {
     "data": {
      "text/plain": [
       "['../data/sp500_top100_content_v1.bin']"
      ]
     },
     "execution_count": 18,
     "metadata": {},
     "output_type": "execute_result"
    }
   ],
   "source": [
    "# Load data\n",
    "import swifter\n",
    "start = time.time()\n",
    "df = joblib.load(\"../data/sp500_top100_v1.bin\")\n",
    "df.drop_duplicates(subset=\"title\", inplace=True)\n",
    "df.drop_duplicates(subset=\"url\", inplace=True)\n",
    "print(\"Get content...\")\n",
    "# tqdm.pandas()\n",
    "# df[[\"content\"]] = df.progress_apply(lambda row: pd.Series(add_content(row[\"url\"])), axis=1)\n",
    "df_temp2 = pd.DataFrame()\n",
    "for ticker in df.ticker.unique().tolist():\n",
    "    print(\"Start\", ticker)\n",
    "    df_temp = df[df[\"ticker\"] == ticker]\n",
    "    df_temp[\"content\"] = df_temp[\"url\"].swifter.allow_dask_on_strings().apply(add_content, axis=1)\n",
    "    df_temp2 = pd.concat([df_temp2, df_temp], axis=0)\n",
    "    print(df_temp.head(5))\n",
    "    time.sleep(20)\n",
    "print(\"Done!\")\n",
    "print(df)\n",
    "print(time.time()-start)\n",
    "\n",
    "joblib.dump(df, \"../data/sp500_top100_content_v1.bin\", compress=5)"
   ]
  },
  {
   "cell_type": "code",
   "execution_count": 46,
   "metadata": {},
   "outputs": [
    {
     "data": {
      "text/html": [
       "<div>\n",
       "<style scoped>\n",
       "    .dataframe tbody tr th:only-of-type {\n",
       "        vertical-align: middle;\n",
       "    }\n",
       "\n",
       "    .dataframe tbody tr th {\n",
       "        vertical-align: top;\n",
       "    }\n",
       "\n",
       "    .dataframe thead th {\n",
       "        text-align: right;\n",
       "    }\n",
       "</style>\n",
       "<table border=\"1\" class=\"dataframe\">\n",
       "  <thead>\n",
       "    <tr style=\"text-align: right;\">\n",
       "      <th></th>\n",
       "      <th>title</th>\n",
       "      <th>date</th>\n",
       "      <th>query</th>\n",
       "      <th>url</th>\n",
       "      <th>ticker</th>\n",
       "      <th>content</th>\n",
       "    </tr>\n",
       "  </thead>\n",
       "  <tbody>\n",
       "    <tr>\n",
       "      <th>0</th>\n",
       "      <td>BRIEF-Apple Inc Says Not Allowing Entertainmen...</td>\n",
       "      <td>2020-03-15</td>\n",
       "      <td>Apple Inc.</td>\n",
       "      <td>https://www.reuters.com/article/idUSFWN2B61K2</td>\n",
       "      <td>AAPL</td>\n",
       "      <td>March 14 (Reuters) - Apple Inc: * APPLE INC SA...</td>\n",
       "    </tr>\n",
       "    <tr>\n",
       "      <th>1</th>\n",
       "      <td>Apple signs multi-year deals with major music ...</td>\n",
       "      <td>2020-03-12</td>\n",
       "      <td>Apple Inc.</td>\n",
       "      <td>https://www.reuters.com/article/idUSKBN20Z33J</td>\n",
       "      <td>AAPL</td>\n",
       "      <td>(Reuters) - Apple Inc has sealed multi-year li...</td>\n",
       "    </tr>\n",
       "    <tr>\n",
       "      <th>2</th>\n",
       "      <td>Apple signs multi-year deals with major music ...</td>\n",
       "      <td>2020-03-12</td>\n",
       "      <td>Apple Inc.</td>\n",
       "      <td>https://www.reuters.com/article/idUSL4N2B54T2</td>\n",
       "      <td>AAPL</td>\n",
       "      <td>(Reuters) - Apple Inc has sealed multi-year li...</td>\n",
       "    </tr>\n",
       "    <tr>\n",
       "      <th>3</th>\n",
       "      <td>Chinese regulators remove 'Plague Inc' game fr...</td>\n",
       "      <td>2020-02-28</td>\n",
       "      <td>Apple Inc.</td>\n",
       "      <td>https://www.reuters.com/article/idUSKCN20M043</td>\n",
       "      <td>AAPL</td>\n",
       "      <td>BEIJING/SHANGHAI (Reuters) - The video game “P...</td>\n",
       "    </tr>\n",
       "    <tr>\n",
       "      <th>4</th>\n",
       "      <td>UPDATE 1-Chinese regulators remove 'Plague Inc...</td>\n",
       "      <td>2020-02-28</td>\n",
       "      <td>Apple Inc.</td>\n",
       "      <td>https://www.reuters.com/article/idUSL3N2AS0OO</td>\n",
       "      <td>AAPL</td>\n",
       "      <td>BEIJING/SHANGHAI (Reuters) - The video game “P...</td>\n",
       "    </tr>\n",
       "    <tr>\n",
       "      <th>...</th>\n",
       "      <td>...</td>\n",
       "      <td>...</td>\n",
       "      <td>...</td>\n",
       "      <td>...</td>\n",
       "      <td>...</td>\n",
       "      <td>...</td>\n",
       "    </tr>\n",
       "    <tr>\n",
       "      <th>126654</th>\n",
       "      <td>SAP to streamline hardware infrastructure in d...</td>\n",
       "      <td>2019-11-12</td>\n",
       "      <td>ServiceNow</td>\n",
       "      <td>https://www.reuters.com/article/idUSKBN1XM2IA</td>\n",
       "      <td>NOW</td>\n",
       "      <td>FRANKFURT (Reuters) - German business software...</td>\n",
       "    </tr>\n",
       "    <tr>\n",
       "      <th>126655</th>\n",
       "      <td>CORRECTED-SAP to streamline hardware infrastru...</td>\n",
       "      <td>2019-11-12</td>\n",
       "      <td>ServiceNow</td>\n",
       "      <td>https://www.reuters.com/article/idUSL8N27S7C5</td>\n",
       "      <td>NOW</td>\n",
       "      <td>FRANKFURT (Reuters) - German business software...</td>\n",
       "    </tr>\n",
       "    <tr>\n",
       "      <th>126659</th>\n",
       "      <td>SAP to return 1.5 bln euros to shareholders in...</td>\n",
       "      <td>2019-11-04</td>\n",
       "      <td>ServiceNow</td>\n",
       "      <td>https://www.reuters.com/article/idUSL3N27K40Z</td>\n",
       "      <td>NOW</td>\n",
       "      <td>FRANKFURT (Reuters) - German business software...</td>\n",
       "    </tr>\n",
       "    <tr>\n",
       "      <th>126664</th>\n",
       "      <td>SAP to return 1.5 billion euros to shareholder...</td>\n",
       "      <td>2019-11-04</td>\n",
       "      <td>ServiceNow</td>\n",
       "      <td>https://www.reuters.com/article/idUSKBN1XE2A0</td>\n",
       "      <td>NOW</td>\n",
       "      <td>FRANKFURT (Reuters) - German business software...</td>\n",
       "    </tr>\n",
       "    <tr>\n",
       "      <th>126665</th>\n",
       "      <td>How can Generation Z compete with robots? Focu...</td>\n",
       "      <td>2019-12-16</td>\n",
       "      <td>ServiceNow</td>\n",
       "      <td>https://www.reuters.com/article/idUSL1N28L11R</td>\n",
       "      <td>NOW</td>\n",
       "      <td>NEW YORK (Reuters) - It sounds counterintuitiv...</td>\n",
       "    </tr>\n",
       "  </tbody>\n",
       "</table>\n",
       "<p>97321 rows × 6 columns</p>\n",
       "</div>"
      ],
      "text/plain": [
       "                                                    title        date  \\\n",
       "0       BRIEF-Apple Inc Says Not Allowing Entertainmen...  2020-03-15   \n",
       "1       Apple signs multi-year deals with major music ...  2020-03-12   \n",
       "2       Apple signs multi-year deals with major music ...  2020-03-12   \n",
       "3       Chinese regulators remove 'Plague Inc' game fr...  2020-02-28   \n",
       "4       UPDATE 1-Chinese regulators remove 'Plague Inc...  2020-02-28   \n",
       "...                                                   ...         ...   \n",
       "126654  SAP to streamline hardware infrastructure in d...  2019-11-12   \n",
       "126655  CORRECTED-SAP to streamline hardware infrastru...  2019-11-12   \n",
       "126659  SAP to return 1.5 bln euros to shareholders in...  2019-11-04   \n",
       "126664  SAP to return 1.5 billion euros to shareholder...  2019-11-04   \n",
       "126665  How can Generation Z compete with robots? Focu...  2019-12-16   \n",
       "\n",
       "             query                                            url ticker  \\\n",
       "0       Apple Inc.  https://www.reuters.com/article/idUSFWN2B61K2   AAPL   \n",
       "1       Apple Inc.  https://www.reuters.com/article/idUSKBN20Z33J   AAPL   \n",
       "2       Apple Inc.  https://www.reuters.com/article/idUSL4N2B54T2   AAPL   \n",
       "3       Apple Inc.  https://www.reuters.com/article/idUSKCN20M043   AAPL   \n",
       "4       Apple Inc.  https://www.reuters.com/article/idUSL3N2AS0OO   AAPL   \n",
       "...            ...                                            ...    ...   \n",
       "126654  ServiceNow  https://www.reuters.com/article/idUSKBN1XM2IA    NOW   \n",
       "126655  ServiceNow  https://www.reuters.com/article/idUSL8N27S7C5    NOW   \n",
       "126659  ServiceNow  https://www.reuters.com/article/idUSL3N27K40Z    NOW   \n",
       "126664  ServiceNow  https://www.reuters.com/article/idUSKBN1XE2A0    NOW   \n",
       "126665  ServiceNow  https://www.reuters.com/article/idUSL1N28L11R    NOW   \n",
       "\n",
       "                                                  content  \n",
       "0       March 14 (Reuters) - Apple Inc: * APPLE INC SA...  \n",
       "1       (Reuters) - Apple Inc has sealed multi-year li...  \n",
       "2       (Reuters) - Apple Inc has sealed multi-year li...  \n",
       "3       BEIJING/SHANGHAI (Reuters) - The video game “P...  \n",
       "4       BEIJING/SHANGHAI (Reuters) - The video game “P...  \n",
       "...                                                   ...  \n",
       "126654  FRANKFURT (Reuters) - German business software...  \n",
       "126655  FRANKFURT (Reuters) - German business software...  \n",
       "126659  FRANKFURT (Reuters) - German business software...  \n",
       "126664  FRANKFURT (Reuters) - German business software...  \n",
       "126665  NEW YORK (Reuters) - It sounds counterintuitiv...  \n",
       "\n",
       "[97321 rows x 6 columns]"
      ]
     },
     "execution_count": 46,
     "metadata": {},
     "output_type": "execute_result"
    }
   ],
   "source": [
    "joblib.dump(df_temp2, \"../data/sp500_top100_content_v1.bin\", compress=5)\n",
    "df_t = joblib.load(\"../data/sp500_top100_content_v1.bin\")\n",
    "df_t"
   ]
  },
  {
   "cell_type": "code",
   "execution_count": 47,
   "metadata": {},
   "outputs": [],
   "source": [
    "def summary(content, ratio=0.5):\n",
    "    sent_text = nltk.sent_tokenize(content)\n",
    "    hiv4_function = ps.hiv4.HIV4()\n",
    "    po = []\n",
    "    for p in sent_text:\n",
    "        tokens = hiv4_function.tokenize(p)\n",
    "        s = hiv4_function.get_score(tokens)\n",
    "        po.append(s['Polarity'])\n",
    "    res = []\n",
    "    for i, p in enumerate(po):\n",
    "        if(float(p) >= 0.85 or float(p) <= -0.85):\n",
    "            res.append(sent_text[i])\n",
    "    res_ps = \"\".join(res)\n",
    "#     bert_summarizer = Summarizer(model=\"distilbert-base-uncased\")\n",
    "#     result = bert_summarizer(content, ratio=ratio)\n",
    "#     res_bertsum = ''.join(result)\n",
    "    return res_ps"
   ]
  },
  {
   "cell_type": "code",
   "execution_count": 48,
   "metadata": {},
   "outputs": [
    {
     "data": {
      "application/vnd.jupyter.widget-view+json": {
       "model_id": "7c965970559c4febbb68dd82262cba1a",
       "version_major": 2,
       "version_minor": 0
      },
      "text/plain": [
       "HBox(children=(FloatProgress(value=0.0, description='Dask Apply', max=32.0, style=ProgressStyle(description_wi…"
      ]
     },
     "metadata": {},
     "output_type": "display_data"
    },
    {
     "name": "stdout",
     "output_type": "stream",
     "text": [
      "\n"
     ]
    }
   ],
   "source": [
    "df_t[\"ps_content\"] = df_t.swifter.allow_dask_on_strings().apply(lambda row: pd.Series(summary(row[\"content\"])), axis=1)"
   ]
  },
  {
   "cell_type": "code",
   "execution_count": 50,
   "metadata": {},
   "outputs": [
    {
     "data": {
      "text/plain": [
       "['../data/sp500_top100_content_v2.bin']"
      ]
     },
     "execution_count": 50,
     "metadata": {},
     "output_type": "execute_result"
    }
   ],
   "source": [
    "joblib.dump(df_t, \"../data/sp500_top100_content_v2.bin\", compress=5)"
   ]
  },
  {
   "cell_type": "code",
   "execution_count": 55,
   "metadata": {},
   "outputs": [],
   "source": [
    "from preprocessor import extend_df_with_cos_sim\n",
    "from preprocessor import transform_df\n",
    "\n",
    "df = df_t.copy()\n",
    "preprocessor = NewsPreprocessor(contractions_dict=contractions_dict)\n",
    "df[\"clean_ps_content\"] = df[\"ps_content\"].swifter.allow_dask_on_strings().apply(lambda x: preprocessor.ultimate_clean(x))\n",
    "df = extend_df_with_cos_sim(df=df, col=\"clean_ps_content\", labels=[\"stock\", \"finance\"], sort_by=\"stock\")"
   ]
  },
  {
   "cell_type": "code",
   "execution_count": null,
   "metadata": {},
   "outputs": [],
   "source": []
  }
 ],
 "metadata": {
  "kernelspec": {
   "display_name": "wj",
   "language": "python",
   "name": "wj"
  },
  "language_info": {
   "codemirror_mode": {
    "name": "ipython",
    "version": 3
   },
   "file_extension": ".py",
   "mimetype": "text/x-python",
   "name": "python",
   "nbconvert_exporter": "python",
   "pygments_lexer": "ipython3",
   "version": "3.7.3"
  }
 },
 "nbformat": 4,
 "nbformat_minor": 4
}
